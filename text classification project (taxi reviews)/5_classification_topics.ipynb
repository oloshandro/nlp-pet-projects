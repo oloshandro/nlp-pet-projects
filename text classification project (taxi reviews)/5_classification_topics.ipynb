{
 "cells": [
  {
   "cell_type": "code",
   "execution_count": 1,
   "metadata": {},
   "outputs": [
    {
     "name": "stderr",
     "output_type": "stream",
     "text": [
      "[nltk_data] Downloading package punkt to\n",
      "[nltk_data]     C:\\Users\\olkos\\AppData\\Roaming\\nltk_data...\n",
      "[nltk_data]   Package punkt is already up-to-date!\n",
      "[nltk_data] Downloading package wordnet to\n",
      "[nltk_data]     C:\\Users\\olkos\\AppData\\Roaming\\nltk_data...\n",
      "[nltk_data]   Package wordnet is already up-to-date!\n"
     ]
    }
   ],
   "source": [
    "\n",
    "import joblib \n",
    "\n",
    "from sklearn import metrics\n",
    "from sklearn.metrics import f1_score, hamming_loss, precision_score, recall_score, accuracy_score\n",
    "from sklearn.feature_extraction.text import TfidfVectorizer, CountVectorizer\n",
    "from sklearn.model_selection import train_test_split\n",
    "from sklearn.naive_bayes import MultinomialNB\n",
    "from sklearn.multiclass import OneVsRestClassifier\n",
    "from sklearn.svm import LinearSVC\n",
    "from sklearn.linear_model import LogisticRegression\n",
    "from sklearn.pipeline import Pipeline\n",
    "\n",
    "# Corpus Processing\n",
    "import re\n",
    "import nltk\n",
    "nltk.download('punkt')\n",
    "nltk.download('wordnet')\n",
    "\n",
    "from nltk import word_tokenize, sent_tokenize # tokenizing\n",
    "from nltk.stem import WordNetLemmatizer  # lammatizer from WordNet\n",
    "\n",
    "\n"
   ]
  },
  {
   "cell_type": "code",
   "execution_count": 2,
   "metadata": {},
   "outputs": [],
   "source": [
    "# importing necessary libraries to manipulate the data sources \n",
    "import os\n",
    "import csv\n",
    "import pandas as pd\n",
    "import numpy as np\n",
    "import matplotlib.pyplot as plt\n",
    "import seaborn as sns"
   ]
  },
  {
   "cell_type": "code",
   "execution_count": 3,
   "metadata": {},
   "outputs": [
    {
     "data": {
      "text/html": [
       "<div>\n",
       "<style scoped>\n",
       "    .dataframe tbody tr th:only-of-type {\n",
       "        vertical-align: middle;\n",
       "    }\n",
       "\n",
       "    .dataframe tbody tr th {\n",
       "        vertical-align: top;\n",
       "    }\n",
       "\n",
       "    .dataframe thead th {\n",
       "        text-align: right;\n",
       "    }\n",
       "</style>\n",
       "<table border=\"1\" class=\"dataframe\">\n",
       "  <thead>\n",
       "    <tr style=\"text-align: right;\">\n",
       "      <th></th>\n",
       "      <th>index</th>\n",
       "      <th>custom_comment</th>\n",
       "      <th>sentiment</th>\n",
       "      <th>1 Pricing and Fairness</th>\n",
       "      <th>2 Driver professionalism</th>\n",
       "      <th>3 Driver behaviour</th>\n",
       "      <th>4 Customer Service</th>\n",
       "      <th>5 Application</th>\n",
       "      <th>6 Lost things</th>\n",
       "      <th>7 Vehicle Condition</th>\n",
       "      <th>8 Safety &amp; reliability</th>\n",
       "      <th>9 General bad</th>\n",
       "      <th>10 Other</th>\n",
       "    </tr>\n",
       "  </thead>\n",
       "  <tbody>\n",
       "    <tr>\n",
       "      <th>0</th>\n",
       "      <td>49</td>\n",
       "      <td>The driver didn’t pay back the rest of the money</td>\n",
       "      <td>-1</td>\n",
       "      <td>1</td>\n",
       "      <td>0</td>\n",
       "      <td>1</td>\n",
       "      <td>0</td>\n",
       "      <td>0</td>\n",
       "      <td>0</td>\n",
       "      <td>0</td>\n",
       "      <td>0</td>\n",
       "      <td>0</td>\n",
       "      <td>0</td>\n",
       "    </tr>\n",
       "    <tr>\n",
       "      <th>1</th>\n",
       "      <td>2247</td>\n",
       "      <td>He is the worst driver in Utaxi and I would de...</td>\n",
       "      <td>-1</td>\n",
       "      <td>0</td>\n",
       "      <td>0</td>\n",
       "      <td>1</td>\n",
       "      <td>0</td>\n",
       "      <td>0</td>\n",
       "      <td>0</td>\n",
       "      <td>0</td>\n",
       "      <td>0</td>\n",
       "      <td>0</td>\n",
       "      <td>0</td>\n",
       "    </tr>\n",
       "    <tr>\n",
       "      <th>2</th>\n",
       "      <td>2272</td>\n",
       "      <td>A simple “hello” or response would be perfect....</td>\n",
       "      <td>-1</td>\n",
       "      <td>0</td>\n",
       "      <td>0</td>\n",
       "      <td>1</td>\n",
       "      <td>0</td>\n",
       "      <td>0</td>\n",
       "      <td>0</td>\n",
       "      <td>0</td>\n",
       "      <td>0</td>\n",
       "      <td>0</td>\n",
       "      <td>0</td>\n",
       "    </tr>\n",
       "    <tr>\n",
       "      <th>3</th>\n",
       "      <td>3229</td>\n",
       "      <td>Not so great service</td>\n",
       "      <td>-1</td>\n",
       "      <td>0</td>\n",
       "      <td>0</td>\n",
       "      <td>0</td>\n",
       "      <td>0</td>\n",
       "      <td>0</td>\n",
       "      <td>0</td>\n",
       "      <td>0</td>\n",
       "      <td>0</td>\n",
       "      <td>1</td>\n",
       "      <td>0</td>\n",
       "    </tr>\n",
       "    <tr>\n",
       "      <th>4</th>\n",
       "      <td>3576</td>\n",
       "      <td>Worst driver ever, he’s a racist was screaming...</td>\n",
       "      <td>-1</td>\n",
       "      <td>0</td>\n",
       "      <td>0</td>\n",
       "      <td>1</td>\n",
       "      <td>0</td>\n",
       "      <td>0</td>\n",
       "      <td>0</td>\n",
       "      <td>0</td>\n",
       "      <td>0</td>\n",
       "      <td>0</td>\n",
       "      <td>0</td>\n",
       "    </tr>\n",
       "  </tbody>\n",
       "</table>\n",
       "</div>"
      ],
      "text/plain": [
       "   index                                     custom_comment  sentiment  \\\n",
       "0     49   The driver didn’t pay back the rest of the money         -1   \n",
       "1   2247  He is the worst driver in Utaxi and I would de...         -1   \n",
       "2   2272  A simple “hello” or response would be perfect....         -1   \n",
       "3   3229                               Not so great service         -1   \n",
       "4   3576  Worst driver ever, he’s a racist was screaming...         -1   \n",
       "\n",
       "   1 Pricing and Fairness  2 Driver professionalism  3 Driver behaviour  \\\n",
       "0                       1                         0                   1   \n",
       "1                       0                         0                   1   \n",
       "2                       0                         0                   1   \n",
       "3                       0                         0                   0   \n",
       "4                       0                         0                   1   \n",
       "\n",
       "   4 Customer Service  5 Application  6 Lost things  7 Vehicle Condition  \\\n",
       "0                   0              0              0                    0   \n",
       "1                   0              0              0                    0   \n",
       "2                   0              0              0                    0   \n",
       "3                   0              0              0                    0   \n",
       "4                   0              0              0                    0   \n",
       "\n",
       "   8 Safety & reliability  9 General bad  10 Other  \n",
       "0                       0              0         0  \n",
       "1                       0              0         0  \n",
       "2                       0              0         0  \n",
       "3                       0              1         0  \n",
       "4                       0              0         0  "
      ]
     },
     "execution_count": 3,
     "metadata": {},
     "output_type": "execute_result"
    }
   ],
   "source": [
    "# loading dataset\n",
    "reviews = pd.read_csv(\"annotated_data_topic_classification.csv\", encoding='utf-8')\n",
    "reviews.head(5)"
   ]
  },
  {
   "attachments": {},
   "cell_type": "markdown",
   "metadata": {},
   "source": [
    "#### Exploratory Data Analysis (EDA)"
   ]
  },
  {
   "cell_type": "code",
   "execution_count": 4,
   "metadata": {},
   "outputs": [
    {
     "name": "stdout",
     "output_type": "stream",
     "text": [
      "Number of rows in data = 4760\n",
      "Number of columns in data = 13\n"
     ]
    }
   ],
   "source": [
    "print(\"Number of rows in data =\", reviews.shape[0])\n",
    "print(\"Number of columns in data =\", reviews.shape[1])"
   ]
  },
  {
   "cell_type": "code",
   "execution_count": 5,
   "metadata": {},
   "outputs": [
    {
     "name": "stdout",
     "output_type": "stream",
     "text": [
      "index                       0\n",
      "custom_comment              0\n",
      "sentiment                   0\n",
      "1 Pricing and Fairness      0\n",
      "2 Driver professionalism    0\n",
      "3 Driver behaviour          0\n",
      "4 Customer Service          0\n",
      "5 Application               0\n",
      "6 Lost things               0\n",
      "7 Vehicle Condition         0\n",
      "8 Safety & reliability      0\n",
      "9 General bad               0\n",
      "10 Other                    0\n",
      "dtype: int64\n"
     ]
    }
   ],
   "source": [
    "# Checking for missing values\n",
    "missing_values_check = reviews.isnull().sum()\n",
    "print(missing_values_check)"
   ]
  },
  {
   "cell_type": "code",
   "execution_count": 6,
   "metadata": {},
   "outputs": [
    {
     "name": "stdout",
     "output_type": "stream",
     "text": [
      "['1 Pricing and Fairness', '2 Driver professionalism', '3 Driver behaviour', '4 Customer Service', '5 Application', '6 Lost things', '7 Vehicle Condition', '8 Safety & reliability', '9 General bad', '10 Other']\n"
     ]
    }
   ],
   "source": [
    "categories = reviews.columns.values[3:]\n",
    "categories = categories.tolist()\n",
    "\n",
    "print(categories)"
   ]
  },
  {
   "cell_type": "code",
   "execution_count": 7,
   "metadata": {},
   "outputs": [
    {
     "data": {
      "text/html": [
       "<div>\n",
       "<style scoped>\n",
       "    .dataframe tbody tr th:only-of-type {\n",
       "        vertical-align: middle;\n",
       "    }\n",
       "\n",
       "    .dataframe tbody tr th {\n",
       "        vertical-align: top;\n",
       "    }\n",
       "\n",
       "    .dataframe thead th {\n",
       "        text-align: right;\n",
       "    }\n",
       "</style>\n",
       "<table border=\"1\" class=\"dataframe\">\n",
       "  <thead>\n",
       "    <tr style=\"text-align: right;\">\n",
       "      <th></th>\n",
       "      <th>category</th>\n",
       "      <th>number of comments</th>\n",
       "    </tr>\n",
       "  </thead>\n",
       "  <tbody>\n",
       "    <tr>\n",
       "      <th>0</th>\n",
       "      <td>1 Pricing and Fairness</td>\n",
       "      <td>1189</td>\n",
       "    </tr>\n",
       "    <tr>\n",
       "      <th>1</th>\n",
       "      <td>2 Driver professionalism</td>\n",
       "      <td>1708</td>\n",
       "    </tr>\n",
       "    <tr>\n",
       "      <th>2</th>\n",
       "      <td>3 Driver behaviour</td>\n",
       "      <td>1933</td>\n",
       "    </tr>\n",
       "    <tr>\n",
       "      <th>3</th>\n",
       "      <td>4 Customer Service</td>\n",
       "      <td>211</td>\n",
       "    </tr>\n",
       "    <tr>\n",
       "      <th>4</th>\n",
       "      <td>5 Application</td>\n",
       "      <td>108</td>\n",
       "    </tr>\n",
       "    <tr>\n",
       "      <th>5</th>\n",
       "      <td>6 Lost things</td>\n",
       "      <td>82</td>\n",
       "    </tr>\n",
       "    <tr>\n",
       "      <th>6</th>\n",
       "      <td>7 Vehicle Condition</td>\n",
       "      <td>247</td>\n",
       "    </tr>\n",
       "    <tr>\n",
       "      <th>7</th>\n",
       "      <td>8 Safety &amp; reliability</td>\n",
       "      <td>542</td>\n",
       "    </tr>\n",
       "    <tr>\n",
       "      <th>8</th>\n",
       "      <td>9 General bad</td>\n",
       "      <td>142</td>\n",
       "    </tr>\n",
       "    <tr>\n",
       "      <th>9</th>\n",
       "      <td>10 Other</td>\n",
       "      <td>347</td>\n",
       "    </tr>\n",
       "  </tbody>\n",
       "</table>\n",
       "</div>"
      ],
      "text/plain": [
       "                   category  number of comments\n",
       "0    1 Pricing and Fairness                1189\n",
       "1  2 Driver professionalism                1708\n",
       "2        3 Driver behaviour                1933\n",
       "3        4 Customer Service                 211\n",
       "4             5 Application                 108\n",
       "5             6 Lost things                  82\n",
       "6       7 Vehicle Condition                 247\n",
       "7    8 Safety & reliability                 542\n",
       "8             9 General bad                 142\n",
       "9                  10 Other                 347"
      ]
     },
     "execution_count": 7,
     "metadata": {},
     "output_type": "execute_result"
    }
   ],
   "source": [
    "# Calculating number of comments in each category\n",
    "\n",
    "counts = []\n",
    "for category in categories:\n",
    "    counts.append((category, reviews[category].sum()))\n",
    "df_stats = pd.DataFrame(counts, columns=['category', 'number of comments'])\n",
    "df_stats"
   ]
  },
  {
   "cell_type": "code",
   "execution_count": 8,
   "metadata": {},
   "outputs": [
    {
     "data": {
      "text/plain": [
       "Text(0.5, 0, 'Comment Type ')"
      ]
     },
     "execution_count": 8,
     "metadata": {},
     "output_type": "execute_result"
    },
    {
     "data": {
      "image/png": "[encoded data removed]",
      "text/plain": [
       "<Figure size 800x500 with 1 Axes>"
      ]
     },
     "metadata": {},
     "output_type": "display_data"
    }
   ],
   "source": [
    "df_stats.plot(x='category', y='number of comments', kind='bar', legend=False, grid=True, figsize=(8, 5))\n",
    "\n",
    "plt.title(\"Comments in each category\", fontsize=12)\n",
    "plt.ylabel('Number of comments', fontsize=12)\n",
    "plt.xlabel('Comment Type ', fontsize=10)\n"
   ]
  },
  {
   "cell_type": "code",
   "execution_count": 10,
   "metadata": {},
   "outputs": [
    {
     "data": {
      "text/plain": [
       "<AxesSubplot:>"
      ]
     },
     "execution_count": 10,
     "metadata": {},
     "output_type": "execute_result"
    },
    {
     "data": {
      "image/png": "[encoded data removed]",
      "text/plain": [
       "<Figure size 640x480 with 1 Axes>"
      ]
     },
     "metadata": {},
     "output_type": "display_data"
    }
   ],
   "source": [
    "lens = reviews.custom_comment.str.len()\n",
    "lens.hist(bins = np.arange(0,5000,50))"
   ]
  },
  {
   "attachments": {},
   "cell_type": "markdown",
   "metadata": {},
   "source": [
    "#### data cleaning & preprocessing:"
   ]
  },
  {
   "cell_type": "code",
   "execution_count": 11,
   "metadata": {},
   "outputs": [],
   "source": [
    "stopwords = ['a', 'about', 'an', 'am' 'and', 'are', 'as', 'at', 'be', 'been', 'but', 'by', 'can', \\\n",
    "             'even', 'ever', 'for', 'from', 'get', 'had', 'has', 'have', 'he', 'her', 'hers', 'his', \\\n",
    "             'how', 'i', 'if', 'in', 'into', 'is', 'it', 'its', 'just', 'me', 'my', 'of', 'on', 'or', \\\n",
    "             'see', 'seen', 'she', 'so', 'than', 'that', 'the', 'their', 'there', 'they', 'this', \\\n",
    "             'to', 'was', 'we', 'were', 'what', 'when', 'which', 'who', 'will', 'with', 'you']\n",
    "\n",
    "\n",
    "short_forms = {\n",
    "    \"don't\": \"do not\",\n",
    "    \"can't\": \"cannot\",\n",
    "    \"won't\": \"will not\",\n",
    "    \"shouldn't\": \"should not\",\n",
    "    \"wouldn't\": \"would not\",\n",
    "    \"didn't\": \"did not\",\n",
    "    \"doesn't\": \"does not\",\n",
    "    \"isn't\": \"is not\",\n",
    "    \"aren't\": \"are not\",\n",
    "    \"wasn't\": \"was not\",\n",
    "    \"weren't\": \"were not\",\n",
    "    \"hasn't\": \"has not\",\n",
    "    \"haven't\": \"have not\",\n",
    "    \"it's\": \"it is\",\n",
    "    \"I'm\": \"I am\",\n",
    "    \"you're\": \"you are\",\n",
    "    \"he's\": \"he is\",\n",
    "    \"she's\": \"she is\",\n",
    "    \"we're\": \"we are\",\n",
    "    \"they're\": \"they are\",\n",
    "    \"I've\": \"I have\",\n",
    "    \"you've\": \"you have\",\n",
    "    \"we've\": \"we have\",\n",
    "    \"they've\": \"they have\",\n",
    "    \"couldn't\": \"could not\",\n",
    "    \"should've\": \"should have\",\n",
    "    \"would've\": \"would have\",\n",
    "    \"might've\": \"might have\",\n",
    "    \"must've\": \"must have\",\n",
    "    # Add more short forms and their full forms as needed\n",
    "}\n",
    "\n",
    "def replace_short_forms(text):\n",
    "    # Create a regular expression pattern to match short forms as standalone words\n",
    "    pattern = r'\\b(?:{})\\b'.format('|'.join(short_forms.keys()), re.IGNORECASE)\n",
    "    \n",
    "    # Replace short forms with their corresponding full forms using a lambda function\n",
    "    full_forms_text = re.sub(pattern, lambda match: short_forms[match.group(0)], text)\n",
    "    \n",
    "    return full_forms_text\n",
    "\n",
    "\n",
    "# (?) remove quotation marks, unnecessary punctuation, [{}[]\\/+*%|^%#@!?()]\n",
    "def punctuation_remover(text):\n",
    "    pattern = r'[{}\\[\\]\\\\\\/\\+\\*%\\|\\^%#@\\(\\)\\$\\\"]'\n",
    "    return re.sub(pattern, ' ', text)\n",
    "\n",
    "# lemmatizing, tokenization, isalpha, stopwords\n",
    "def lemma_stopwords_token(text):\n",
    "      le=WordNetLemmatizer()\n",
    "      word_tokens=nltk.word_tokenize(text)\n",
    "      word_tokens =[token for token in word_tokens if token.isalpha()]\n",
    "      tokens=[le.lemmatize(token) for token in word_tokens if token not in stopwords and len(token)>2]\n",
    "      processed_text =\" \".join(tokens)\n",
    "      return processed_text\n",
    "\n",
    "\n",
    "# main preprocessing function\n",
    "def preprocessing(text):\n",
    "    reviews = replace_short_forms(text)\n",
    "    reviews = punctuation_remover(reviews)\n",
    "    reviews = lemma_stopwords_token(text)\n",
    "    return reviews\n"
   ]
  },
  {
   "attachments": {},
   "cell_type": "markdown",
   "metadata": {},
   "source": [
    "#### data split"
   ]
  },
  {
   "cell_type": "code",
   "execution_count": 15,
   "metadata": {},
   "outputs": [],
   "source": [
    "# download reviews from dataset and preprocess them\n",
    "data = [preprocessing(custom_comment) for custom_comment in reviews['custom_comment'].to_list()]\n",
    "\n",
    "\n",
    "topics = reviews.columns.values[3:]\n",
    "topics = topics.tolist()\n",
    "labels = reviews[topics].values\n"
   ]
  },
  {
   "cell_type": "code",
   "execution_count": 18,
   "metadata": {},
   "outputs": [],
   "source": [
    "# Extract features from the preprocessed data and fit it\n",
    "vectorizer = TfidfVectorizer()\n",
    "features = vectorizer.fit_transform(data)"
   ]
  },
  {
   "cell_type": "code",
   "execution_count": 19,
   "metadata": {},
   "outputs": [],
   "source": [
    "# Split the data into training and testing sets using features\n",
    "X_train, X_test, y_train, y_test = train_test_split(features, labels, test_size=0.2, random_state=42)\n",
    "\n",
    "# # Split the data into training and testing sets using raw text\n",
    "# X_train, X_test, y_train, y_test = train_test_split(data, labels, test_size=0.2, random_state=42)"
   ]
  },
  {
   "cell_type": "markdown",
   "metadata": {},
   "source": [
    "using different approaches to splitting data"
   ]
  },
  {
   "cell_type": "code",
   "execution_count": 36,
   "metadata": {},
   "outputs": [
    {
     "name": "stdout",
     "output_type": "stream",
     "text": [
      "Collecting iterative-stratification\n",
      "  Downloading iterative_stratification-0.1.7-py3-none-any.whl (8.5 kB)\n",
      "Requirement already satisfied: numpy in c:\\users\\olkos\\appdata\\local\\programs\\python\\python310\\lib\\site-packages (from iterative-stratification) (1.24.2)\n",
      "Requirement already satisfied: scipy in c:\\users\\olkos\\appdata\\local\\programs\\python\\python310\\lib\\site-packages (from iterative-stratification) (1.8.1)\n",
      "Requirement already satisfied: scikit-learn in c:\\users\\olkos\\appdata\\local\\programs\\python\\python310\\lib\\site-packages (from iterative-stratification) (1.1.3)\n",
      "Requirement already satisfied: joblib>=1.0.0 in c:\\users\\olkos\\appdata\\local\\programs\\python\\python310\\lib\\site-packages (from scikit-learn->iterative-stratification) (1.2.0)\n",
      "Requirement already satisfied: threadpoolctl>=2.0.0 in c:\\users\\olkos\\appdata\\local\\programs\\python\\python310\\lib\\site-packages (from scikit-learn->iterative-stratification) (3.1.0)\n",
      "Installing collected packages: iterative-stratification\n",
      "Successfully installed iterative-stratification-0.1.7\n"
     ]
    }
   ],
   "source": [
    "# !pip install iterative-stratification"
   ]
  },
  {
   "cell_type": "code",
   "execution_count": 55,
   "metadata": {},
   "outputs": [],
   "source": [
    "from skmultilearn.model_selection import iterative_train_test_split\n",
    "# X_train, y_train, X_test, y_test = iterative_train_test_split(features, labels, test_size = 0.5)"
   ]
  },
  {
   "cell_type": "code",
   "execution_count": 69,
   "metadata": {},
   "outputs": [],
   "source": [
    "from skmultilearn.model_selection import iterative_train_test_split\n",
    "from sklearn.preprocessing import MultiLabelBinarizer\n",
    "\n",
    "mlb = MultiLabelBinarizer()\n",
    "binary_topics = mlb.fit_transform(topics)\n",
    "# print(binary_topics)\n",
    "\n",
    "# ?? \n",
    "X_train, X_test, y_train, y_test = iterative_train_test_split(features, binary_topics, test_size=0.2)\n"
   ]
  },
  {
   "cell_type": "code",
   "execution_count": 56,
   "metadata": {},
   "outputs": [],
   "source": [
    "from iterstrat.ml_stratifiers import MultilabelStratifiedKFold\n",
    "\n",
    "# mskf = MultilabelStratifiedKFold(n_splits=2, shuffle=True, random_state=0)\n",
    "\n",
    "# for train_index, test_index in mskf.split(features, labels):\n",
    "#    # print(\"TRAIN:\", train_index, \"TEST:\", test_index)\n",
    "#    X_train, X_test = features[train_index], features[test_index]\n",
    "#    y_train, y_test = labels[train_index], labels[test_index]"
   ]
  },
  {
   "attachments": {},
   "cell_type": "markdown",
   "metadata": {},
   "source": [
    "#### Pipeline to  fit & train the model,  run predictions and analyze the results "
   ]
  },
  {
   "attachments": {},
   "cell_type": "markdown",
   "metadata": {},
   "source": [
    "**Naive Bayes**\n",
    "\n",
    " *Naive Bayes supports multi-class, but we are in a multi-label scenario, therefore, we wrapp Naive Bayes in the OneVsRestClassifier.*\n"
   ]
  },
  {
   "cell_type": "code",
   "execution_count": 20,
   "metadata": {},
   "outputs": [
    {
     "name": "stdout",
     "output_type": "stream",
     "text": [
      "Test accuracy is 0.5252100840336135\n"
     ]
    }
   ],
   "source": [
    "NB_pipeline = Pipeline([('clf', OneVsRestClassifier(MultinomialNB(fit_prior=True, class_prior=None)))])\n",
    "\n",
    "NB_pipeline.fit(X_train, y_train)\n",
    "prediction = NB_pipeline.predict(X_test)\n",
    "print('Test accuracy is {}'.format(accuracy_score(y_test, prediction)))\n"
   ]
  },
  {
   "attachments": {},
   "cell_type": "markdown",
   "metadata": {},
   "source": [
    "**Logistic Regression**"
   ]
  },
  {
   "cell_type": "code",
   "execution_count": 21,
   "metadata": {},
   "outputs": [
    {
     "name": "stdout",
     "output_type": "stream",
     "text": [
      "Test accuracy is 0.5546218487394958\n"
     ]
    }
   ],
   "source": [
    "LogReg_pipeline = Pipeline([\n",
    "                ('clf', OneVsRestClassifier(LogisticRegression(solver='sag'), n_jobs=1)),\n",
    "            ])\n",
    "\n",
    "LogReg_pipeline.fit(X_train, y_train)\n",
    "prediction = LogReg_pipeline.predict(X_test)\n",
    "print('Test accuracy is {}'.format(accuracy_score(y_test, prediction)))"
   ]
  },
  {
   "cell_type": "code",
   "execution_count": 25,
   "metadata": {},
   "outputs": [
    {
     "data": {
      "text/plain": [
       "['model_topic_classification_LogReg.joblib']"
      ]
     },
     "execution_count": 25,
     "metadata": {},
     "output_type": "execute_result"
    }
   ],
   "source": [
    "# Save the trained model for later use\n",
    "joblib.dump(LogReg_pipeline, 'model_topic_classification_LogReg.joblib')"
   ]
  },
  {
   "attachments": {},
   "cell_type": "markdown",
   "metadata": {},
   "source": [
    "**LinearSVC**"
   ]
  },
  {
   "cell_type": "code",
   "execution_count": 22,
   "metadata": {},
   "outputs": [
    {
     "name": "stdout",
     "output_type": "stream",
     "text": [
      "Test accuracy is 0.6207983193277311\n"
     ]
    }
   ],
   "source": [
    "# SVC_pipeline = Pipeline([\n",
    "#                 ('tfidf', TfidfVectorizer()),\n",
    "#                 ('clf', OneVsRestClassifier(LinearSVC(), n_jobs=1)),\n",
    "#             ])\n",
    "SVC_pipeline = OneVsRestClassifier(LinearSVC(), n_jobs=1)\n",
    "\n",
    "SVC_pipeline.fit(X_train, y_train)\n",
    "prediction = SVC_pipeline.predict(X_test)\n",
    "print('Test accuracy is {}'.format(accuracy_score(y_test, prediction)))"
   ]
  },
  {
   "cell_type": "code",
   "execution_count": 26,
   "metadata": {},
   "outputs": [
    {
     "data": {
      "text/plain": [
       "['model_topic_classification_SVC.joblib']"
      ]
     },
     "execution_count": 26,
     "metadata": {},
     "output_type": "execute_result"
    }
   ],
   "source": [
    "# Save the trained model for later use\n",
    "joblib.dump(SVC_pipeline, 'model_topic_classification_SVC.joblib')\n",
    "\n",
    "# Load the saved model and classify new news examples\n",
    "# clf = joblib.load('model_topic_classification.joblib')"
   ]
  },
  {
   "cell_type": "code",
   "execution_count": 23,
   "metadata": {},
   "outputs": [
    {
     "name": "stdout",
     "output_type": "stream",
     "text": [
      "0. The driver started idle\n",
      "  - Predicted as: '['1 Pricing and Fairness']'\n",
      "\n",
      "1. driver is a cheat\n",
      "  - Predicted as: '['1 Pricing and Fairness', '3 Driver behaviour']'\n",
      "\n",
      "2. The drivers behaviour is inappropriate\n",
      "  - Predicted as: '['3 Driver behaviour']'\n",
      "\n",
      "3. I had a couple of rides with your service before and they were nice, but this time there wasn't a seatbelt which I believe is totally not OK. and the driver just said Are yoou going or not??\n",
      "  - Predicted as: '['3 Driver behaviour']'\n",
      "\n",
      "4. I lost my laptop!\n",
      "  - Predicted as: '[]'\n",
      "\n",
      "5. driver is a cheat. I lost my laptop!\n",
      "  - Predicted as: '['3 Driver behaviour']'\n",
      "\n",
      "6. bad\n",
      "  - Predicted as: '['9 General bad']'\n",
      "\n",
      "7. your customer service never replies\n",
      "  - Predicted as: '['4 Customer Service']'\n",
      "\n",
      "8. bad smell\n",
      "  - Predicted as: '['7 Vehicle Condition']'\n",
      "\n",
      "9. want refund\n",
      "  - Predicted as: '['1 Pricing and Fairness']'\n",
      "\n"
     ]
    }
   ],
   "source": [
    "loaded_model = joblib.load('model_topic_classification_SVC.joblib')\n",
    "# loaded_model2 = joblib.load('model_LabelPowerset_classification.joblib')\n",
    "\n",
    "def prepare_new_reviews(text):\n",
    "  \"\"\"\n",
    "  Prepare new text for model testing: preprocess it, vectorize, predict label and return it\n",
    "  \"\"\"\n",
    "  text = preprocessing(text)\n",
    "  feature = vectorizer.transform([text])\n",
    "  prediction = loaded_model.predict(feature)\n",
    "  \n",
    "  topics = ['1 Pricing and Fairness', '2 Driver professionalism', '3 Driver behaviour', '4 Customer Service', '5 Application', '6 Lost things', '7 Vehicle Condition', '8 Safety & reliability', '9 General bad', '10 Other']\n",
    "  predicted_topics = []\n",
    "  for i, topic in enumerate(topics):\n",
    "    if prediction[0,i] == 1:\n",
    "    # if prediction[0][i] == 1:\n",
    "      predicted_topics.append(topic)\n",
    "  return predicted_topics\n",
    "  \n",
    "\n",
    "# in this list you can indicate which news to classify\n",
    "reviews_example = [\n",
    "  \"The driver started idle\",\n",
    "                \"\"\"driver is a cheat\"\"\",\n",
    "                \"\"\"The drivers behaviour is inappropriate\"\"\",\n",
    "                \"\"\"I had a couple of rides with your service before and they were nice, but this time there wasn't a seatbelt which I believe is totally not OK. and the driver just said Are yoou going or not??\"\"\",\n",
    "                \"\"\"I lost my laptop!\"\"\",\n",
    "                \"\"\"driver is a cheat. I lost my laptop!\"\"\",\n",
    "                \"\"\"bad\"\"\",\n",
    "                \"\"\"your customer service never replies\"\"\",\n",
    "                \"\"\"bad smell\"\"\",\n",
    "                \"\"\"want refund\"\"\"]\n",
    "\n",
    "for i, review in enumerate(reviews_example):\n",
    "  # print(f\"{review[0]}. {prepare_new_reviews(review[1])}\")\n",
    "  print(f\"{i}. {review}\")\n",
    "  print(f\"  - Predicted as: '{prepare_new_reviews(review)}'\")\n",
    "  print(\"\")\n"
   ]
  },
  {
   "attachments": {},
   "cell_type": "markdown",
   "metadata": {},
   "source": [
    "#### adding SMOTE Technique *(Synthetic Minority Oversampling Technique)*"
   ]
  },
  {
   "cell_type": "code",
   "execution_count": null,
   "metadata": {},
   "outputs": [],
   "source": [
    "# !pip install imbalanced-learn"
   ]
  },
  {
   "cell_type": "code",
   "execution_count": 26,
   "metadata": {},
   "outputs": [],
   "source": [
    "# from imblearn.over_sampling import MLkNN \n",
    "# from collections import Counter\n",
    "# from sklearn.preprocessing import LabelEncoder\n",
    "\n",
    "# # label encode the target variable\n",
    "# # y_train = LabelEncoder().fit_transform(y_train)\n",
    "\n",
    "\n",
    "# counter = Counter(tuple(label) for label in y_train)\n",
    "# print('Before', counter)\n",
    "\n",
    "# # oversampling the train dataset using SMOTE\n",
    "# mlsmote = MLkNN()\n",
    "\n",
    "# #X_train, y_train = smt.fit_resample(X_train, y_train)\n",
    "# X_train_resampled, y_train_resampled = mlsmote.fit_resample(X_train, y_train)\n",
    "\n",
    "# counter = Counter(y_train_resampled)\n",
    "# for k,v in counter.items():\n",
    "#     per = v / len(y) * 100\n",
    "#     print('Class=%d, n=%d (%.3f%%)' % (k, v, per))\n"
   ]
  },
  {
   "attachments": {},
   "cell_type": "markdown",
   "metadata": {},
   "source": [
    "#### extra training"
   ]
  },
  {
   "cell_type": "code",
   "execution_count": 27,
   "metadata": {},
   "outputs": [
    {
     "name": "stdout",
     "output_type": "stream",
     "text": [
      "Requirement already satisfied: scikit-multilearn in c:\\users\\olkos\\appdata\\local\\programs\\python\\python310\\lib\\site-packages (0.2.0)\n"
     ]
    }
   ],
   "source": [
    "# !pip install scikit-multilearn"
   ]
  },
  {
   "cell_type": "code",
   "execution_count": null,
   "metadata": {},
   "outputs": [],
   "source": [
    "from skmultilearn.problem_transform import BinaryRelevance\n",
    "from sklearn.naive_bayes import GaussianNB\n",
    "\n",
    "BinaryRelevance_pipeline = Pipeline([\n",
    "                ('clf', BinaryRelevance(LogisticRegression(solver='sag'))),\n",
    "            ])\n",
    "\n",
    "\n",
    "BinaryRelevance_pipeline.fit(X_train, y_train)\n",
    "prediction = BinaryRelevance_pipeline.predict(X_test)\n",
    "print('Test accuracy is {}'.format(accuracy_score(y_test, prediction)))\n",
    "print('F1 score is ',f1_score(y_test, prediction, average=\"micro\"))\n",
    "print('Hamming Loss is ', hamming_loss(y_test, prediction))"
   ]
  },
  {
   "cell_type": "code",
   "execution_count": null,
   "metadata": {},
   "outputs": [],
   "source": [
    "# using Label Powerset\n",
    "from skmultilearn.problem_transform import LabelPowerset\n",
    "\n",
    "# initialize label powerset multi-label classifier\n",
    "LabelPowerset_pipeline = Pipeline([\n",
    "                ('clf', LabelPowerset(LogisticRegression(solver='sag'))),\n",
    "            ])\n",
    "\n",
    "LabelPowerset_pipeline.fit(X_train, y_train)\n",
    "prediction = LabelPowerset_pipeline.predict(X_test)\n",
    "print('Test accuracy is {}'.format(accuracy_score(y_test, prediction)))\n",
    "print('F1 score is ',f1_score(y_test, prediction, average=\"micro\"))\n",
    "print('Hamming Loss is ', hamming_loss(y_test, prediction))\n",
    "\n"
   ]
  },
  {
   "cell_type": "code",
   "execution_count": 31,
   "metadata": {},
   "outputs": [
    {
     "data": {
      "text/plain": [
       "['model_LabelPowerset_classification.joblib']"
      ]
     },
     "execution_count": 31,
     "metadata": {},
     "output_type": "execute_result"
    }
   ],
   "source": [
    "# Save the trained model for later use\n",
    "joblib.dump(LabelPowerset_pipeline, 'model_LabelPowerset_classification.joblib')"
   ]
  },
  {
   "cell_type": "code",
   "execution_count": null,
   "metadata": {},
   "outputs": [],
   "source": [
    "from skmultilearn.problem_transform import ClassifierChain\n",
    "\n",
    "ClassifierChain_pipeline = Pipeline([\n",
    "                ('clf', ClassifierChain(LogisticRegression(solver='sag'))),\n",
    "            ])\n",
    "\n",
    "\n",
    "ClassifierChain_pipeline.fit(X_train, y_train)\n",
    "prediction = ClassifierChain_pipeline.predict(X_test)\n",
    "print('Test accuracy is {}'.format(accuracy_score(y_test, prediction)))\n",
    "print('F1 score is ',f1_score(y_test, prediction, average=\"micro\"))\n",
    "print('Hamming Loss is ', hamming_loss(y_test, prediction))"
   ]
  },
  {
   "cell_type": "code",
   "execution_count": null,
   "metadata": {},
   "outputs": [
    {
     "name": "stdout",
     "output_type": "stream",
     "text": [
      "... Processing 1 Pricing and Fairness\n",
      "Test accuracy is 0.8602941176470589\n",
      "... Processing 2 Driver professionalism\n",
      "Test accuracy is 0.8319327731092437\n",
      "... Processing 3 Driver behaviour\n",
      "Test accuracy is 0.8476890756302521\n",
      "... Processing 4 Customer Service\n",
      "Test accuracy is 0.9632352941176471\n",
      "... Processing 5 Application\n",
      "Test accuracy is 0.9810924369747899\n",
      "... Processing 6 Lost things\n",
      "Test accuracy is 0.9810924369747899\n",
      "... Processing 7 Vehicle Condition\n",
      "Test accuracy is 0.9537815126050421\n",
      "... Processing 8 Safety & reliability\n",
      "Test accuracy is 0.9012605042016807\n",
      "... Processing 9 General bad\n",
      "Test accuracy is 0.9705882352941176\n",
      "... Processing 10 Other\n",
      "Test accuracy is 0.9978991596638656\n"
     ]
    }
   ],
   "source": [
    "\n",
    "# for category in categories:\n",
    "#     print('... Processing {}'.format(category))\n",
    "#     # train the model using X_dtm & y\n",
    "#     NB_pipeline.fit(X_train, train[category])\n",
    "#     # compute the testing accuracy\n",
    "#     prediction = NB_pipeline.predict(X_test)\n",
    "#     print('Test accuracy is {}'.format(accuracy_score(test[category], prediction)))"
   ]
  }
 ],
 "metadata": {
  "kernelspec": {
   "display_name": "Python 3",
   "language": "python",
   "name": "python3"
  },
  "language_info": {
   "codemirror_mode": {
    "name": "ipython",
    "version": 3
   },
   "file_extension": ".py",
   "mimetype": "text/x-python",
   "name": "python",
   "nbconvert_exporter": "python",
   "pygments_lexer": "ipython3",
   "version": "3.10.4"
  },
  "orig_nbformat": 4
 },
 "nbformat": 4,
 "nbformat_minor": 2
}
