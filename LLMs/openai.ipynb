{
 "cells": [
  {
   "cell_type": "code",
   "execution_count": null,
   "metadata": {},
   "outputs": [],
   "source": [
    "!pip install openai"
   ]
  },
  {
   "cell_type": "code",
   "execution_count": 23,
   "metadata": {},
   "outputs": [
    {
     "name": "stdout",
     "output_type": "stream",
     "text": [
      "Collecting python-dotenv\n",
      "  Downloading python_dotenv-1.0.0-py3-none-any.whl (19 kB)\n",
      "Installing collected packages: python-dotenv\n",
      "Successfully installed python-dotenv-1.0.0\n"
     ]
    },
    {
     "name": "stderr",
     "output_type": "stream",
     "text": [
      "\n",
      "[notice] A new release of pip is available: 23.1.2 -> 23.3.2\n",
      "[notice] To update, run: python.exe -m pip install --upgrade pip\n"
     ]
    }
   ],
   "source": [
    "!pip install python-dotenv"
   ]
  },
  {
   "cell_type": "code",
   "execution_count": 44,
   "metadata": {},
   "outputs": [],
   "source": [
    "from openai import OpenAI\n",
    "import os\n",
    "from dotenv import load_dotenv, find_dotenv"
   ]
  },
  {
   "cell_type": "code",
   "execution_count": 45,
   "metadata": {},
   "outputs": [
    {
     "data": {
      "text/plain": [
       "True"
      ]
     },
     "execution_count": 45,
     "metadata": {},
     "output_type": "execute_result"
    }
   ],
   "source": [
    "load_dotenv()"
   ]
  },
  {
   "cell_type": "code",
   "execution_count": 46,
   "metadata": {},
   "outputs": [],
   "source": [
    "api_key = os.getenv('OPENAI_API_KEY')\n",
    "client = OpenAI(api_key=api_key)\n",
    "\n",
    "def get_completion(prompt, model=\"gpt-3.5-turbo\"):\n",
    "    messages = [{\"role\": \"user\", \"content\": prompt}]\n",
    "    response = client.chat.completions.create(\n",
    "        model=model,\n",
    "        messages=messages,\n",
    "        temperature=0\n",
    "    )\n",
    "    return response.choices[0].message.content"
   ]
  },
  {
   "cell_type": "code",
   "execution_count": null,
   "metadata": {},
   "outputs": [],
   "source": [
    "review = \"The driver started idle and I ended up overpaying\""
   ]
  },
  {
   "cell_type": "code",
   "execution_count": null,
   "metadata": {},
   "outputs": [],
   "source": [
    "topics = ['1 Pricing and Fairness', '2 Driver professionalism', '3 Driver behaviour', '4 Customer Service', '5 Application', '6 Lost things', '7 Vehicle Condition', '8 Safety & reliability', '9 Generally bad']"
   ]
  },
  {
   "cell_type": "code",
   "execution_count": null,
   "metadata": {},
   "outputs": [],
   "source": [
    "prompt_sentiment = f\"\"\"\n",
    "Define the sentiment of the following product review, which is delimited with triple backticks?\n",
    "Give your answer in such format: \n",
    "\"Sentiment: positive\" or \"Sentiment: negative\"\n",
    "If sentiment is positive, your task is to extract relevant information \\\n",
    "from a taxi service review to give summary to  \\\n",
    "the Marketing department highlighting the benefits of the service. \n",
    "Limit to 20 words.\n",
    "If sentiment is negative, define which of the  '''{topics}''' are mentioned in the review.\n",
    "Here is the description for each topic:\n",
    "1 Pricing and Fairness: fare structure, pricing transparency, fairness in charging, affordability, hidden costs, overcharged, wrongly charged, payment methods, cost and refund issues;\n",
    "2 Driver professionalism: driver's performance and professionalism, punctuality, navigation skills, driver's cancellations, late pick-up & drop-off at the wrong place, address-related problems, driver didn't deliver to the door;\n",
    "3 Driver behaviour: russian language/music, communication, and friendliness, racist/aggressive behavious, demanding something, driver cheated / stole something;\n",
    "4 Customer Service: taxi company, it's responsiveness to queries or complaints, helpfulness of customer support;\n",
    "5 Application: ease and efficiency of the booking process, user-friendliness of the booking platform or app, app problems;\n",
    "6 Lost things: effectiveness in returning the things left in the vehicle,\n",
    "not delivered order;\n",
    "7 Vehicle Condition: cleanliness, maintenance, smell, smoke-free environment, safety & reliability, place for luggage, comfort, cold;\n",
    "8 Safety & reliability: violation of traffic rules, talking on phone, safety belt, reckless/fast driving, road accident, drink driving \n",
    "9 Generally bad: bad experience - nothing from the above mentioned,\n",
    "Give your answer in a dictionary format: \"Topic\" : \" ... \"\n",
    "State all the topics mentioned in the review. If so, write  \"Topics\": \"..., ...  \" and show topics as a list separated with a comma.\n",
    "\n",
    "If any of the topics you defined are as the following: 1 Pricing and Fairness, 3 Driver behaviour, 6 Lost things, 8 Safety & reliability, \n",
    "say \"ALERT: high priority!\"\n",
    "\n",
    "\n",
    "Review text: ```{review}```\n",
    "\"\"\"\n",
    "sentiment = get_completion(prompt_sentiment)\n",
    "print(sentiment)"
   ]
  },
  {
   "cell_type": "code",
   "execution_count": null,
   "metadata": {},
   "outputs": [],
   "source": [
    "prompt_sentiment = f\"\"\"\n",
    "Define the sentiment of the following taxi service review, \\\n",
    "which is delimited with triple backticks.\n",
    "Give your answer in such format: \"Sentiment: positive\" or \"Sentiment: negative\"\n",
    "\n",
    "Review text: ```{review}```\n",
    "\"\"\"\n",
    "sentiment = get_completion(prompt_sentiment)\n",
    "print(sentiment)\n",
    "\n",
    "# Give your answer in dictionary format. "
   ]
  },
  {
   "cell_type": "code",
   "execution_count": null,
   "metadata": {},
   "outputs": [],
   "source": [
    "prompt_summary = f\"\"\"\n",
    "Your task is to extract relevant information from a taxi service review \\\n",
    "to give summary to the Marketing department highlighting the benefits of the service. \n",
    "Limit your summary to 20 words.\n",
    "\n",
    "Review text: ```{review}```\n",
    "\"\"\"\n",
    "summary = get_completion(prompt_summary)\n",
    "print(summary)"
   ]
  },
  {
   "cell_type": "code",
   "execution_count": null,
   "metadata": {},
   "outputs": [],
   "source": [
    "prompt_topic = f\"\"\"\n",
    "Define which of the  '''{topics}''' are mentioned in the review.\n",
    "Here is the description for each topic:\n",
    "1 Pricing and Fairness: fare structure, pricing transparency, fairness in charging, affordability, hidden costs, overcharged, wrongly charged, payment methods, cost and refund issues;\n",
    "2 Driver professionalism: driver's performance and professionalism, punctuality, navigation skills, driver's cancellations, late pick-up & drop-off at the wrong place, address-related problems, driver didn't deliver to the door;\n",
    "3 Driver behaviour: russian language/music, communication, and friendliness, racist/aggressive behavious, demanding something, driver cheated / stole something;\n",
    "4 Customer Service: taxi company, it's responsiveness to queries or complaints, helpfulness of customer support;\n",
    "5 Application: ease and efficiency of the booking process, user-friendliness of the booking platform or app, app problems;\n",
    "6 Lost things: effectiveness in returning the things left in the vehicle,\n",
    "not delivered order;\n",
    "7 Vehicle Condition: cleanliness, maintenance, smell, smoke-free environment, safety & reliability, place for luggage, comfort, cold;\n",
    "8 Safety & reliability: violation of traffic rules, talking on phone, safety belt, reckless/fast driving, road accident, drink driving\n",
    "9 Generally bad: bad experience - nothing from the above mentioned,\n",
    "Give your answer in a dictionary format: \"Topic\" : \" ... \"\n",
    "State all the topics mentioned in the review. If so, write  \"Topics\" as the key, and all the topics list as the values.\n",
    "if there are topics as: 1 Pricing and Fairness, 3 Driver behaviour, 6 Lost things, 8 Safety & reliability, say \"ALERT: high priority!\"\n",
    "\n",
    "Review text: ```{review}```\n",
    "\"\"\" \n",
    "\n",
    "topic = get_completion(prompt_topic)\n",
    "print(topic)"
   ]
  },
  {
   "cell_type": "code",
   "execution_count": null,
   "metadata": {},
   "outputs": [],
   "source": [
    "def get_classification(review):\n",
    "    classification_result = []\n",
    "    \n",
    "    sentiment_result = get_completion(prompt_sentiment)\n",
    "    classification_result.append(sentiment_result)\n",
    "    if \"negative\" in sentiment_result.lower():\n",
    "        topic_result = get_completion(prompt_topic)\n",
    "        # identified_topics = [topic for topic in topics if topic.lower() in topic_result.lower()]\n",
    "        classification_result.append(topic_result)\n",
    "    else:\n",
    "        summary = get_completion(prompt_summary)\n",
    "        classification_result.append(summary)\n",
    "    \n",
    "    return classification_result\n",
    "    "
   ]
  },
  {
   "cell_type": "code",
   "execution_count": null,
   "metadata": {},
   "outputs": [],
   "source": [
    "result = get_classification(review)\n",
    "print(result)"
   ]
  },
  {
   "cell_type": "code",
   "execution_count": null,
   "metadata": {},
   "outputs": [],
   "source": [
    "from openai import OpenAI\n",
    "import os\n",
    "from dotenv import load_dotenv, find_dotenv\n",
    "load_dotenv()\n",
    "\n",
    "\n",
    "api_key = os.getenv('OPENAI_API_KEY')\n",
    "client = OpenAI(api_key=api_key)\n",
    "\n",
    "def get_completion(prompt, model=\"gpt-3.5-turbo\"):\n",
    "    messages = [{\"role\": \"user\", \"content\": prompt}]\n",
    "    response = client.chat.completions.create(\n",
    "        model=model,\n",
    "        messages=messages,\n",
    "        temperature=0\n",
    "    )\n",
    "    return response.choices[0].message.content\n",
    "\n",
    "\n",
    "def get_classification(review):\n",
    "    classification_result = []\n",
    "    \n",
    "    sentiment_result = get_completion(prompt_sentiment)\n",
    "    classification_result.append(sentiment_result)\n",
    "    if \"negative\" in sentiment_result.lower():\n",
    "        topic_result = get_completion(prompt_topic)\n",
    "        identified_topics = [topic for topic in topics if topic.lower() in topic_result.lower()]\n",
    "        classification_result.append(topic_result)\n",
    "        if \"1 Pricing and Fairness\" or \"3 Driver behaviour\" or \"6 Lost things\" or \"8 Safety & reliability\" in identified_topics:\n",
    "            alert = \"ALERT: high priority!\"\n",
    "            classification_result.append(alert)\n",
    "    else:\n",
    "        summary = get_completion(prompt_summary)\n",
    "        classification_result.append(summary)\n",
    "    \n",
    "    return classification_result\n",
    "\n",
    "\n",
    "if __name__ == \"__main__\":\n",
    "    \n",
    "    review = input(\"Please, type your review: \")\n",
    "    topics = ['1 Pricing and Fairness', '2 Driver professionalism', '3 Driver behaviour', '4 Customer Service', '5 Application', '6 Lost things', '7 Vehicle Condition', '8 Safety & reliability', '9 Generally bad']\n",
    "\n",
    "    prompt_sentiment = f\"\"\"\n",
    "    Define the sentiment of the following taxi service review, \\\n",
    "    which is delimited with triple backticks.\n",
    "    Give your answer in such format: \"Sentiment: positive\" or \"Sentiment: negative\"\n",
    "\n",
    "    Review text: ```{review}```\n",
    "    \"\"\"\n",
    "\n",
    "    prompt_summary = f\"\"\"\n",
    "    Your task is to extract relevant information from a taxi service review \\\n",
    "    to give summary to the Marketing department highlighting the benefits \\ \n",
    "    (if the review is positive) and drawbacks (if the review is negative)\n",
    "    of the service. Limit to 20 words.\n",
    "\n",
    "    Review text: ```{review}```\n",
    "    \"\"\"\n",
    "\n",
    "    prompt_topic = f\"\"\"\n",
    "    Define which of the  '''{topics}''' are mentioned in the review.\n",
    "    Here is the description for each topic:\n",
    "    1 Pricing and Fairness: fare structure, pricing transparency, fairness in charging, affordability, hidden costs, overcharged, wrongly charged, payment methods, cost and refund issues;\n",
    "    2 Driver professionalism: driver's performance and professionalism, punctuality, navigation skills, driver's cancellations, late pick-up & drop-off at the wrong place, address-related problems, driver didn't deliver to the door;\n",
    "    3 Driver behaviour: russian language/music, communication, and friendliness, racist/aggressive behavious, demanding something, driver cheated / stole something;\n",
    "    4 Customer Service: taxi company, it's responsiveness to queries or complaints, helpfulness of customer support;\n",
    "    5 Application: ease and efficiency of the booking process, user-friendliness of the booking platform or app, app problems;\n",
    "    6 Lost things: effectiveness in returning the things left in the vehicle,\n",
    "    not delivered order;\n",
    "    7 Vehicle Condition: cleanliness, maintenance, smell, smoke-free environment, safety & reliability, place for luggage, comfort, cold;\n",
    "    8 Safety & reliability: violation of traffic rules, talking on phone, safety belt, reckless/fast driving, road accident, drink driving\n",
    "    9 Generally bad: bad experience - nothing from the above mentioned,\n",
    "    Give your answer in a dictionary format: \"Topic\" : \" ... \"\n",
    "    State all the topics mentioned in the review. If so, write  \"Topics\" as the key, and all the topics list as the values.\n",
    "\n",
    "    Review text: ```{review}```\n",
    "    \"\"\"\n",
    "\n",
    "    get_classification(review)"
   ]
  },
  {
   "cell_type": "code",
   "execution_count": null,
   "metadata": {},
   "outputs": [],
   "source": [
    "# def get_classification(review):\n",
    "#     classification_result = []\n",
    "    \n",
    "#     sentiment = get_completion(prompt_sentiment)\n",
    "#     if sentiment[\"sentiment\"] == \"negative\":\n",
    "#         topic = get_completion(prompt_summary)\n",
    "#         alert_topics = ['1 Pricing and Fairness', '3 Driver behaviour', '6 Lost things', '8 Safety & reliability']\n",
    "#         alert = \"ALERT: high priority!\"\n",
    "#         if topic[\"Topic(s)\"] in alert_topics:\n",
    "#             return topic , alert  \n",
    "#     else:\n",
    "#         summary = get_completion(prompt_summary)\n",
    "    \n",
    "#     return "
   ]
  }
 ],
 "metadata": {
  "kernelspec": {
   "display_name": "Python 3",
   "language": "python",
   "name": "python3"
  },
  "language_info": {
   "codemirror_mode": {
    "name": "ipython",
    "version": 3
   },
   "file_extension": ".py",
   "mimetype": "text/x-python",
   "name": "python",
   "nbconvert_exporter": "python",
   "pygments_lexer": "ipython3",
   "version": "3.10.4"
  }
 },
 "nbformat": 4,
 "nbformat_minor": 2
}
