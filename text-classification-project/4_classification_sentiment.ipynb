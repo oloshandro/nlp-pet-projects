{
 "cells": [
  {
   "cell_type": "code",
   "execution_count": 1,
   "metadata": {},
   "outputs": [
    {
     "name": "stderr",
     "output_type": "stream",
     "text": [
      "[nltk_data] Downloading package punkt to\n",
      "[nltk_data]     C:\\Users\\olkos\\AppData\\Roaming\\nltk_data...\n",
      "[nltk_data]   Package punkt is already up-to-date!\n",
      "[nltk_data] Downloading package wordnet to\n",
      "[nltk_data]     C:\\Users\\olkos\\AppData\\Roaming\\nltk_data...\n",
      "[nltk_data]   Package wordnet is already up-to-date!\n"
     ]
    }
   ],
   "source": [
    "\n",
    "import pandas as pd\n",
    "import numpy as np\n",
    "import seaborn as sns\n",
    "import matplotlib.pyplot as plt \n",
    "import joblib \n",
    "\n",
    "from sklearn import metrics\n",
    "from sklearn.metrics import f1_score, precision_score, recall_score\n",
    "from sklearn.feature_extraction.text import TfidfVectorizer, CountVectorizer\n",
    "from sklearn.model_selection import train_test_split\n",
    "from sklearn.naive_bayes import MultinomialNB\n",
    "from sklearn.pipeline import Pipeline\n",
    "from sklearn import *\n",
    "\n",
    "# Corpus Processing\n",
    "import re\n",
    "import nltk\n",
    "nltk.download('punkt')\n",
    "nltk.download('wordnet')\n",
    "\n",
    "from nltk import word_tokenize, sent_tokenize\n",
    "from nltk.stem import WordNetLemmatizer\n",
    "\n",
    "\n"
   ]
  },
  {
   "cell_type": "code",
   "execution_count": 2,
   "metadata": {},
   "outputs": [
    {
     "data": {
      "text/html": [
       "<div>\n",
       "<style scoped>\n",
       "    .dataframe tbody tr th:only-of-type {\n",
       "        vertical-align: middle;\n",
       "    }\n",
       "\n",
       "    .dataframe tbody tr th {\n",
       "        vertical-align: top;\n",
       "    }\n",
       "\n",
       "    .dataframe thead th {\n",
       "        text-align: right;\n",
       "    }\n",
       "</style>\n",
       "<table border=\"1\" class=\"dataframe\">\n",
       "  <thead>\n",
       "    <tr style=\"text-align: right;\">\n",
       "      <th></th>\n",
       "      <th>index</th>\n",
       "      <th>created_at</th>\n",
       "      <th>custom_comment</th>\n",
       "      <th>sentiment</th>\n",
       "    </tr>\n",
       "  </thead>\n",
       "  <tbody>\n",
       "    <tr>\n",
       "      <th>0</th>\n",
       "      <td>30</td>\n",
       "      <td>01/03/2023 22:06</td>\n",
       "      <td>Great guy!!!</td>\n",
       "      <td>1</td>\n",
       "    </tr>\n",
       "    <tr>\n",
       "      <th>1</th>\n",
       "      <td>33</td>\n",
       "      <td>02/03/2023 06:46</td>\n",
       "      <td>he is the best driver</td>\n",
       "      <td>1</td>\n",
       "    </tr>\n",
       "    <tr>\n",
       "      <th>2</th>\n",
       "      <td>45</td>\n",
       "      <td>02/03/2023 14:15</td>\n",
       "      <td>The best driver!)</td>\n",
       "      <td>1</td>\n",
       "    </tr>\n",
       "    <tr>\n",
       "      <th>3</th>\n",
       "      <td>52</td>\n",
       "      <td>02/03/2023 17:11</td>\n",
       "      <td>Perfect. Recommend</td>\n",
       "      <td>1</td>\n",
       "    </tr>\n",
       "    <tr>\n",
       "      <th>4</th>\n",
       "      <td>53</td>\n",
       "      <td>02/03/2023 17:41</td>\n",
       "      <td>Perfect trip</td>\n",
       "      <td>1</td>\n",
       "    </tr>\n",
       "  </tbody>\n",
       "</table>\n",
       "</div>"
      ],
      "text/plain": [
       "   index        created_at         custom_comment  sentiment\n",
       "0     30  01/03/2023 22:06           Great guy!!!          1\n",
       "1     33  02/03/2023 06:46  he is the best driver          1\n",
       "2     45  02/03/2023 14:15      The best driver!)          1\n",
       "3     52  02/03/2023 17:11     Perfect. Recommend          1\n",
       "4     53  02/03/2023 17:41           Perfect trip          1"
      ]
     },
     "execution_count": 2,
     "metadata": {},
     "output_type": "execute_result"
    }
   ],
   "source": [
    "# loading dataset\n",
    "reviews = pd.read_csv(\"annotated_data_sentiment.csv\", encoding='utf-8')\n",
    "reviews.head(5)"
   ]
  },
  {
   "attachments": {},
   "cell_type": "markdown",
   "metadata": {},
   "source": [
    "#### Exploring the data distribution"
   ]
  },
  {
   "cell_type": "code",
   "execution_count": 3,
   "metadata": {},
   "outputs": [
    {
     "data": {
      "text/plain": [
       "-1    3749\n",
       " 1    1408\n",
       "Name: sentiment, dtype: int64"
      ]
     },
     "execution_count": 3,
     "metadata": {},
     "output_type": "execute_result"
    }
   ],
   "source": [
    "reviews['sentiment'].value_counts()"
   ]
  },
  {
   "cell_type": "code",
   "execution_count": 4,
   "metadata": {},
   "outputs": [
    {
     "data": {
      "image/png": "[encoded data removed]",
      "text/plain": [
       "<Figure size 300x600 with 1 Axes>"
      ]
     },
     "metadata": {},
     "output_type": "display_data"
    }
   ],
   "source": [
    "ax = reviews['sentiment'].value_counts().plot(kind='bar', figsize=(3, 6), fontsize=10)\n",
    "ax.set_title('Sentiment analyses (1 = positive, -1 = negative)', size=12, pad=24)\n",
    "ax.set_ylabel('Number of reviews', fontsize=12)\n",
    "\n",
    "N = len(reviews)\n",
    "colors= ['yellow','blue']\n",
    "idx = 0\n",
    "for i in ax.patches:\n",
    "    ax.text(i.get_x(), i.get_height() + 240, f\"{str(round(i.get_height(), 2))} ({round(i.get_height()*100/N, 2)}%)\", fontsize=10)\n",
    "    i.set_color(colors[idx])\n",
    "    idx+=1"
   ]
  },
  {
   "attachments": {},
   "cell_type": "markdown",
   "metadata": {},
   "source": [
    "#### data cleaning & preprocessing:"
   ]
  },
  {
   "cell_type": "code",
   "execution_count": 5,
   "metadata": {},
   "outputs": [],
   "source": [
    "stopwords = ['a', 'about', 'an', 'am' 'and', 'are', 'as', 'at', 'be', 'been', 'but', 'by', 'can', \\\n",
    "             'even', 'ever', 'for', 'from', 'get', 'had', 'has', 'have', 'he', 'her', 'hers', 'his', \\\n",
    "             'how', 'i', 'if', 'in', 'into', 'is', 'it', 'its', 'just', 'me', 'my', 'of', 'on', 'or', \\\n",
    "             'see', 'seen', 'she', 'so', 'than', 'that', 'the', 'their', 'there', 'they', 'this', \\\n",
    "             'to', 'was', 'we', 'were', 'what', 'when', 'which', 'who', 'will', 'with', 'you']\n",
    "\n",
    "short_forms = {\n",
    "    \"don't\": \"do not\",\n",
    "    \"can't\": \"cannot\",\n",
    "    \"won't\": \"will not\",\n",
    "    \"shouldn't\": \"should not\",\n",
    "    \"wouldn't\": \"would not\",\n",
    "    \"didn't\": \"did not\",\n",
    "    \"doesn't\": \"does not\",\n",
    "    \"isn't\": \"is not\",\n",
    "    \"aren't\": \"are not\",\n",
    "    \"wasn't\": \"was not\",\n",
    "    \"weren't\": \"were not\",\n",
    "    \"hasn't\": \"has not\",\n",
    "    \"haven't\": \"have not\",\n",
    "    \"it's\": \"it is\",\n",
    "    \"I'm\": \"I am\",\n",
    "    \"you're\": \"you are\",\n",
    "    \"he's\": \"he is\",\n",
    "    \"she's\": \"she is\",\n",
    "    \"we're\": \"we are\",\n",
    "    \"they're\": \"they are\",\n",
    "    \"I've\": \"I have\",\n",
    "    \"you've\": \"you have\",\n",
    "    \"we've\": \"we have\",\n",
    "    \"they've\": \"they have\",\n",
    "    \"couldn't\": \"could not\",\n",
    "    \"should've\": \"should have\",\n",
    "    \"would've\": \"would have\",\n",
    "    \"might've\": \"might have\",\n",
    "    \"must've\": \"must have\",\n",
    "    # Add more short forms and their full forms as needed\n",
    "}\n",
    "\n",
    "def replace_short_forms(text):\n",
    "    # Create a regular expression pattern to match short forms as standalone words\n",
    "    pattern = r'\\b(?:{})\\b'.format('|'.join(short_forms.keys()), re.IGNORECASE)\n",
    "    \n",
    "    # Replace short forms with their corresponding full forms using a lambda function\n",
    "    full_forms_text = re.sub(pattern, lambda match: short_forms[match.group(0)], text)\n",
    "    \n",
    "    return full_forms_text\n",
    "\n",
    "\n",
    "# (?) remove quotation marks, unnecessary punctuation, [{}[]\\/+*%|^%#@!?()]\n",
    "def punctuation_remover(text):\n",
    "    pattern = r'[{}\\[\\]\\\\\\/\\+\\*%\\|\\^%#@\\(\\)\\$\\\"]'\n",
    "    return re.sub(pattern, ' ', text)\n",
    "\n",
    "\n",
    "def lemma_stopwords_token(text):\n",
    "      le=WordNetLemmatizer()\n",
    "      word_tokens=nltk.word_tokenize(text)\n",
    "      word_tokens =[token for token in word_tokens if token.isalpha()]\n",
    "      tokens=[le.lemmatize(token) for token in word_tokens if token not in stopwords and len(token)>2]\n",
    "      processed_text =\" \".join(tokens)\n",
    "      return processed_text\n",
    "\n",
    "\n",
    "# main preprocessing function\n",
    "def preprocessing(text):\n",
    "    reviews = replace_short_forms(text)\n",
    "    reviews = punctuation_remover(reviews)\n",
    "    reviews = lemma_stopwords_token(reviews)\n",
    "    return reviews"
   ]
  },
  {
   "attachments": {},
   "cell_type": "markdown",
   "metadata": {},
   "source": [
    "#### data split"
   ]
  },
  {
   "cell_type": "code",
   "execution_count": 6,
   "metadata": {},
   "outputs": [],
   "source": [
    "# download reviews from dataset and preprocess them into a list\n",
    "data = [preprocessing(custom_comment) for custom_comment in reviews['custom_comment'].to_list()]\n",
    "\n",
    "# download label into a list\n",
    "label = [label for label in reviews['sentiment'].to_list()]"
   ]
  },
  {
   "cell_type": "code",
   "execution_count": 7,
   "metadata": {},
   "outputs": [],
   "source": [
    "# Extract features from the preprocessed data and fit it\n",
    "vectorizer = TfidfVectorizer()\n",
    "features = vectorizer.fit_transform(data)\n",
    "\n",
    "# Split the data into training and testing sets\n",
    "X_train, X_test, y_train, y_test = train_test_split(features, label, test_size=0.2, random_state=42)"
   ]
  },
  {
   "attachments": {},
   "cell_type": "markdown",
   "metadata": {},
   "source": [
    "#### fit & train the model,  run predictions and analyze the results "
   ]
  },
  {
   "cell_type": "code",
   "execution_count": 8,
   "metadata": {},
   "outputs": [
    {
     "name": "stdout",
     "output_type": "stream",
     "text": [
      "[[739   4]\n",
      " [ 63 226]]\n",
      "              precision    recall  f1-score   support\n",
      "\n",
      "          -1       0.92      0.99      0.96       743\n",
      "           1       0.98      0.78      0.87       289\n",
      "\n",
      "    accuracy                           0.94      1032\n",
      "   macro avg       0.95      0.89      0.91      1032\n",
      "weighted avg       0.94      0.94      0.93      1032\n",
      "\n",
      "0.935077519379845\n"
     ]
    }
   ],
   "source": [
    "clf_Naive_Bayes = MultinomialNB()\n",
    "clf_Naive_Bayes.fit(X_train, y_train)\n",
    "\n",
    "# Form a prediction set\n",
    "prediction = clf_Naive_Bayes.predict(X_test)\n",
    "\n",
    "\n",
    "# Report the confusion matrix\n",
    "print(metrics.confusion_matrix(y_test, prediction))\n",
    "\n",
    "# Print a classification report\n",
    "print(metrics.classification_report(y_test,prediction))\n",
    "\n",
    "# Print the overall accuracy\n",
    "print(metrics.accuracy_score(y_test, prediction))\n"
   ]
  },
  {
   "cell_type": "code",
   "execution_count": 9,
   "metadata": {},
   "outputs": [
    {
     "data": {
      "text/plain": [
       "['model_sentiment_Naive_Bayes.joblib']"
      ]
     },
     "execution_count": 9,
     "metadata": {},
     "output_type": "execute_result"
    }
   ],
   "source": [
    "# # Save the trained model for later use\n",
    "joblib.dump(clf_Naive_Bayes, 'model_sentiment_Naive_Bayes.joblib')"
   ]
  },
  {
   "cell_type": "code",
   "execution_count": 10,
   "metadata": {},
   "outputs": [
    {
     "name": "stdout",
     "output_type": "stream",
     "text": [
      "[[738   5]\n",
      " [ 42 247]]\n",
      "              precision    recall  f1-score   support\n",
      "\n",
      "          -1       0.95      0.99      0.97       743\n",
      "           1       0.98      0.85      0.91       289\n",
      "\n",
      "    accuracy                           0.95      1032\n",
      "   macro avg       0.96      0.92      0.94      1032\n",
      "weighted avg       0.96      0.95      0.95      1032\n",
      "\n",
      "0.9544573643410853\n"
     ]
    }
   ],
   "source": [
    "# Fit the Linear SVC model on the training set\n",
    "from sklearn.svm import LinearSVC\n",
    "\n",
    "clf_LinearSVC = LinearSVC(max_iter=5000)\n",
    "clf_LinearSVC.fit(X_train, y_train)\n",
    "y_pred = clf_LinearSVC.predict(X_test)\n",
    "\n",
    "\n",
    "# Report the confusion matrix\n",
    "print(metrics.confusion_matrix(y_test, y_pred))\n",
    "\n",
    "# Print a classification report\n",
    "print(metrics.classification_report(y_test,y_pred))\n",
    "\n",
    "# Print the overall accuracy\n",
    "print(metrics.accuracy_score(y_test, y_pred))"
   ]
  },
  {
   "cell_type": "code",
   "execution_count": 12,
   "metadata": {},
   "outputs": [
    {
     "data": {
      "text/plain": [
       "['model_sentiment_LinearSVC.joblib']"
      ]
     },
     "execution_count": 12,
     "metadata": {},
     "output_type": "execute_result"
    }
   ],
   "source": [
    "# Save the trained model for later use\n",
    "joblib.dump(clf_LinearSVC, 'model_sentiment_LinearSVC.joblib')"
   ]
  },
  {
   "attachments": {},
   "cell_type": "markdown",
   "metadata": {},
   "source": [
    "#### adding SMOTE Technique *(Synthetic Minority Oversampling Technique)*"
   ]
  },
  {
   "cell_type": "code",
   "execution_count": null,
   "metadata": {},
   "outputs": [],
   "source": [
    "# !pip install imbalanced-learn"
   ]
  },
  {
   "attachments": {},
   "cell_type": "markdown",
   "metadata": {},
   "source": [
    "*What smote does is simple. First it finds the n-nearest neighbors in the minority class for each of the samples in the class . Then it draws a line between the neighbors an generates random points on the lines.*"
   ]
  },
  {
   "cell_type": "code",
   "execution_count": 13,
   "metadata": {},
   "outputs": [
    {
     "name": "stdout",
     "output_type": "stream",
     "text": [
      "Before Counter({-1: 3006, 1: 1119})\n",
      "After Counter({-1: 3006, 1: 3006})\n"
     ]
    }
   ],
   "source": [
    "from imblearn.over_sampling import SMOTE, ADASYN\n",
    "from collections import Counter\n",
    "\n",
    "\n",
    "counter = Counter(y_train)\n",
    "print('Before', counter)\n",
    "\n",
    "# oversampling the train dataset using SMOTE\n",
    "smt = SMOTE()\n",
    "\n",
    "#X_train, y_train = smt.fit_resample(X_train, y_train)\n",
    "X_train_sm, y_train_sm = smt.fit_resample(X_train, y_train)\n",
    "\n",
    "counter = Counter(y_train_sm)\n",
    "print('After',counter)"
   ]
  },
  {
   "cell_type": "code",
   "execution_count": 14,
   "metadata": {},
   "outputs": [
    {
     "name": "stdout",
     "output_type": "stream",
     "text": [
      "[[712  31]\n",
      " [ 35 254]]\n",
      "              precision    recall  f1-score   support\n",
      "\n",
      "          -1       0.95      0.96      0.96       743\n",
      "           1       0.89      0.88      0.89       289\n",
      "\n",
      "    accuracy                           0.94      1032\n",
      "   macro avg       0.92      0.92      0.92      1032\n",
      "weighted avg       0.94      0.94      0.94      1032\n",
      "\n",
      "0.936046511627907\n"
     ]
    }
   ],
   "source": [
    "# Naïve Bayes - SMOTE Resampling:\n",
    "\n",
    "clf_Naive_Bayes_SMOTE = MultinomialNB()\n",
    "clf_Naive_Bayes_SMOTE.fit(X_train_sm, y_train_sm)\n",
    "\n",
    "# Form a prediction set\n",
    "prediction = clf_Naive_Bayes_SMOTE.predict(X_test)\n",
    "\n",
    "\n",
    "# Report the confusion matrix\n",
    "print(metrics.confusion_matrix(y_test, prediction))\n",
    "\n",
    "# Print a classification report\n",
    "print(metrics.classification_report(y_test,prediction))\n",
    "\n",
    "# Print the overall accuracy\n",
    "print(metrics.accuracy_score(y_test, prediction))"
   ]
  },
  {
   "cell_type": "code",
   "execution_count": 15,
   "metadata": {},
   "outputs": [
    {
     "data": {
      "text/plain": [
       "['model_sentiment_Naive_Bayes_SMOTE.joblib']"
      ]
     },
     "execution_count": 15,
     "metadata": {},
     "output_type": "execute_result"
    }
   ],
   "source": [
    "# Save the trained model for later use\n",
    "joblib.dump(clf_Naive_Bayes_SMOTE, 'model_sentiment_Naive_Bayes_SMOTE.joblib')"
   ]
  },
  {
   "cell_type": "code",
   "execution_count": 16,
   "metadata": {},
   "outputs": [
    {
     "name": "stdout",
     "output_type": "stream",
     "text": [
      "[[723  20]\n",
      " [ 30 259]]\n",
      "              precision    recall  f1-score   support\n",
      "\n",
      "          -1       0.96      0.97      0.97       743\n",
      "           1       0.93      0.90      0.91       289\n",
      "\n",
      "    accuracy                           0.95      1032\n",
      "   macro avg       0.94      0.93      0.94      1032\n",
      "weighted avg       0.95      0.95      0.95      1032\n",
      "\n",
      "0.9515503875968992\n"
     ]
    }
   ],
   "source": [
    "# LinearSVC(max_iter=5000) - SMOTE Resampling:\n",
    "\n",
    "clf_LinearSVC_SMOTE = LinearSVC(max_iter=5000)\n",
    "clf_LinearSVC_SMOTE.fit(X_train_sm, y_train_sm)\n",
    "\n",
    "# Form a prediction set\n",
    "prediction = clf_LinearSVC_SMOTE.predict(X_test)\n",
    "\n",
    "\n",
    "# Report the confusion matrix\n",
    "print(metrics.confusion_matrix(y_test, prediction))\n",
    "\n",
    "# Print a classification report\n",
    "print(metrics.classification_report(y_test,prediction))\n",
    "\n",
    "# Print the overall accuracy\n",
    "print(metrics.accuracy_score(y_test, prediction))"
   ]
  },
  {
   "cell_type": "code",
   "execution_count": 17,
   "metadata": {},
   "outputs": [
    {
     "data": {
      "text/plain": [
       "['model_sentiment_LinearSVC_SMOTE.joblib']"
      ]
     },
     "execution_count": 17,
     "metadata": {},
     "output_type": "execute_result"
    }
   ],
   "source": [
    "# Save the trained model for later use\n",
    "joblib.dump(clf_LinearSVC_SMOTE, 'model_sentiment_LinearSVC_SMOTE.joblib')"
   ]
  },
  {
   "attachments": {},
   "cell_type": "markdown",
   "metadata": {},
   "source": [
    "#### testing the model"
   ]
  },
  {
   "cell_type": "code",
   "execution_count": 18,
   "metadata": {},
   "outputs": [
    {
     "name": "stdout",
     "output_type": "stream",
     "text": [
      "0. the ride was pretty nice\n",
      "Sentiment: positive\n",
      "1. The drivers behaviour is inappropriate\n",
      "Sentiment: negative\n",
      "2. I had a couple of rides with your service before and they were nice, but this time there wasn't a seatbelt which I believe is totally not OK. and the driver just said Are yoou going or not??\n",
      "Sentiment: negative\n",
      "3. reckless driver!\n",
      "Sentiment: negative\n",
      "4. Nice driver, really helpful\n",
      "Sentiment: positive\n",
      "5. vehicle of premium class\n",
      "Sentiment: positive\n",
      "6. Great experience.I'd recommend this service to my friends.\n",
      "Sentiment: positive\n",
      "7. smooth ride\n",
      "Sentiment: positive\n",
      "8. it took longer time, but the driver was good\n",
      "Sentiment: negative\n"
     ]
    }
   ],
   "source": [
    "def prepare_new_reviews(text):\n",
    "  \"\"\"\n",
    "  Prepare new text for model testing: preprocess it, vectorize, predict label and return it\n",
    "  \"\"\"\n",
    "  \n",
    "  preprocessed_text = preprocessing(text)\n",
    "  features = vectorizer.transform([preprocessed_text])\n",
    "  loaded_model = joblib.load('model_sentiment_Naive_Bayes_SMOTE.joblib')\n",
    "  prediction = loaded_model.predict(features)\n",
    "  # return prediction[0]\n",
    "\n",
    "  if prediction[0] == 1:\n",
    "    return \"Sentiment: positive\"\n",
    "  else:\n",
    "    return \"Sentiment: negative\"\n",
    "\n",
    "\n",
    "# in this list you can indicate which news to classify\n",
    "reviews_example = [\"the ride was pretty nice\",\n",
    "                \"\"\"The drivers behaviour is inappropriate\"\"\",\n",
    "                \"\"\"I had a couple of rides with your service before and they were nice, but this time there wasn't a seatbelt which I believe is totally not OK. and the driver just said Are yoou going or not??\"\"\",\n",
    "                \"\"\"reckless driver!\"\"\",\n",
    "                \"\"\"Nice driver, really helpful\"\"\",\n",
    "                \"\"\"vehicle of premium class\"\"\",\n",
    "                \"\"\"Great experience.I'd recommend this service to my friends.\"\"\",\n",
    "                \"smooth ride\",\n",
    "                \"it took longer time, but the driver was good\"]\n",
    "\n",
    "for i,review in enumerate(reviews_example):\n",
    "  print(f\"{i}. {review}\")\n",
    "  print(f\"{prepare_new_reviews(review)}\")\n",
    "  "
   ]
  }
 ],
 "metadata": {
  "kernelspec": {
   "display_name": "Python 3",
   "language": "python",
   "name": "python3"
  },
  "language_info": {
   "codemirror_mode": {
    "name": "ipython",
    "version": 3
   },
   "file_extension": ".py",
   "mimetype": "text/x-python",
   "name": "python",
   "nbconvert_exporter": "python",
   "pygments_lexer": "ipython3",
   "version": "3.10.4"
  },
  "orig_nbformat": 4
 },
 "nbformat": 4,
 "nbformat_minor": 2
}
