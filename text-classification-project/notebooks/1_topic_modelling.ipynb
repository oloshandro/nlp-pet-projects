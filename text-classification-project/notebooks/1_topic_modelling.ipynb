{
 "cells": [
  {
   "attachments": {},
   "cell_type": "markdown",
   "metadata": {},
   "source": [
    "**importing modules**"
   ]
  },
  {
   "cell_type": "code",
   "execution_count": 10,
   "metadata": {},
   "outputs": [
    {
     "name": "stderr",
     "output_type": "stream",
     "text": [
      "[nltk_data] Downloading package stopwords to\n",
      "[nltk_data]     C:\\Users\\olkos\\AppData\\Roaming\\nltk_data...\n",
      "[nltk_data]   Package stopwords is already up-to-date!\n",
      "[nltk_data] Downloading package punkt to\n",
      "[nltk_data]     C:\\Users\\olkos\\AppData\\Roaming\\nltk_data...\n",
      "[nltk_data]   Package punkt is already up-to-date!\n",
      "[nltk_data] Downloading package wordnet to\n",
      "[nltk_data]     C:\\Users\\olkos\\AppData\\Roaming\\nltk_data...\n",
      "[nltk_data]   Package wordnet is already up-to-date!\n"
     ]
    }
   ],
   "source": [
    "# data visualisation and manipulation\n",
    "import pandas as pd #import the Pandas library to read the CSV and save it in a data frame\n",
    "import matplotlib.pyplot as plt\n",
    "\n",
    "#import nltk #preprocessing\n",
    "import nltk\n",
    "nltk.download('stopwords')\n",
    "nltk.download('punkt')\n",
    "nltk.download('wordnet')\n",
    "\n",
    "from nltk import word_tokenize, sent_tokenize # tokenizing\n",
    "from nltk.stem import WordNetLemmatizer  # lammatizer from WordNet\n",
    "from nltk.corpus import stopwords  #stopwords\n",
    "import emoji\n",
    "\n",
    "# vectorizers for creating the document-term-matrix (DTM)\n",
    "from sklearn.feature_extraction.text import TfidfVectorizer, CountVectorizer\n",
    "\n",
    "# (?) stop-words: this list includes 'not'\n",
    "stop_words=set(nltk.corpus.stopwords.words('english'))"
   ]
  },
  {
   "cell_type": "code",
   "execution_count": 11,
   "metadata": {},
   "outputs": [],
   "source": [
    "stopwords = ['a', 'about', 'an', 'and', 'are', 'as', 'at', 'be', 'been', 'but', 'by', 'can', \\\n",
    "             'even', 'ever', 'for', 'from', 'get', 'had', 'has', 'have', 'he', 'her', 'hers', 'his', \\\n",
    "             'how', 'i', 'if', 'in', 'into', 'is', 'it', 'its', 'just', 'me', 'my', 'of', 'on', 'or', \\\n",
    "             'see', 'seen', 'she', 'so', 'than', 'that', 'the', 'their', 'there', 'they', 'this', \\\n",
    "             'to', 'was', 'we', 'were', 'what', 'when', 'which', 'who', 'will', 'with', 'you']"
   ]
  },
  {
   "cell_type": "code",
   "execution_count": 12,
   "metadata": {},
   "outputs": [
    {
     "data": {
      "text/html": [
       "<div>\n",
       "<style scoped>\n",
       "    .dataframe tbody tr th:only-of-type {\n",
       "        vertical-align: middle;\n",
       "    }\n",
       "\n",
       "    .dataframe tbody tr th {\n",
       "        vertical-align: top;\n",
       "    }\n",
       "\n",
       "    .dataframe thead th {\n",
       "        text-align: right;\n",
       "    }\n",
       "</style>\n",
       "<table border=\"1\" class=\"dataframe\">\n",
       "  <thead>\n",
       "    <tr style=\"text-align: right;\">\n",
       "      <th></th>\n",
       "      <th>order_id</th>\n",
       "      <th>feedback_id</th>\n",
       "      <th>rider_id</th>\n",
       "      <th>driver_id</th>\n",
       "      <th>created_at</th>\n",
       "      <th>stars</th>\n",
       "      <th>custom_comment</th>\n",
       "    </tr>\n",
       "  </thead>\n",
       "  <tbody>\n",
       "    <tr>\n",
       "      <th>0</th>\n",
       "      <td>0d47c51b-a1df-4901-97eb-58ee193d9655</td>\n",
       "      <td>b89cf504-f2fb-4ad4-a113-1112f6da5265</td>\n",
       "      <td>9d9e0f25-a383-444e-afe7-01ed085d216f</td>\n",
       "      <td>d6c92134-8f65-4da4-b6ab-a2a5c4bbaf9f</td>\n",
       "      <td>2023-03-01 01:49:32</td>\n",
       "      <td>1</td>\n",
       "      <td>very not polite</td>\n",
       "    </tr>\n",
       "    <tr>\n",
       "      <th>1</th>\n",
       "      <td>ae23c8d2-496a-47a8-8fb4-bd48f3e6f342</td>\n",
       "      <td>93748ca6-e77a-46e9-8460-f9c65b3781f6</td>\n",
       "      <td>576e7518-c1af-4697-9182-4251a488cbec</td>\n",
       "      <td>a635ef51-6da4-446a-9161-45d0a48ec2d2</td>\n",
       "      <td>2023-03-01 03:40:14</td>\n",
       "      <td>3</td>\n",
       "      <td>not a pleasant interaction overall. The driver...</td>\n",
       "    </tr>\n",
       "    <tr>\n",
       "      <th>2</th>\n",
       "      <td>def53af0-8c66-4759-ac16-7143b9e116d5</td>\n",
       "      <td>7edf5cf5-aa9f-4be6-8ca7-cd03c1aa66c0</td>\n",
       "      <td>e24c35a0-1cbf-43a1-9cae-171a89d1e7c1</td>\n",
       "      <td>57c5de49-2a44-46f8-800c-71a39490ea92</td>\n",
       "      <td>2023-03-01 06:46:58</td>\n",
       "      <td>1</td>\n",
       "      <td>Driver is a theif. Our travel cost is 154 and ...</td>\n",
       "    </tr>\n",
       "    <tr>\n",
       "      <th>3</th>\n",
       "      <td>365c9450-344e-4608-8abb-a3e8b6ac7019</td>\n",
       "      <td>32e24028-cb9e-4499-bb48-142a0920b61b</td>\n",
       "      <td>b106a159-2d28-4019-bc7f-1feb31d0536e</td>\n",
       "      <td>254a79db-0421-4c3a-afae-3d93fd5fd5ac</td>\n",
       "      <td>2023-03-01 07:44:43</td>\n",
       "      <td>1</td>\n",
       "      <td>he was rude and did not drop me to my destination</td>\n",
       "    </tr>\n",
       "    <tr>\n",
       "      <th>4</th>\n",
       "      <td>52a81772-00cb-4ef0-8935-53ce4cd4c5e2</td>\n",
       "      <td>4372a23a-e506-4918-8006-71238e7eefa4</td>\n",
       "      <td>76311bc2-abbf-4c92-b07c-4716ad41c1ee</td>\n",
       "      <td>cee9eab5-9dc8-4565-b795-b4467059db7d</td>\n",
       "      <td>2023-03-01 07:55:51</td>\n",
       "      <td>1</td>\n",
       "      <td>Drove recklessly. Said he was a race driver. W...</td>\n",
       "    </tr>\n",
       "  </tbody>\n",
       "</table>\n",
       "</div>"
      ],
      "text/plain": [
       "                               order_id                           feedback_id  \\\n",
       "0  0d47c51b-a1df-4901-97eb-58ee193d9655  b89cf504-f2fb-4ad4-a113-1112f6da5265   \n",
       "1  ae23c8d2-496a-47a8-8fb4-bd48f3e6f342  93748ca6-e77a-46e9-8460-f9c65b3781f6   \n",
       "2  def53af0-8c66-4759-ac16-7143b9e116d5  7edf5cf5-aa9f-4be6-8ca7-cd03c1aa66c0   \n",
       "3  365c9450-344e-4608-8abb-a3e8b6ac7019  32e24028-cb9e-4499-bb48-142a0920b61b   \n",
       "4  52a81772-00cb-4ef0-8935-53ce4cd4c5e2  4372a23a-e506-4918-8006-71238e7eefa4   \n",
       "\n",
       "                               rider_id                             driver_id  \\\n",
       "0  9d9e0f25-a383-444e-afe7-01ed085d216f  d6c92134-8f65-4da4-b6ab-a2a5c4bbaf9f   \n",
       "1  576e7518-c1af-4697-9182-4251a488cbec  a635ef51-6da4-446a-9161-45d0a48ec2d2   \n",
       "2  e24c35a0-1cbf-43a1-9cae-171a89d1e7c1  57c5de49-2a44-46f8-800c-71a39490ea92   \n",
       "3  b106a159-2d28-4019-bc7f-1feb31d0536e  254a79db-0421-4c3a-afae-3d93fd5fd5ac   \n",
       "4  76311bc2-abbf-4c92-b07c-4716ad41c1ee  cee9eab5-9dc8-4565-b795-b4467059db7d   \n",
       "\n",
       "            created_at  stars  \\\n",
       "0  2023-03-01 01:49:32      1   \n",
       "1  2023-03-01 03:40:14      3   \n",
       "2  2023-03-01 06:46:58      1   \n",
       "3  2023-03-01 07:44:43      1   \n",
       "4  2023-03-01 07:55:51      1   \n",
       "\n",
       "                                      custom_comment  \n",
       "0                                    very not polite  \n",
       "1  not a pleasant interaction overall. The driver...  \n",
       "2  Driver is a theif. Our travel cost is 154 and ...  \n",
       "3  he was rude and did not drop me to my destination  \n",
       "4  Drove recklessly. Said he was a race driver. W...  "
      ]
     },
     "execution_count": 12,
     "metadata": {},
     "output_type": "execute_result"
    }
   ],
   "source": [
    "# loading dataset\n",
    "reviews = pd.read_csv(\"reviews_taxi_data - data.csv\", encoding='utf-8')\n",
    "reviews.head(5)"
   ]
  },
  {
   "attachments": {},
   "cell_type": "markdown",
   "metadata": {},
   "source": [
    "#### **data cleaning & preprocessing:**"
   ]
  },
  {
   "cell_type": "code",
   "execution_count": 13,
   "metadata": {},
   "outputs": [],
   "source": [
    "def clean_text(text):\n",
    "      le=WordNetLemmatizer()\n",
    "      word_tokens=word_tokenize(text)\n",
    "      tokens=[le.lemmatize(w) for w in word_tokens if w not in stopwords and len(w)>2]\n",
    "      cleaned_text=\" \".join(tokens)\n",
    "      return cleaned_text"
   ]
  },
  {
   "cell_type": "code",
   "execution_count": 14,
   "metadata": {},
   "outputs": [
    {
     "data": {
      "text/html": [
       "<div>\n",
       "<style scoped>\n",
       "    .dataframe tbody tr th:only-of-type {\n",
       "        vertical-align: middle;\n",
       "    }\n",
       "\n",
       "    .dataframe tbody tr th {\n",
       "        vertical-align: top;\n",
       "    }\n",
       "\n",
       "    .dataframe thead th {\n",
       "        text-align: right;\n",
       "    }\n",
       "</style>\n",
       "<table border=\"1\" class=\"dataframe\">\n",
       "  <thead>\n",
       "    <tr style=\"text-align: right;\">\n",
       "      <th></th>\n",
       "      <th>order_id</th>\n",
       "      <th>feedback_id</th>\n",
       "      <th>rider_id</th>\n",
       "      <th>driver_id</th>\n",
       "      <th>created_at</th>\n",
       "      <th>stars</th>\n",
       "      <th>custom_comment</th>\n",
       "      <th>clean_custom_comment</th>\n",
       "    </tr>\n",
       "  </thead>\n",
       "  <tbody>\n",
       "    <tr>\n",
       "      <th>0</th>\n",
       "      <td>0d47c51b-a1df-4901-97eb-58ee193d9655</td>\n",
       "      <td>b89cf504-f2fb-4ad4-a113-1112f6da5265</td>\n",
       "      <td>9d9e0f25-a383-444e-afe7-01ed085d216f</td>\n",
       "      <td>d6c92134-8f65-4da4-b6ab-a2a5c4bbaf9f</td>\n",
       "      <td>2023-03-01 01:49:32</td>\n",
       "      <td>1</td>\n",
       "      <td>very not polite</td>\n",
       "      <td>very not polite</td>\n",
       "    </tr>\n",
       "    <tr>\n",
       "      <th>1</th>\n",
       "      <td>ae23c8d2-496a-47a8-8fb4-bd48f3e6f342</td>\n",
       "      <td>93748ca6-e77a-46e9-8460-f9c65b3781f6</td>\n",
       "      <td>576e7518-c1af-4697-9182-4251a488cbec</td>\n",
       "      <td>a635ef51-6da4-446a-9161-45d0a48ec2d2</td>\n",
       "      <td>2023-03-01 03:40:14</td>\n",
       "      <td>3</td>\n",
       "      <td>not a pleasant interaction overall. The driver...</td>\n",
       "      <td>not pleasant interaction overall The driver se...</td>\n",
       "    </tr>\n",
       "    <tr>\n",
       "      <th>2</th>\n",
       "      <td>def53af0-8c66-4759-ac16-7143b9e116d5</td>\n",
       "      <td>7edf5cf5-aa9f-4be6-8ca7-cd03c1aa66c0</td>\n",
       "      <td>e24c35a0-1cbf-43a1-9cae-171a89d1e7c1</td>\n",
       "      <td>57c5de49-2a44-46f8-800c-71a39490ea92</td>\n",
       "      <td>2023-03-01 06:46:58</td>\n",
       "      <td>1</td>\n",
       "      <td>Driver is a theif. Our travel cost is 154 and ...</td>\n",
       "      <td>Driver theif Our travel cost 154 gave 200. hur...</td>\n",
       "    </tr>\n",
       "    <tr>\n",
       "      <th>3</th>\n",
       "      <td>365c9450-344e-4608-8abb-a3e8b6ac7019</td>\n",
       "      <td>32e24028-cb9e-4499-bb48-142a0920b61b</td>\n",
       "      <td>b106a159-2d28-4019-bc7f-1feb31d0536e</td>\n",
       "      <td>254a79db-0421-4c3a-afae-3d93fd5fd5ac</td>\n",
       "      <td>2023-03-01 07:44:43</td>\n",
       "      <td>1</td>\n",
       "      <td>he was rude and did not drop me to my destination</td>\n",
       "      <td>rude did not drop destination</td>\n",
       "    </tr>\n",
       "    <tr>\n",
       "      <th>4</th>\n",
       "      <td>52a81772-00cb-4ef0-8935-53ce4cd4c5e2</td>\n",
       "      <td>4372a23a-e506-4918-8006-71238e7eefa4</td>\n",
       "      <td>76311bc2-abbf-4c92-b07c-4716ad41c1ee</td>\n",
       "      <td>cee9eab5-9dc8-4565-b795-b4467059db7d</td>\n",
       "      <td>2023-03-01 07:55:51</td>\n",
       "      <td>1</td>\n",
       "      <td>Drove recklessly. Said he was a race driver. W...</td>\n",
       "      <td>Drove recklessly Said race driver Was very rud...</td>\n",
       "    </tr>\n",
       "  </tbody>\n",
       "</table>\n",
       "</div>"
      ],
      "text/plain": [
       "                               order_id                           feedback_id  \\\n",
       "0  0d47c51b-a1df-4901-97eb-58ee193d9655  b89cf504-f2fb-4ad4-a113-1112f6da5265   \n",
       "1  ae23c8d2-496a-47a8-8fb4-bd48f3e6f342  93748ca6-e77a-46e9-8460-f9c65b3781f6   \n",
       "2  def53af0-8c66-4759-ac16-7143b9e116d5  7edf5cf5-aa9f-4be6-8ca7-cd03c1aa66c0   \n",
       "3  365c9450-344e-4608-8abb-a3e8b6ac7019  32e24028-cb9e-4499-bb48-142a0920b61b   \n",
       "4  52a81772-00cb-4ef0-8935-53ce4cd4c5e2  4372a23a-e506-4918-8006-71238e7eefa4   \n",
       "\n",
       "                               rider_id                             driver_id  \\\n",
       "0  9d9e0f25-a383-444e-afe7-01ed085d216f  d6c92134-8f65-4da4-b6ab-a2a5c4bbaf9f   \n",
       "1  576e7518-c1af-4697-9182-4251a488cbec  a635ef51-6da4-446a-9161-45d0a48ec2d2   \n",
       "2  e24c35a0-1cbf-43a1-9cae-171a89d1e7c1  57c5de49-2a44-46f8-800c-71a39490ea92   \n",
       "3  b106a159-2d28-4019-bc7f-1feb31d0536e  254a79db-0421-4c3a-afae-3d93fd5fd5ac   \n",
       "4  76311bc2-abbf-4c92-b07c-4716ad41c1ee  cee9eab5-9dc8-4565-b795-b4467059db7d   \n",
       "\n",
       "            created_at  stars  \\\n",
       "0  2023-03-01 01:49:32      1   \n",
       "1  2023-03-01 03:40:14      3   \n",
       "2  2023-03-01 06:46:58      1   \n",
       "3  2023-03-01 07:44:43      1   \n",
       "4  2023-03-01 07:55:51      1   \n",
       "\n",
       "                                      custom_comment  \\\n",
       "0                                    very not polite   \n",
       "1  not a pleasant interaction overall. The driver...   \n",
       "2  Driver is a theif. Our travel cost is 154 and ...   \n",
       "3  he was rude and did not drop me to my destination   \n",
       "4  Drove recklessly. Said he was a race driver. W...   \n",
       "\n",
       "                                clean_custom_comment  \n",
       "0                                    very not polite  \n",
       "1  not pleasant interaction overall The driver se...  \n",
       "2  Driver theif Our travel cost 154 gave 200. hur...  \n",
       "3                      rude did not drop destination  \n",
       "4  Drove recklessly Said race driver Was very rud...  "
      ]
     },
     "execution_count": 14,
     "metadata": {},
     "output_type": "execute_result"
    }
   ],
   "source": [
    "reviews['clean_custom_comment'] = reviews['custom_comment'].apply(clean_text)\n",
    "# print(reviews['clean_custom_comment'])\n",
    "reviews.head(5)"
   ]
  },
  {
   "cell_type": "code",
   "execution_count": 15,
   "metadata": {},
   "outputs": [],
   "source": [
    "vect =TfidfVectorizer(stop_words=stop_words,max_features=1000)\n",
    "vect_text=vect.fit_transform(reviews['clean_custom_comment'])"
   ]
  },
  {
   "cell_type": "code",
   "execution_count": null,
   "metadata": {},
   "outputs": [],
   "source": [
    "print(vect_text.shape)\n",
    "print(vect_text)\n",
    "# The lesser the value; more common is the word in the reviews."
   ]
  },
  {
   "attachments": {},
   "cell_type": "markdown",
   "metadata": {},
   "source": [
    "#### **TOPIC MODELLING**"
   ]
  },
  {
   "attachments": {},
   "cell_type": "markdown",
   "metadata": {},
   "source": [
    "##### **LDA (LatentDirichletAllocation) with Sklearn**"
   ]
  },
  {
   "cell_type": "code",
   "execution_count": 17,
   "metadata": {},
   "outputs": [],
   "source": [
    "from sklearn.decomposition import LatentDirichletAllocation\n",
    "lda_model=LatentDirichletAllocation(n_components=10,\n",
    "learning_method='online',random_state=42,max_iter=1) \n",
    "lda_top=lda_model.fit_transform(vect_text)\n",
    "# n_components is the number of topics "
   ]
  },
  {
   "cell_type": "code",
   "execution_count": 18,
   "metadata": {},
   "outputs": [
    {
     "name": "stdout",
     "output_type": "stream",
     "text": [
      "(6357, 10)\n",
      "[[0.05       0.05       0.05       ... 0.05       0.05000004 0.05      ]\n",
      " [0.49898711 0.0305664  0.03056243 ... 0.03056267 0.25648048 0.03060012]\n",
      " [0.02526977 0.02526901 0.44760355 ... 0.02527079 0.02526941 0.0252701 ]\n",
      " ...\n",
      " [0.12418559 0.02513926 0.02514037 ... 0.30020024 0.19048698 0.02515113]\n",
      " [0.20508002 0.04064948 0.11326533 ... 0.11993386 0.09619537 0.24723626]\n",
      " [0.18916244 0.04489865 0.22275702 ... 0.01748219 0.0470555  0.29413669]]\n"
     ]
    }
   ],
   "source": [
    "print(lda_top.shape)  # (no_of_doc,no_of_topics)\n",
    "print(lda_top)"
   ]
  },
  {
   "cell_type": "code",
   "execution_count": 19,
   "metadata": {},
   "outputs": [
    {
     "name": "stdout",
     "output_type": "stream",
     "text": [
      "['00', '10', '100', '11', '12', '120', '13', '14', '15', '150', '17', '18', '19', '20', '200', '2017', '2018', '22', '25', '2nd', '30', '300', '35', '45', '50', '500', '99', 'able', 'absolutely', 'abusive', 'accept', 'accepted', 'access', 'accident', 'account', 'across', 'actual', 'actually', 'add', 'added', 'additional', 'address', 'adress', 'advance', 'advertising', 'advised', 'aggressive', 'ago', 'agreed', 'agressive', 'air', 'airport', 'allow', 'allowed', 'almost', 'alone', 'already', 'also', 'although', 'always', 'amazing', 'amount', 'angry', 'annoying', 'another', 'answer', 'anymore', 'anyone', 'anything', 'anyway', 'apartment', 'apologize', 'app', 'apparently', 'application', 'appointment', 'april', 'area', 'around', 'arrival', 'arrive', 'arrived', 'arriving', 'arrogant', 'ask', 'asked', 'asking', 'attempt', 'attempted', 'attention', 'attitude', 'automated', 'available', 'avoid', 'away', 'awesome', 'awful', 'baby', 'back', 'background', 'backseat', 'bad', 'badly', 'bag', 'balance', 'bank', 'barely', 'basically', 'began', 'behaved', 'behavior', 'behaviour', 'behind', 'believe', 'belt', 'best', 'better', 'beware', 'big', 'bill', 'billed', 'bit', 'black', 'block', 'book', 'booked', 'booking', 'bother', 'bring', 'broke', 'brought', 'building', 'bus', 'business', 'cab', 'call', 'called', 'calling', 'calm', 'came', 'cancel', 'canceled', 'cancellation', 'cancelled', 'cant', 'car', 'card', 'care', 'careful', 'carefully', 'careless', 'carry', 'case', 'cash', 'catch', 'cause', 'caused', 'cell', 'center', 'certain', 'change', 'changed', 'character', 'charge', 'charged', 'charging', 'chatting', 'cheaper', 'cheat', 'cheated', 'cheating', 'check', 'checked', 'checking', 'chicago', 'child', 'choice', 'choose', 'chose', 'cigarette', 'city', 'claim', 'claimed', 'class', 'clean', 'cleaning', 'clearly', 'client', 'close', 'closed', 'code', 'cold', 'collect', 'collected', 'come', 'comfort', 'comfortable', 'coming', 'comment', 'communicate', 'communication', 'companion', 'company', 'complain', 'complained', 'complaining', 'complaint', 'complete', 'completed', 'completely', 'concern', 'condition', 'confirm', 'confirmed', 'confused', 'connect', 'constantly', 'consumer', 'contact', 'contacted', 'contacting', 'continue', 'continued', 'control', 'convenient', 'conversation', 'cool', 'correct', 'cost', 'coughing', 'could', 'counting', 'country', 'couple', 'course', 'courteous', 'crazy', 'credit', 'customer', 'damage', 'dangerous', 'dangerously', 'date', 'daughter', 'day', 'deactivated', 'deal', 'debit', 'decided', 'definitely', 'delay', 'deleted', 'deliver', 'delivered', 'delivery', 'demand', 'demanded', 'denied', 'despite', 'destination', 'detail', 'didnt', 'difference', 'different', 'difficult', 'direction', 'dirty', 'disappointed', 'discount', 'disgusting', 'dispute', 'disrespectful', 'distance', 'doe', 'dollar', 'done', 'dont', 'door', 'double', 'drink', 'drive', 'driven', 'driver', 'drivers', 'driving', 'drop', 'dropped', 'dropping', 'drove', 'drug', 'drunk', 'due', 'earlier', 'early', 'easily', 'easy', 'eats', 'efficient', 'either', 'else', 'email', 'emailed', 'end', 'ended', 'english', 'enjoyed', 'enough', 'enter', 'entered', 'entrance', 'error', 'especially', 'etc', 'even', 'evening', 'event', 'eventually', 'ever', 'every', 'everyone', 'everything', 'everywhere', 'exact', 'exactly', 'excellent', 'except', 'excuse', 'expected', 'expensive', 'experience', 'experienced', 'explain', 'explained', 'explanation', 'extra', 'extremely', 'face', 'fact', 'failed', 'fair', 'false', 'family', 'fantastic', 'far', 'fare', 'fast', 'faster', 'fault', 'fee', 'feel', 'felt', 'fight', 'file', 'final', 'finally', 'find', 'fine', 'finish', 'finished', 'first', 'five', 'fix', 'flight', 'florida', 'follow', 'followed', 'following', 'food', 'foreigner', 'forget', 'forgot', 'forth', 'found', 'four', 'francisco', 'fraud', 'fraudulent', 'free', 'friend', 'friendly', 'front', 'frustrating', 'fucking', 'full', 'fun', 'fund', 'funny', 'future', 'gas', 'gate', 'gave', 'general', 'gentleman', 'get', 'getting', 'gift', 'girl', 'girlfriend', 'give', 'given', 'giving', 'go', 'god', 'going', 'gone', 'good', 'got', 'gps', 'great', 'grocery', 'guess', 'guy', 'hacked', 'half', 'hand', 'happen', 'happened', 'happy', 'hard', 'harsh', 'hear', 'heard', 'heater', 'heavy', 'hello', 'help', 'helped', 'helpful', 'high', 'higher', 'highly', 'hit', 'hold', 'home', 'hope', 'horrible', 'hotel', 'hour', 'house', 'however', 'huge', 'human', 'husband', 'idea', 'idiot', 'idle', 'ignored', 'immediately', 'impatient', 'impolite', 'important', 'impossible', 'inappropriate', 'incident', 'incorrect', 'increase', 'increased', 'india', 'info', 'inform', 'information', 'informed', 'initial', 'inside', 'insisted', 'instead', 'insult', 'insulted', 'interesting', 'issue', 'item', 'jersey', 'job', 'journey', 'keep', 'kept', 'kid', 'kind', 'km', 'knew', 'know', 'knowledge', 'lack', 'lady', 'lane', 'language', 'las', 'last', 'late', 'later', 'le', 'learn', 'least', 'leave', 'leaving', 'left', 'let', 'license', 'lied', 'life', 'light', 'like', 'limit', 'line', 'listen', 'literally', 'little', 'live', 'loaded', 'local', 'location', 'log', 'long', 'longer', 'look', 'looked', 'looking', 'lost', 'lot', 'loud', 'love', 'loved', 'lovely', 'low', 'lower', 'luggage', 'mad', 'made', 'mail', 'major', 'make', 'making', 'man', 'manner', 'many', 'map', 'mask', 'matter', 'may', 'maybe', 'mean', 'meet', 'mess', 'message', 'met', 'meter', 'method', 'miami', 'middle', 'might', 'mile', 'min', 'mind', 'mine', 'minute', 'miss', 'missed', 'mistake', 'mom', 'money', 'month', 'morning', 'move', 'moving', 'much', 'multiple', 'music', 'must', 'name', 'navigation', 'near', 'nearly', 'neat', 'need', 'needed', 'nervous', 'never', 'new', 'next', 'nice', 'night', 'nobody', 'non', 'none', 'normal', 'nothing', 'notice', 'noticed', 'notification', 'notified', 'number', 'numerous', 'nyc', 'occasion', 'offensive', 'offer', 'offered', 'office', 'often', 'old', 'one', 'online', 'open', 'optimal', 'option', 'order', 'ordered', 'ordering', 'original', 'otherwise', 'outside', 'overall', 'overcharged', 'package', 'paid', 'park', 'parked', 'parking', 'part', 'party', 'passed', 'passenger', 'password', 'past', 'patient', 'pay', 'paying', 'payment', 'paypal', 'pedestrian', 'people', 'per', 'perfect', 'perfectly', 'person', 'personal', 'phone', 'photo', 'pick', 'picked', 'picking', 'pickup', 'picture', 'place', 'placed', 'plate', 'play', 'playing', 'pleasant', 'please', 'pls', 'plus', 'point', 'police', 'polite', 'pool', 'poor', 'positive', 'possible', 'practice', 'pretty', 'previous', 'price', 'pricing', 'probably', 'problem', 'process', 'professional', 'promised', 'promo', 'prompt', 'proper', 'properly', 'provide', 'provided', 'public', 'purchase', 'put', 'question', 'quick', 'quickly', 'quiet', 'quite', 'quoted', 'racist', 'rain', 'raining', 'ran', 'rate', 'rather', 'rating', 'reach', 'reached', 'reaching', 'read', 'ready', 'real', 'realized', 'really', 'reason', 'reasonable', 'receipt', 'receive', 'received', 'recently', 'reckless', 'recklessly', 'recommend', 'recommended', 'red', 'refund', 'refunded', 'refuse', 'refused', 'regular', 'replied', 'reply', 'report', 'reported', 'request', 'requested', 'required', 'resolve', 'resolved', 'respect', 'respectful', 'respond', 'response', 'rest', 'result', 'return', 'returned', 'review', 'ride', 'rider', 'ridiculous', 'riding', 'right', 'rip', 'risk', 'road', 'rough', 'roughly', 'route', 'rs', 'rude', 'rule', 'run', 'russian', 'sad', 'safe', 'safely', 'safety', 'said', 'san', 'save', 'saved', 'saw', 'say', 'saying', 'scam', 'schedule', 'scheduled', 'screaming', 'screen', 'seat', 'seatbelt', 'seattle', 'second', 'security', 'seemed', 'seems', 'selected', 'send', 'sending', 'sent', 'seriously', 'service', 'serviceshe', 'set', 'several', 'share', 'shared', 'shocked', 'shopping', 'short', 'shouted', 'shouting', 'show', 'showed', 'showing', 'shown', 'shut', 'sick', 'side', 'sign', 'signed', 'simple', 'simply', 'since', 'sit', 'site', 'sitting', 'situation', 'skill', 'slow', 'small', 'smart', 'smell', 'smelled', 'smelling', 'smoke', 'smoking', 'smooth', 'someone', 'something', 'sometimes', 'somewhere', 'son', 'sorry', 'speak', 'speaking', 'speaks', 'speed', 'speeding', 'spent', 'spoke', 'spot', 'standing', 'star', 'start', 'started', 'starting', 'state', 'stated', 'station', 'stay', 'steal', 'step', 'still', 'stole', 'stop', 'stopped', 'store', 'story', 'stranded', 'street', 'strong', 'stuff', 'stupid', 'style', 'suck', 'suddenly', 'suggest', 'suitcase', 'super', 'support', 'supposed', 'surcharge', 'sure', 'surge', 'surprise', 'suv', 'swearing', 'sweet', 'switch', 'system', 'take', 'taken', 'taking', 'talk', 'talked', 'talking', 'taxi', 'team', 'tell', 'telling', 'terrible', 'text', 'texting', 'thank', 'thanks', 'therefore', 'thief', 'thing', 'think', 'though', 'thought', 'threatened', 'three', 'threw', 'throughout', 'throw', 'tidy', 'till', 'time', 'tip', 'today', 'told', 'toll', 'took', 'top', 'total', 'totally', 'towards', 'town', 'traffic', 'train', 'transaction', 'transfer', 'transportation', 'travel', 'treat', 'tried', 'trip', 'true', 'trunk', 'trust', 'try', 'trying', 'turn', 'turned', 'twice', 'two', 'type', 'uah', 'ukraine', 'ukrainian', 'unable', 'unacceptable', 'uncomfortable', 'understand', 'understanding', 'unfortunately', 'unfriendly', 'unless', 'unpleasant', 'unprofessional', 'unsafe', 'upfront', 'upon', 'use', 'used', 'user', 'using', 'usually', 'utaxi', 'vegas', 'vehicle', 'via', 'video', 'violated', 'voice', 'wait', 'waited', 'waiting', 'walk', 'wallet', 'want', 'wanted', 'wasted', 'watching', 'water', 'way', 'wear', 'wearing', 'weather', 'website', 'week', 'weird', 'well', 'went', 'whole', 'wife', 'willing', 'window', 'wish', 'within', 'without', 'woman', 'wonderful', 'word', 'work', 'working', 'world', 'worse', 'worst', 'worth', 'would', 'write', 'wrong', 'wrote', 'year', 'yelled', 'yelling', 'yellow', 'yes', 'yesterday', 'yet', 'zero']\n"
     ]
    },
    {
     "name": "stderr",
     "output_type": "stream",
     "text": [
      "c:\\Users\\olkos\\AppData\\Local\\Programs\\Python\\Python310\\lib\\site-packages\\sklearn\\utils\\deprecation.py:87: FutureWarning: Function get_feature_names is deprecated; get_feature_names is deprecated in 1.0 and will be removed in 1.2. Please use get_feature_names_out instead.\n",
      "  warnings.warn(msg, category=FutureWarning)\n"
     ]
    }
   ],
   "source": [
    "#We can now see the most frequent and rare words in the clean_custom_comment column based on idf score. \n",
    "#The lesser the value; more common is the word in the column.\n",
    "print(vect.get_feature_names())"
   ]
  },
  {
   "cell_type": "code",
   "execution_count": 20,
   "metadata": {},
   "outputs": [
    {
     "name": "stdout",
     "output_type": "stream",
     "text": [
      "Doc 0: \n",
      "Topic  0 :  5.0000000034367105 %\n",
      "Topic  1 :  5.000000004258735 %\n",
      "Topic  2 :  5.000000002162652 %\n",
      "Topic  3 :  5.000000059551395 %\n",
      "Topic  4 :  5.000000003697678 %\n",
      "Topic  5 :  54.99999615522282 %\n",
      "Topic  6 :  5.000000004828979 %\n",
      "Topic  7 :  5.000000003072965 %\n",
      "Topic  8 :  5.000003762831163 %\n",
      "Topic  9 :  5.0000000009369066 %\n"
     ]
    }
   ],
   "source": [
    "#  check the proportion of topics that have been assigned to the first document\n",
    "print(\"Doc 0: \")\n",
    "for i,topic in enumerate(lda_top[0]):\n",
    "  print(\"Topic \",i,\": \",topic*100,\"%\")"
   ]
  },
  {
   "cell_type": "code",
   "execution_count": null,
   "metadata": {},
   "outputs": [],
   "source": [
    "print(lda_model.components_.shape) # (no_of_topics*no_of_words)\n",
    "print(lda_model.components_[0])  "
   ]
  },
  {
   "cell_type": "code",
   "execution_count": 22,
   "metadata": {},
   "outputs": [
    {
     "name": "stdout",
     "output_type": "stream",
     "text": [
      "Topic 0: \n",
      "friendly like perfect fare problem care almost cancelled driver cab \n",
      "\n",
      "Topic 1: \n",
      "use day told number better walk let horrible top russian \n",
      "\n",
      "Topic 2: \n",
      "utaxi best driver change give person thank ride one thanks \n",
      "\n",
      "Topic 3: \n",
      "service advertising wrong address location say hour dropped helpful amazing \n",
      "\n",
      "Topic 4: \n",
      "fast driving going credit tried card professional utaxi drive dirty \n",
      "\n",
      "Topic 5: \n",
      "good great nice driver music car polite issue really company \n",
      "\n",
      "Topic 6: \n",
      "account always put one came cost two didnt tell come \n",
      "\n",
      "Topic 7: \n",
      "car route driver racist please passenger contact smell several help \n",
      "\n",
      "Topic 8: \n",
      "home find could point drop different long min rider driver \n",
      "\n",
      "Topic 9: \n",
      "utaxi rude driver time bad ride phone customer never charge \n",
      "\n"
     ]
    }
   ],
   "source": [
    "# most important words for each topic in whole dataset\n",
    "vocab = vect.get_feature_names()\n",
    "for i, comp in enumerate(lda_model.components_):\n",
    "     vocab_comp = zip(vocab, comp)\n",
    "     sorted_words = sorted(vocab_comp, key= lambda x:x[1], reverse=True)[:10]\n",
    "     print(\"Topic \"+str(i)+\": \")\n",
    "     for t in sorted_words:\n",
    "         print(t[0],end=\" \")\n",
    "     print(\"\\n\")"
   ]
  },
  {
   "cell_type": "code",
   "execution_count": 23,
   "metadata": {},
   "outputs": [],
   "source": [
    "# most important words for each topic in whole dataset in a view of table\n",
    "vocab = vect.get_feature_names()\n",
    "columns = []\n",
    "words = []\n",
    "for i, comp in enumerate(lda_model.components_):\n",
    "     vocab_comp = zip(vocab, comp)\n",
    "     sorted_words = sorted(vocab_comp, key= lambda x:x[1], reverse=True)[:10]\n",
    "     sorted_words = dict(sorted_words)\n",
    "     topic = \"Topic \"+str(i)\n",
    "     columns.append(topic)\n",
    "     words.append(sorted_words.keys())\n",
    "     "
   ]
  },
  {
   "cell_type": "code",
   "execution_count": 24,
   "metadata": {},
   "outputs": [
    {
     "data": {
      "text/html": [
       "<div>\n",
       "<style scoped>\n",
       "    .dataframe tbody tr th:only-of-type {\n",
       "        vertical-align: middle;\n",
       "    }\n",
       "\n",
       "    .dataframe tbody tr th {\n",
       "        vertical-align: top;\n",
       "    }\n",
       "\n",
       "    .dataframe thead th {\n",
       "        text-align: right;\n",
       "    }\n",
       "</style>\n",
       "<table border=\"1\" class=\"dataframe\">\n",
       "  <thead>\n",
       "    <tr style=\"text-align: right;\">\n",
       "      <th></th>\n",
       "      <th>Topic 0</th>\n",
       "      <th>Topic 1</th>\n",
       "      <th>Topic 2</th>\n",
       "      <th>Topic 3</th>\n",
       "      <th>Topic 4</th>\n",
       "      <th>Topic 5</th>\n",
       "      <th>Topic 6</th>\n",
       "      <th>Topic 7</th>\n",
       "      <th>Topic 8</th>\n",
       "      <th>Topic 9</th>\n",
       "    </tr>\n",
       "  </thead>\n",
       "  <tbody>\n",
       "    <tr>\n",
       "      <th>0</th>\n",
       "      <td>friendly</td>\n",
       "      <td>use</td>\n",
       "      <td>utaxi</td>\n",
       "      <td>service</td>\n",
       "      <td>fast</td>\n",
       "      <td>good</td>\n",
       "      <td>account</td>\n",
       "      <td>car</td>\n",
       "      <td>home</td>\n",
       "      <td>utaxi</td>\n",
       "    </tr>\n",
       "    <tr>\n",
       "      <th>1</th>\n",
       "      <td>like</td>\n",
       "      <td>day</td>\n",
       "      <td>best</td>\n",
       "      <td>advertising</td>\n",
       "      <td>driving</td>\n",
       "      <td>great</td>\n",
       "      <td>always</td>\n",
       "      <td>route</td>\n",
       "      <td>find</td>\n",
       "      <td>rude</td>\n",
       "    </tr>\n",
       "    <tr>\n",
       "      <th>2</th>\n",
       "      <td>perfect</td>\n",
       "      <td>told</td>\n",
       "      <td>driver</td>\n",
       "      <td>wrong</td>\n",
       "      <td>going</td>\n",
       "      <td>nice</td>\n",
       "      <td>put</td>\n",
       "      <td>driver</td>\n",
       "      <td>could</td>\n",
       "      <td>driver</td>\n",
       "    </tr>\n",
       "    <tr>\n",
       "      <th>3</th>\n",
       "      <td>fare</td>\n",
       "      <td>number</td>\n",
       "      <td>change</td>\n",
       "      <td>address</td>\n",
       "      <td>credit</td>\n",
       "      <td>driver</td>\n",
       "      <td>one</td>\n",
       "      <td>racist</td>\n",
       "      <td>point</td>\n",
       "      <td>time</td>\n",
       "    </tr>\n",
       "    <tr>\n",
       "      <th>4</th>\n",
       "      <td>problem</td>\n",
       "      <td>better</td>\n",
       "      <td>give</td>\n",
       "      <td>location</td>\n",
       "      <td>tried</td>\n",
       "      <td>music</td>\n",
       "      <td>came</td>\n",
       "      <td>please</td>\n",
       "      <td>drop</td>\n",
       "      <td>bad</td>\n",
       "    </tr>\n",
       "    <tr>\n",
       "      <th>5</th>\n",
       "      <td>care</td>\n",
       "      <td>walk</td>\n",
       "      <td>person</td>\n",
       "      <td>say</td>\n",
       "      <td>card</td>\n",
       "      <td>car</td>\n",
       "      <td>cost</td>\n",
       "      <td>passenger</td>\n",
       "      <td>different</td>\n",
       "      <td>ride</td>\n",
       "    </tr>\n",
       "    <tr>\n",
       "      <th>6</th>\n",
       "      <td>almost</td>\n",
       "      <td>let</td>\n",
       "      <td>thank</td>\n",
       "      <td>hour</td>\n",
       "      <td>professional</td>\n",
       "      <td>polite</td>\n",
       "      <td>two</td>\n",
       "      <td>contact</td>\n",
       "      <td>long</td>\n",
       "      <td>phone</td>\n",
       "    </tr>\n",
       "    <tr>\n",
       "      <th>7</th>\n",
       "      <td>cancelled</td>\n",
       "      <td>horrible</td>\n",
       "      <td>ride</td>\n",
       "      <td>dropped</td>\n",
       "      <td>utaxi</td>\n",
       "      <td>issue</td>\n",
       "      <td>didnt</td>\n",
       "      <td>smell</td>\n",
       "      <td>min</td>\n",
       "      <td>customer</td>\n",
       "    </tr>\n",
       "    <tr>\n",
       "      <th>8</th>\n",
       "      <td>driver</td>\n",
       "      <td>top</td>\n",
       "      <td>one</td>\n",
       "      <td>helpful</td>\n",
       "      <td>drive</td>\n",
       "      <td>really</td>\n",
       "      <td>tell</td>\n",
       "      <td>several</td>\n",
       "      <td>rider</td>\n",
       "      <td>never</td>\n",
       "    </tr>\n",
       "    <tr>\n",
       "      <th>9</th>\n",
       "      <td>cab</td>\n",
       "      <td>russian</td>\n",
       "      <td>thanks</td>\n",
       "      <td>amazing</td>\n",
       "      <td>dirty</td>\n",
       "      <td>company</td>\n",
       "      <td>come</td>\n",
       "      <td>help</td>\n",
       "      <td>driver</td>\n",
       "      <td>charge</td>\n",
       "    </tr>\n",
       "  </tbody>\n",
       "</table>\n",
       "</div>"
      ],
      "text/plain": [
       "     Topic 0   Topic 1 Topic 2      Topic 3       Topic 4  Topic 5  Topic 6  \\\n",
       "0   friendly       use   utaxi      service          fast     good  account   \n",
       "1       like       day    best  advertising       driving    great   always   \n",
       "2    perfect      told  driver        wrong         going     nice      put   \n",
       "3       fare    number  change      address        credit   driver      one   \n",
       "4    problem    better    give     location         tried    music     came   \n",
       "5       care      walk  person          say          card      car     cost   \n",
       "6     almost       let   thank         hour  professional   polite      two   \n",
       "7  cancelled  horrible    ride      dropped         utaxi    issue    didnt   \n",
       "8     driver       top     one      helpful         drive   really     tell   \n",
       "9        cab   russian  thanks      amazing         dirty  company     come   \n",
       "\n",
       "     Topic 7    Topic 8   Topic 9  \n",
       "0        car       home     utaxi  \n",
       "1      route       find      rude  \n",
       "2     driver      could    driver  \n",
       "3     racist      point      time  \n",
       "4     please       drop       bad  \n",
       "5  passenger  different      ride  \n",
       "6    contact       long     phone  \n",
       "7      smell        min  customer  \n",
       "8    several      rider     never  \n",
       "9       help     driver    charge  "
      ]
     },
     "execution_count": 24,
     "metadata": {},
     "output_type": "execute_result"
    }
   ],
   "source": [
    "topics_relevant_words = pd.DataFrame(words).transpose()\n",
    "topics_relevant_words.columns = columns\n",
    "topics_relevant_words.head(20)"
   ]
  },
  {
   "cell_type": "code",
   "execution_count": 25,
   "metadata": {},
   "outputs": [],
   "source": [
    "from wordcloud import WordCloud\n",
    "# Generate a word cloud image for given topic\n",
    "def draw_word_cloud(index):\n",
    "  imp_words_topic=\"\"\n",
    "  comp=lda_model.components_[index]\n",
    "  vocab_comp = zip(vocab, comp)\n",
    "  sorted_words = sorted(vocab_comp, key= lambda x:x[1], reverse=True)[:25]\n",
    "  for word in sorted_words:\n",
    "    imp_words_topic=imp_words_topic+\" \"+word[0]\n",
    "\n",
    "  wordcloud = WordCloud(width=900, height=600).generate(imp_words_topic)\n",
    "  plt.figure( figsize=(5,5))\n",
    "  plt.imshow(wordcloud)\n",
    "  plt.axis(\"off\")\n",
    "  plt.tight_layout()\n",
    "  plt.show()"
   ]
  },
  {
   "cell_type": "code",
   "execution_count": 41,
   "metadata": {},
   "outputs": [
    {
     "data": {
      "image/png": "[encoded data removed]",
      "text/plain": [
       "<Figure size 500x500 with 1 Axes>"
      ]
     },
     "metadata": {},
     "output_type": "display_data"
    }
   ],
   "source": [
    "# topic 0\n",
    "draw_word_cloud(0)"
   ]
  },
  {
   "attachments": {},
   "cell_type": "markdown",
   "metadata": {},
   "source": [
    "##### **LDA (LatentDirichletAllocation) with GenSim**"
   ]
  },
  {
   "cell_type": "code",
   "execution_count": 26,
   "metadata": {},
   "outputs": [],
   "source": [
    "from gensim.utils import simple_preprocess\n",
    "\n",
    "texts = reviews.clean_custom_comment.apply(simple_preprocess)"
   ]
  },
  {
   "cell_type": "code",
   "execution_count": 27,
   "metadata": {},
   "outputs": [],
   "source": [
    "from gensim import corpora\n",
    "\n",
    "dictionary = corpora.Dictionary(texts)\n",
    "dictionary.filter_extremes(no_below=5, no_above=0.5)\n",
    "\n",
    "corpus = [dictionary.doc2bow(text) for text in texts]"
   ]
  },
  {
   "cell_type": "code",
   "execution_count": 28,
   "metadata": {},
   "outputs": [],
   "source": [
    "from gensim import models\n",
    "\n",
    "tfidf = models.TfidfModel(corpus)\n",
    "corpus_tfidf = tfidf[corpus]"
   ]
  },
  {
   "cell_type": "code",
   "execution_count": 29,
   "metadata": {},
   "outputs": [],
   "source": [
    "n_topics = 10\n",
    "\n",
    "# Build an LSI(=Latent Semantic Indexing = LSA) model\n",
    "lsi_model = models.LsiModel(corpus_tfidf,\n",
    "                            id2word=dictionary,\n",
    "                            num_topics=n_topics)"
   ]
  },
  {
   "cell_type": "code",
   "execution_count": 30,
   "metadata": {},
   "outputs": [
    {
     "data": {
      "text/plain": [
       "[(0,\n",
       "  '-0.628*\"advertising\" + -0.587*\"other\" + -0.510*\"service\" + -0.018*\"great\" + -0.014*\"rude\" + -0.012*\"bad\" + -0.010*\"driver\" + -0.010*\"very\" + -0.008*\"good\" + -0.007*\"utaxi\"'),\n",
       " (1,\n",
       "  '-0.641*\"rude\" + -0.406*\"very\" + -0.294*\"driver\" + -0.187*\"bad\" + -0.167*\"good\" + -0.166*\"nice\" + -0.140*\"the\" + -0.133*\"not\" + -0.121*\"car\" + -0.090*\"trip\"'),\n",
       " (2,\n",
       "  '0.727*\"rude\" + -0.248*\"good\" + -0.234*\"nice\" + -0.182*\"very\" + -0.176*\"great\" + -0.146*\"car\" + -0.145*\"bad\" + -0.141*\"not\" + -0.120*\"best\" + -0.119*\"trip\"'),\n",
       " (3,\n",
       "  '-0.449*\"very\" + -0.293*\"nice\" + -0.279*\"bad\" + 0.262*\"wrong\" + -0.215*\"good\" + 0.175*\"not\" + 0.173*\"address\" + 0.171*\"location\" + 0.158*\"best\" + 0.152*\"utaxi\"'),\n",
       " (4,\n",
       "  '-0.525*\"great\" + 0.473*\"bad\" + -0.414*\"best\" + 0.197*\"very\" + 0.185*\"wrong\" + -0.176*\"nice\" + -0.148*\"good\" + 0.125*\"behavior\" + -0.125*\"the\" + 0.116*\"address\"'),\n",
       " (5,\n",
       "  '0.763*\"best\" + -0.500*\"great\" + 0.238*\"the\" + 0.186*\"bad\" + -0.111*\"wrong\" + -0.072*\"good\" + -0.068*\"thanks\" + -0.063*\"address\" + -0.061*\"location\" + 0.060*\"very\"'),\n",
       " (6,\n",
       "  '0.582*\"great\" + 0.513*\"bad\" + -0.402*\"nice\" + -0.365*\"good\" + 0.155*\"best\" + 0.132*\"behavior\" + 0.073*\"behaviour\" + 0.072*\"service\" + -0.069*\"really\" + -0.067*\"wrong\"'),\n",
       " (7,\n",
       "  '0.600*\"wrong\" + 0.303*\"address\" + 0.265*\"location\" + -0.246*\"not\" + 0.191*\"best\" + 0.189*\"nice\" + -0.184*\"utaxi\" + 0.162*\"dropped\" + 0.135*\"great\" + 0.127*\"place\"'),\n",
       " (8,\n",
       "  '0.749*\"good\" + -0.564*\"nice\" + 0.128*\"wrong\" + -0.096*\"very\" + 0.079*\"behavior\" + 0.073*\"not\" + 0.071*\"bad\" + 0.066*\"english\" + -0.065*\"utaxi\" + 0.064*\"address\"'),\n",
       " (9,\n",
       "  '-0.900*\"perfect\" + 0.203*\"not\" + -0.126*\"driving\" + 0.103*\"did\" + -0.098*\"car\" + -0.096*\"driver\" + 0.093*\"very\" + 0.089*\"great\" + -0.085*\"fast\" + 0.082*\"change\"')]"
      ]
     },
     "execution_count": 30,
     "metadata": {},
     "output_type": "execute_result"
    }
   ],
   "source": [
    "lsi_model.print_topics()"
   ]
  },
  {
   "cell_type": "code",
   "execution_count": 31,
   "metadata": {},
   "outputs": [
    {
     "data": {
      "text/html": [
       "<div>\n",
       "<style scoped>\n",
       "    .dataframe tbody tr th:only-of-type {\n",
       "        vertical-align: middle;\n",
       "    }\n",
       "\n",
       "    .dataframe tbody tr th {\n",
       "        vertical-align: top;\n",
       "    }\n",
       "\n",
       "    .dataframe thead th {\n",
       "        text-align: right;\n",
       "    }\n",
       "</style>\n",
       "<table border=\"1\" class=\"dataframe\">\n",
       "  <thead>\n",
       "    <tr style=\"text-align: right;\">\n",
       "      <th></th>\n",
       "      <th>value</th>\n",
       "      <th>word</th>\n",
       "      <th>topic</th>\n",
       "    </tr>\n",
       "  </thead>\n",
       "  <tbody>\n",
       "    <tr>\n",
       "      <th>0</th>\n",
       "      <td>-0.000009</td>\n",
       "      <td>radio</td>\n",
       "      <td>0</td>\n",
       "    </tr>\n",
       "    <tr>\n",
       "      <th>1</th>\n",
       "      <td>-0.000011</td>\n",
       "      <td>apply</td>\n",
       "      <td>0</td>\n",
       "    </tr>\n",
       "    <tr>\n",
       "      <th>2</th>\n",
       "      <td>-0.000012</td>\n",
       "      <td>screenshot</td>\n",
       "      <td>0</td>\n",
       "    </tr>\n",
       "    <tr>\n",
       "      <th>3</th>\n",
       "      <td>-0.000012</td>\n",
       "      <td>refunding</td>\n",
       "      <td>0</td>\n",
       "    </tr>\n",
       "    <tr>\n",
       "      <th>4</th>\n",
       "      <td>-0.000013</td>\n",
       "      <td>attached</td>\n",
       "      <td>0</td>\n",
       "    </tr>\n",
       "  </tbody>\n",
       "</table>\n",
       "</div>"
      ],
      "text/plain": [
       "      value        word  topic\n",
       "0 -0.000009       radio      0\n",
       "1 -0.000011       apply      0\n",
       "2 -0.000012  screenshot      0\n",
       "3 -0.000012   refunding      0\n",
       "4 -0.000013    attached      0"
      ]
     },
     "execution_count": 31,
     "metadata": {},
     "output_type": "execute_result"
    }
   ],
   "source": [
    "n_words = 10\n",
    "\n",
    "topic_words = pd.DataFrame({})\n",
    "\n",
    "for i, topic in enumerate(lsi_model.get_topics()):\n",
    "    top_feature_ids = topic.argsort()[-n_words:][::-1]\n",
    "    feature_values = topic[top_feature_ids]\n",
    "    words = [dictionary[id] for id in top_feature_ids]\n",
    "    topic_df = pd.DataFrame({'value': feature_values, 'word': words, 'topic': i})\n",
    "    topic_words = pd.concat([topic_words, topic_df], ignore_index=True)\n",
    "\n",
    "topic_words.head()"
   ]
  },
  {
   "cell_type": "code",
   "execution_count": 32,
   "metadata": {},
   "outputs": [
    {
     "data": {
      "text/plain": [
       "<seaborn.axisgrid.FacetGrid at 0x22d2570db10>"
      ]
     },
     "execution_count": 32,
     "metadata": {},
     "output_type": "execute_result"
    },
    {
     "data": {
      "image/png": "[encoded data removed]",
      "text/plain": [
       "<Figure size 900x1200 with 10 Axes>"
      ]
     },
     "metadata": {},
     "output_type": "display_data"
    }
   ],
   "source": [
    "import seaborn as sns\n",
    "\n",
    "g = sns.FacetGrid(topic_words, col=\"topic\", col_wrap=3, sharey=False)\n",
    "g.map(plt.barh, \"word\", \"value\")"
   ]
  },
  {
   "cell_type": "code",
   "execution_count": 33,
   "metadata": {},
   "outputs": [],
   "source": [
    "n_topics = 10\n",
    "\n",
    "# Build an LDA model\n",
    "lda_model = models.LdaModel(corpus_tfidf, id2word=dictionary, num_topics=n_topics)"
   ]
  },
  {
   "cell_type": "code",
   "execution_count": 34,
   "metadata": {},
   "outputs": [
    {
     "data": {
      "text/plain": [
       "[(0,\n",
       "  '0.028*\"very\" + 0.021*\"ve\" + 0.019*\"nice\" + 0.015*\"bad\" + 0.013*\"driver\" + 0.012*\"really\" + 0.011*\"customer\" + 0.011*\"good\" + 0.010*\"rude\" + 0.010*\"courteous\"'),\n",
       " (1,\n",
       "  '0.053*\"utaxi\" + 0.021*\"them\" + 0.018*\"card\" + 0.015*\"app\" + 0.012*\"home\" + 0.012*\"not\" + 0.012*\"company\" + 0.011*\"phone\" + 0.011*\"number\" + 0.010*\"charge\"'),\n",
       " (2,\n",
       "  '0.021*\"rude\" + 0.019*\"not\" + 0.019*\"great\" + 0.017*\"driver\" + 0.013*\"account\" + 0.013*\"around\" + 0.012*\"utaxi\" + 0.012*\"your\" + 0.012*\"problem\" + 0.012*\"able\"'),\n",
       " (3,\n",
       "  '0.019*\"time\" + 0.016*\"account\" + 0.014*\"used\" + 0.014*\"when\" + 0.014*\"credit\" + 0.013*\"work\" + 0.013*\"check\" + 0.012*\"ride\" + 0.010*\"called\" + 0.009*\"convenient\"'),\n",
       " (4,\n",
       "  '0.026*\"utaxi\" + 0.018*\"airport\" + 0.014*\"same\" + 0.013*\"now\" + 0.013*\"then\" + 0.013*\"charged\" + 0.012*\"rate\" + 0.012*\"cab\" + 0.011*\"charge\" + 0.010*\"fee\"'),\n",
       " (5,\n",
       "  '0.026*\"fare\" + 0.014*\"mile\" + 0.012*\"use\" + 0.012*\"for\" + 0.012*\"last\" + 0.011*\"problem\" + 0.011*\"requested\" + 0.010*\"cancelled\" + 0.010*\"re\" + 0.009*\"help\"'),\n",
       " (6,\n",
       "  '0.018*\"they\" + 0.014*\"received\" + 0.012*\"cancellation\" + 0.012*\"easy\" + 0.011*\"try\" + 0.010*\"both\" + 0.010*\"again\" + 0.009*\"picked\" + 0.009*\"getting\" + 0.009*\"work\"'),\n",
       " (7,\n",
       "  '0.028*\"best\" + 0.026*\"utaxi\" + 0.017*\"always\" + 0.016*\"the\" + 0.015*\"they\" + 0.014*\"show\" + 0.014*\"use\" + 0.014*\"contact\" + 0.013*\"response\" + 0.011*\"business\"'),\n",
       " (8,\n",
       "  '0.082*\"service\" + 0.080*\"other\" + 0.074*\"advertising\" + 0.025*\"rider\" + 0.021*\"area\" + 0.017*\"three\" + 0.012*\"sometimes\" + 0.009*\"text\" + 0.009*\"gps\" + 0.008*\"amazing\"'),\n",
       " (9,\n",
       "  '0.018*\"good\" + 0.016*\"thing\" + 0.016*\"experience\" + 0.016*\"prompt\" + 0.014*\"very\" + 0.013*\"thanks\" + 0.013*\"utaxi\" + 0.013*\"driver\" + 0.013*\"passenger\" + 0.013*\"hotel\"')]"
      ]
     },
     "execution_count": 34,
     "metadata": {},
     "output_type": "execute_result"
    }
   ],
   "source": [
    "lda_model.print_topics()"
   ]
  },
  {
   "cell_type": "code",
   "execution_count": 35,
   "metadata": {},
   "outputs": [
    {
     "data": {
      "text/html": [
       "<div>\n",
       "<style scoped>\n",
       "    .dataframe tbody tr th:only-of-type {\n",
       "        vertical-align: middle;\n",
       "    }\n",
       "\n",
       "    .dataframe tbody tr th {\n",
       "        vertical-align: top;\n",
       "    }\n",
       "\n",
       "    .dataframe thead th {\n",
       "        text-align: right;\n",
       "    }\n",
       "</style>\n",
       "<table border=\"1\" class=\"dataframe\">\n",
       "  <thead>\n",
       "    <tr style=\"text-align: right;\">\n",
       "      <th></th>\n",
       "      <th>value</th>\n",
       "      <th>word</th>\n",
       "      <th>topic</th>\n",
       "    </tr>\n",
       "  </thead>\n",
       "  <tbody>\n",
       "    <tr>\n",
       "      <th>0</th>\n",
       "      <td>0.027777</td>\n",
       "      <td>very</td>\n",
       "      <td>0</td>\n",
       "    </tr>\n",
       "    <tr>\n",
       "      <th>1</th>\n",
       "      <td>0.020577</td>\n",
       "      <td>ve</td>\n",
       "      <td>0</td>\n",
       "    </tr>\n",
       "    <tr>\n",
       "      <th>2</th>\n",
       "      <td>0.019022</td>\n",
       "      <td>nice</td>\n",
       "      <td>0</td>\n",
       "    </tr>\n",
       "    <tr>\n",
       "      <th>3</th>\n",
       "      <td>0.014943</td>\n",
       "      <td>bad</td>\n",
       "      <td>0</td>\n",
       "    </tr>\n",
       "    <tr>\n",
       "      <th>4</th>\n",
       "      <td>0.013386</td>\n",
       "      <td>driver</td>\n",
       "      <td>0</td>\n",
       "    </tr>\n",
       "  </tbody>\n",
       "</table>\n",
       "</div>"
      ],
      "text/plain": [
       "      value    word  topic\n",
       "0  0.027777    very      0\n",
       "1  0.020577      ve      0\n",
       "2  0.019022    nice      0\n",
       "3  0.014943     bad      0\n",
       "4  0.013386  driver      0"
      ]
     },
     "execution_count": 35,
     "metadata": {},
     "output_type": "execute_result"
    }
   ],
   "source": [
    "n_words = 10\n",
    "topic_words = pd.DataFrame({})\n",
    "\n",
    "for i, topic in enumerate(lda_model.get_topics()):\n",
    "    top_feature_ids = topic.argsort()[-n_words:][::-1]\n",
    "    feature_values = topic[top_feature_ids]\n",
    "    words = [dictionary[id] for id in top_feature_ids]\n",
    "    topic_df = pd.DataFrame({'value': feature_values, 'word': words, 'topic': i})\n",
    "    topic_words = pd.concat([topic_words, topic_df], ignore_index=True)\n",
    "\n",
    "topic_words.head()"
   ]
  },
  {
   "cell_type": "code",
   "execution_count": 36,
   "metadata": {},
   "outputs": [
    {
     "data": {
      "text/plain": [
       "<seaborn.axisgrid.FacetGrid at 0x22d2dd75a50>"
      ]
     },
     "execution_count": 36,
     "metadata": {},
     "output_type": "execute_result"
    },
    {
     "data": {
      "image/png": "[encoded data removed]",
      "text/plain": [
       "<Figure size 900x1200 with 10 Axes>"
      ]
     },
     "metadata": {},
     "output_type": "display_data"
    }
   ],
   "source": [
    "import seaborn as sns\n",
    "\n",
    "g = sns.FacetGrid(topic_words, col=\"topic\", col_wrap=3, sharey=False)\n",
    "g.map(plt.barh, \"word\", \"value\")"
   ]
  },
  {
   "attachments": {},
   "cell_type": "markdown",
   "metadata": {},
   "source": [
    "##### **BERTopic**\n",
    "\n",
    "*BERTopic is a powerful tool for tasks such as document clustering, topic extraction based on the BERT (Bidirectional Encoder Representations from Transformers) algorithm.*"
   ]
  },
  {
   "cell_type": "code",
   "execution_count": null,
   "metadata": {},
   "outputs": [],
   "source": [
    "!pip install bertopic"
   ]
  },
  {
   "cell_type": "code",
   "execution_count": null,
   "metadata": {},
   "outputs": [],
   "source": [
    "from bertopic import BERTopic\n",
    "from umap import UMAP\n",
    "from hdbscan import HDBSCAN\n",
    "from sklearn.cluster import KMeans"
   ]
  },
  {
   "cell_type": "code",
   "execution_count": 38,
   "metadata": {},
   "outputs": [],
   "source": [
    "corpus = reviews[\"clean_custom_comment\"].to_list()"
   ]
  },
  {
   "cell_type": "code",
   "execution_count": 39,
   "metadata": {},
   "outputs": [],
   "source": [
    "try:\n",
    "  topic_model = BERTopic()\n",
    "  topics, probs = topic_model.fit_transform(corpus)\n",
    "except Exception as e:\n",
    "  print(e)"
   ]
  },
  {
   "cell_type": "code",
   "execution_count": 40,
   "metadata": {},
   "outputs": [],
   "source": [
    "# umap_model = UMAP(n_neighbors=15, n_components=10, min_dist=0.0, metric='cosine')\n",
    "\n",
    "cluster_model = KMeans(n_clusters=15)\n",
    "\n",
    "topic_model = BERTopic(hdbscan_model=cluster_model)\n",
    "topics, probs = topic_model.fit_transform(corpus)"
   ]
  },
  {
   "cell_type": "code",
   "execution_count": 41,
   "metadata": {},
   "outputs": [
    {
     "data": {
      "text/html": [
       "<div>\n",
       "<style scoped>\n",
       "    .dataframe tbody tr th:only-of-type {\n",
       "        vertical-align: middle;\n",
       "    }\n",
       "\n",
       "    .dataframe tbody tr th {\n",
       "        vertical-align: top;\n",
       "    }\n",
       "\n",
       "    .dataframe thead th {\n",
       "        text-align: right;\n",
       "    }\n",
       "</style>\n",
       "<table border=\"1\" class=\"dataframe\">\n",
       "  <thead>\n",
       "    <tr style=\"text-align: right;\">\n",
       "      <th></th>\n",
       "      <th>Topic</th>\n",
       "      <th>Count</th>\n",
       "      <th>Name</th>\n",
       "      <th>Representation</th>\n",
       "      <th>Representative_Docs</th>\n",
       "    </tr>\n",
       "  </thead>\n",
       "  <tbody>\n",
       "    <tr>\n",
       "      <th>0</th>\n",
       "      <td>0</td>\n",
       "      <td>988</td>\n",
       "      <td>0_driver_idle_address_arrived</td>\n",
       "      <td>[driver, idle, address, arrived, didn, started...</td>\n",
       "      <td>[idle started before taxi arrived, arrived lat...</td>\n",
       "    </tr>\n",
       "    <tr>\n",
       "      <th>1</th>\n",
       "      <td>1</td>\n",
       "      <td>853</td>\n",
       "      <td>1_driver_car_very_nice</td>\n",
       "      <td>[driver, car, very, nice, good, great, trip, t...</td>\n",
       "      <td>[amazing very nice car very nice trip, Very ni...</td>\n",
       "    </tr>\n",
       "    <tr>\n",
       "      <th>2</th>\n",
       "      <td>2</td>\n",
       "      <td>717</td>\n",
       "      <td>2_driver_rude_driving_very</td>\n",
       "      <td>[driver, rude, driving, very, bad, the, fast, ...</td>\n",
       "      <td>[Driver very rude, Driver very rude, The drive...</td>\n",
       "    </tr>\n",
       "    <tr>\n",
       "      <th>3</th>\n",
       "      <td>3</td>\n",
       "      <td>702</td>\n",
       "      <td>3_utaxi_not_nt_time</td>\n",
       "      <td>[utaxi, not, nt, time, ride, driver, customer,...</td>\n",
       "      <td>[asked picked Utaxi 2/13/18 really cold out da...</td>\n",
       "    </tr>\n",
       "    <tr>\n",
       "      <th>4</th>\n",
       "      <td>4</td>\n",
       "      <td>530</td>\n",
       "      <td>4_rude_bad_very_behavior</td>\n",
       "      <td>[rude, bad, very, behavior, behaviour, racist,...</td>\n",
       "      <td>[very rude, Very rude, very rude]</td>\n",
       "    </tr>\n",
       "    <tr>\n",
       "      <th>5</th>\n",
       "      <td>5</td>\n",
       "      <td>497</td>\n",
       "      <td>5_wrong_location_address_drop</td>\n",
       "      <td>[wrong, location, address, drop, dropped, plac...</td>\n",
       "      <td>[Arrived wrong address, arrived wrong location...</td>\n",
       "    </tr>\n",
       "    <tr>\n",
       "      <th>6</th>\n",
       "      <td>6</td>\n",
       "      <td>473</td>\n",
       "      <td>6_money_change_uah_give</td>\n",
       "      <td>[money, change, uah, give, more, extra, driver...</td>\n",
       "      <td>[Very rude driver didn want give money back, d...</td>\n",
       "    </tr>\n",
       "    <tr>\n",
       "      <th>7</th>\n",
       "      <td>7</td>\n",
       "      <td>467</td>\n",
       "      <td>7_phone_car_driving_mask</td>\n",
       "      <td>[phone, car, driving, mask, while, driver, col...</td>\n",
       "      <td>[using phone while driving, Very bad driving u...</td>\n",
       "    </tr>\n",
       "    <tr>\n",
       "      <th>8</th>\n",
       "      <td>8</td>\n",
       "      <td>377</td>\n",
       "      <td>8_english_very_good_nice</td>\n",
       "      <td>[english, very, good, nice, great, guy, man, f...</td>\n",
       "      <td>[good car driver speaks very good English, dri...</td>\n",
       "    </tr>\n",
       "    <tr>\n",
       "      <th>9</th>\n",
       "      <td>9</td>\n",
       "      <td>375</td>\n",
       "      <td>9_advertising_other_service_serviceshe</td>\n",
       "      <td>[advertising, other, service, serviceshe, serv...</td>\n",
       "      <td>[Advertising other service, Advertising other ...</td>\n",
       "    </tr>\n",
       "    <tr>\n",
       "      <th>10</th>\n",
       "      <td>10</td>\n",
       "      <td>168</td>\n",
       "      <td>10_music_russian_loud_ukraine</td>\n",
       "      <td>[music, russian, loud, ukraine, ukrainian, bes...</td>\n",
       "      <td>[The music loud, Loud Russian music, music]</td>\n",
       "    </tr>\n",
       "    <tr>\n",
       "      <th>11</th>\n",
       "      <td>11</td>\n",
       "      <td>121</td>\n",
       "      <td>11_perfect_thanks_great_thank</td>\n",
       "      <td>[perfect, thanks, great, thank, everything, go...</td>\n",
       "      <td>[Perfect, Perfect Thanks, thanks lot perfect]</td>\n",
       "    </tr>\n",
       "    <tr>\n",
       "      <th>12</th>\n",
       "      <td>12</td>\n",
       "      <td>40</td>\n",
       "      <td>12_best_the_ever_one</td>\n",
       "      <td>[best, the, ever, one, world, ukraine, you, th...</td>\n",
       "      <td>[The best best, The best best, The best best]</td>\n",
       "    </tr>\n",
       "    <tr>\n",
       "      <th>13</th>\n",
       "      <td>13</td>\n",
       "      <td>38</td>\n",
       "      <td>13_bad_very_horrible_worst</td>\n",
       "      <td>[bad, very, horrible, worst, porson, shitty, c...</td>\n",
       "      <td>[Very bad, Very bad, Very bad]</td>\n",
       "    </tr>\n",
       "    <tr>\n",
       "      <th>14</th>\n",
       "      <td>14</td>\n",
       "      <td>11</td>\n",
       "      <td>14_other_somehow__</td>\n",
       "      <td>[other, somehow, , , , , , , , ]</td>\n",
       "      <td>[Other, Other, Other]</td>\n",
       "    </tr>\n",
       "  </tbody>\n",
       "</table>\n",
       "</div>"
      ],
      "text/plain": [
       "    Topic  Count                                    Name  \\\n",
       "0       0    988           0_driver_idle_address_arrived   \n",
       "1       1    853                  1_driver_car_very_nice   \n",
       "2       2    717              2_driver_rude_driving_very   \n",
       "3       3    702                     3_utaxi_not_nt_time   \n",
       "4       4    530                4_rude_bad_very_behavior   \n",
       "5       5    497           5_wrong_location_address_drop   \n",
       "6       6    473                 6_money_change_uah_give   \n",
       "7       7    467                7_phone_car_driving_mask   \n",
       "8       8    377                8_english_very_good_nice   \n",
       "9       9    375  9_advertising_other_service_serviceshe   \n",
       "10     10    168           10_music_russian_loud_ukraine   \n",
       "11     11    121           11_perfect_thanks_great_thank   \n",
       "12     12     40                    12_best_the_ever_one   \n",
       "13     13     38              13_bad_very_horrible_worst   \n",
       "14     14     11                      14_other_somehow__   \n",
       "\n",
       "                                       Representation  \\\n",
       "0   [driver, idle, address, arrived, didn, started...   \n",
       "1   [driver, car, very, nice, good, great, trip, t...   \n",
       "2   [driver, rude, driving, very, bad, the, fast, ...   \n",
       "3   [utaxi, not, nt, time, ride, driver, customer,...   \n",
       "4   [rude, bad, very, behavior, behaviour, racist,...   \n",
       "5   [wrong, location, address, drop, dropped, plac...   \n",
       "6   [money, change, uah, give, more, extra, driver...   \n",
       "7   [phone, car, driving, mask, while, driver, col...   \n",
       "8   [english, very, good, nice, great, guy, man, f...   \n",
       "9   [advertising, other, service, serviceshe, serv...   \n",
       "10  [music, russian, loud, ukraine, ukrainian, bes...   \n",
       "11  [perfect, thanks, great, thank, everything, go...   \n",
       "12  [best, the, ever, one, world, ukraine, you, th...   \n",
       "13  [bad, very, horrible, worst, porson, shitty, c...   \n",
       "14                   [other, somehow, , , , , , , , ]   \n",
       "\n",
       "                                  Representative_Docs  \n",
       "0   [idle started before taxi arrived, arrived lat...  \n",
       "1   [amazing very nice car very nice trip, Very ni...  \n",
       "2   [Driver very rude, Driver very rude, The drive...  \n",
       "3   [asked picked Utaxi 2/13/18 really cold out da...  \n",
       "4                   [very rude, Very rude, very rude]  \n",
       "5   [Arrived wrong address, arrived wrong location...  \n",
       "6   [Very rude driver didn want give money back, d...  \n",
       "7   [using phone while driving, Very bad driving u...  \n",
       "8   [good car driver speaks very good English, dri...  \n",
       "9   [Advertising other service, Advertising other ...  \n",
       "10        [The music loud, Loud Russian music, music]  \n",
       "11      [Perfect, Perfect Thanks, thanks lot perfect]  \n",
       "12      [The best best, The best best, The best best]  \n",
       "13                     [Very bad, Very bad, Very bad]  \n",
       "14                              [Other, Other, Other]  "
      ]
     },
     "execution_count": 41,
     "metadata": {},
     "output_type": "execute_result"
    }
   ],
   "source": [
    "# To see how many topics were extracted, and how many tokens are associated to each of these topics\n",
    "\n",
    "topic_model.get_topic_info()\n",
    "\n",
    "# [Topic] -1 refers to all outliers and should typically be ignored\""
   ]
  },
  {
   "cell_type": "code",
   "execution_count": 42,
   "metadata": {},
   "outputs": [
    {
     "name": "stdout",
     "output_type": "stream",
     "text": [
      "\n",
      "Topic: 1\n",
      "\n",
      "\t driver\n",
      "\t idle\n",
      "\t address\n",
      "\t arrived\n",
      "\t didn\n",
      "\t started\n",
      "\t wrong\n",
      "\t late\n",
      "\t trip\n",
      "\t route\n",
      "\n",
      "Topic: 2\n",
      "\n",
      "\t driver\n",
      "\t car\n",
      "\t very\n",
      "\t nice\n",
      "\t good\n",
      "\t great\n",
      "\t trip\n",
      "\t the\n",
      "\t best\n",
      "\t polite\n",
      "\n",
      "Topic: 3\n",
      "\n",
      "\t driver\n",
      "\t rude\n",
      "\t driving\n",
      "\t very\n",
      "\t bad\n",
      "\t the\n",
      "\t fast\n",
      "\t drive\n",
      "\t racist\n",
      "\t too\n",
      "\n",
      "Topic: 4\n",
      "\n",
      "\t utaxi\n",
      "\t not\n",
      "\t nt\n",
      "\t time\n",
      "\t ride\n",
      "\t driver\n",
      "\t customer\n",
      "\t account\n",
      "\t them\n",
      "\t app\n",
      "\n",
      "Topic: 5\n",
      "\n",
      "\t rude\n",
      "\t bad\n",
      "\t very\n",
      "\t behavior\n",
      "\t behaviour\n",
      "\t racist\n",
      "\t shouting\n",
      "\t not\n",
      "\t too\n",
      "\t attitude\n",
      "\n",
      "Topic: 6\n",
      "\n",
      "\t wrong\n",
      "\t location\n",
      "\t address\n",
      "\t drop\n",
      "\t dropped\n",
      "\t place\n",
      "\t arrived\n",
      "\t late\n",
      "\t didn\n",
      "\t destination\n",
      "\n",
      "Topic: 7\n",
      "\n",
      "\t money\n",
      "\t change\n",
      "\t uah\n",
      "\t give\n",
      "\t more\n",
      "\t extra\n",
      "\t driver\n",
      "\t took\n",
      "\t didn\n",
      "\t price\n",
      "\n",
      "Topic: 8\n",
      "\n",
      "\t phone\n",
      "\t car\n",
      "\t driving\n",
      "\t mask\n",
      "\t while\n",
      "\t driver\n",
      "\t cold\n",
      "\t smoking\n",
      "\t bag\n",
      "\t seat\n",
      "\n",
      "Topic: 9\n",
      "\n",
      "\t english\n",
      "\t very\n",
      "\t good\n",
      "\t nice\n",
      "\t great\n",
      "\t guy\n",
      "\t man\n",
      "\t friendly\n",
      "\t speaks\n",
      "\t service\n",
      "\n",
      "Topic: 10\n",
      "\n",
      "\t advertising\n",
      "\t other\n",
      "\t service\n",
      "\t serviceshe\n",
      "\t servicesvery\n",
      "\t servicesbad\n",
      "\t servicesso\n",
      "\t servicesdidn\n",
      "\t serviceswas\n",
      "\t servicesnot\n",
      "\n",
      "Topic: 11\n",
      "\n",
      "\t music\n",
      "\t russian\n",
      "\t loud\n",
      "\t ukraine\n",
      "\t ukrainian\n",
      "\t best\n",
      "\t speak\n",
      "\t language\n",
      "\t playlist\n",
      "\t driver\n",
      "\n",
      "Topic: 12\n",
      "\n",
      "\t perfect\n",
      "\t thanks\n",
      "\t great\n",
      "\t thank\n",
      "\t everything\n",
      "\t good\n",
      "\t cool\n",
      "\t wonderful\n",
      "\t nothing\n",
      "\t lot\n",
      "\n",
      "Topic: 13\n",
      "\n",
      "\t best\n",
      "\t the\n",
      "\t ever\n",
      "\t one\n",
      "\t world\n",
      "\t ukraine\n",
      "\t you\n",
      "\t thank\n",
      "\t man\n",
      "\t much\n",
      "\n",
      "Topic: 14\n",
      "\n",
      "\t bad\n",
      "\t very\n",
      "\t horrible\n",
      "\t worst\n",
      "\t porson\n",
      "\t shitty\n",
      "\t cursed\n",
      "\t terrible\n",
      "\t was\n",
      "\t really\n",
      "\n",
      "Topic: 15\n",
      "\n",
      "\t other\n",
      "\t somehow\n",
      "\t \n",
      "\t \n",
      "\t \n",
      "\t \n",
      "\t \n",
      "\t \n",
      "\t \n",
      "\t \n"
     ]
    }
   ],
   "source": [
    "def showTopics():\n",
    "  for topics in range(0, (len(topic_model.get_topic_info()))):\n",
    "    print(f\"\\nTopic: {topics + 1}\\n\")\n",
    "    for t in topic_model.get_topic(topics):\n",
    "      print(\"\\t\", t[0])\n",
    "\n",
    "showTopics()"
   ]
  },
  {
   "cell_type": "code",
   "execution_count": 43,
   "metadata": {},
   "outputs": [
    {
     "data": {
      "application/vnd.plotly.v1+json": {
       "config": {
        "plotlyServerURL": "https://plot.ly"
       },
       "data": [
        {
         "marker": {
          "color": "#D55E00"
         },
         "orientation": "h",
         "type": "bar",
         "x": [
          0.03712192704943011,
          0.03769296603971171,
          0.038704437536544366,
          0.06379452025854766,
          0.06802873037957086
         ],
         "xaxis": "x",
         "y": [
          "didn  ",
          "arrived  ",
          "address  ",
          "idle  ",
          "driver  "
         ],
         "yaxis": "y"
        },
        {
         "marker": {
          "color": "#0072B2"
         },
         "orientation": "h",
         "type": "bar",
         "x": [
          0.07006922953642525,
          0.07792618532480225,
          0.07870754044668113,
          0.07879050392893933,
          0.09260595248588811
         ],
         "xaxis": "x2",
         "y": [
          "good  ",
          "nice  ",
          "very  ",
          "car  ",
          "driver  "
         ],
         "yaxis": "y2"
        },
        {
         "marker": {
          "color": "#CC79A7"
         },
         "orientation": "h",
         "type": "bar",
         "x": [
          0.04265595949076591,
          0.0572652734861072,
          0.07340100078261154,
          0.07972609065752105,
          0.09203545367120741
         ],
         "xaxis": "x3",
         "y": [
          "bad  ",
          "very  ",
          "driving  ",
          "rude  ",
          "driver  "
         ],
         "yaxis": "y3"
        },
        {
         "marker": {
          "color": "#E69F00"
         },
         "orientation": "h",
         "type": "bar",
         "x": [
          0.022886438619690773,
          0.023619247556845656,
          0.024640202151450304,
          0.025098083110758028,
          0.06025344607753157
         ],
         "xaxis": "x4",
         "y": [
          "ride  ",
          "time  ",
          "nt  ",
          "not  ",
          "utaxi  "
         ],
         "yaxis": "y4"
        },
        {
         "marker": {
          "color": "#56B4E9"
         },
         "orientation": "h",
         "type": "bar",
         "x": [
          0.08208381934845975,
          0.1023589175822871,
          0.1166807127891982,
          0.12769858756964997,
          0.21888187654839614
         ],
         "xaxis": "x5",
         "y": [
          "behaviour  ",
          "behavior  ",
          "very  ",
          "bad  ",
          "rude  "
         ],
         "yaxis": "y5"
        },
        {
         "marker": {
          "color": "#009E73"
         },
         "orientation": "h",
         "type": "bar",
         "x": [
          0.059397831602585466,
          0.06493005657785474,
          0.09932793060794246,
          0.10747188995883782,
          0.1439554700673443
         ],
         "xaxis": "x6",
         "y": [
          "dropped  ",
          "drop  ",
          "address  ",
          "location  ",
          "wrong  "
         ],
         "yaxis": "y6"
        },
        {
         "marker": {
          "color": "#F0E442"
         },
         "orientation": "h",
         "type": "bar",
         "x": [
          0.055363114680317245,
          0.06691000682739484,
          0.06822043825393069,
          0.09324843662426324,
          0.1176843925891182
         ],
         "xaxis": "x7",
         "y": [
          "more  ",
          "give  ",
          "uah  ",
          "change  ",
          "money  "
         ],
         "yaxis": "y7"
        },
        {
         "marker": {
          "color": "#D55E00"
         },
         "orientation": "h",
         "type": "bar",
         "x": [
          0.0629765811952383,
          0.07464542355252916,
          0.07574745371472856,
          0.07858982889164383,
          0.10196763211526635
         ],
         "xaxis": "x8",
         "y": [
          "while  ",
          "mask  ",
          "driving  ",
          "car  ",
          "phone  "
         ],
         "yaxis": "y8"
        }
       ],
       "layout": {
        "annotations": [
         {
          "font": {
           "size": 16
          },
          "showarrow": false,
          "text": "Topic 0",
          "x": 0.0875,
          "xanchor": "center",
          "xref": "paper",
          "y": 1,
          "yanchor": "bottom",
          "yref": "paper"
         },
         {
          "font": {
           "size": 16
          },
          "showarrow": false,
          "text": "Topic 1",
          "x": 0.36250000000000004,
          "xanchor": "center",
          "xref": "paper",
          "y": 1,
          "yanchor": "bottom",
          "yref": "paper"
         },
         {
          "font": {
           "size": 16
          },
          "showarrow": false,
          "text": "Topic 2",
          "x": 0.6375000000000001,
          "xanchor": "center",
          "xref": "paper",
          "y": 1,
          "yanchor": "bottom",
          "yref": "paper"
         },
         {
          "font": {
           "size": 16
          },
          "showarrow": false,
          "text": "Topic 3",
          "x": 0.9125,
          "xanchor": "center",
          "xref": "paper",
          "y": 1,
          "yanchor": "bottom",
          "yref": "paper"
         },
         {
          "font": {
           "size": 16
          },
          "showarrow": false,
          "text": "Topic 4",
          "x": 0.0875,
          "xanchor": "center",
          "xref": "paper",
          "y": 0.4,
          "yanchor": "bottom",
          "yref": "paper"
         },
         {
          "font": {
           "size": 16
          },
          "showarrow": false,
          "text": "Topic 5",
          "x": 0.36250000000000004,
          "xanchor": "center",
          "xref": "paper",
          "y": 0.4,
          "yanchor": "bottom",
          "yref": "paper"
         },
         {
          "font": {
           "size": 16
          },
          "showarrow": false,
          "text": "Topic 6",
          "x": 0.6375000000000001,
          "xanchor": "center",
          "xref": "paper",
          "y": 0.4,
          "yanchor": "bottom",
          "yref": "paper"
         },
         {
          "font": {
           "size": 16
          },
          "showarrow": false,
          "text": "Topic 7",
          "x": 0.9125,
          "xanchor": "center",
          "xref": "paper",
          "y": 0.4,
          "yanchor": "bottom",
          "yref": "paper"
         }
        ],
        "height": 500,
        "hoverlabel": {
         "bgcolor": "white",
         "font": {
          "family": "Rockwell",
          "size": 16
         }
        },
        "showlegend": false,
        "template": {
         "data": {
          "bar": [
           {
            "error_x": {
             "color": "#2a3f5f"
            },
            "error_y": {
             "color": "#2a3f5f"
            },
            "marker": {
             "line": {
              "color": "white",
              "width": 0.5
             },
             "pattern": {
              "fillmode": "overlay",
              "size": 10,
              "solidity": 0.2
             }
            },
            "type": "bar"
           }
          ],
          "barpolar": [
           {
            "marker": {
             "line": {
              "color": "white",
              "width": 0.5
             },
             "pattern": {
              "fillmode": "overlay",
              "size": 10,
              "solidity": 0.2
             }
            },
            "type": "barpolar"
           }
          ],
          "carpet": [
           {
            "aaxis": {
             "endlinecolor": "#2a3f5f",
             "gridcolor": "#C8D4E3",
             "linecolor": "#C8D4E3",
             "minorgridcolor": "#C8D4E3",
             "startlinecolor": "#2a3f5f"
            },
            "baxis": {
             "endlinecolor": "#2a3f5f",
             "gridcolor": "#C8D4E3",
             "linecolor": "#C8D4E3",
             "minorgridcolor": "#C8D4E3",
             "startlinecolor": "#2a3f5f"
            },
            "type": "carpet"
           }
          ],
          "choropleth": [
           {
            "colorbar": {
             "outlinewidth": 0,
             "ticks": ""
            },
            "type": "choropleth"
           }
          ],
          "contour": [
           {
            "colorbar": {
             "outlinewidth": 0,
             "ticks": ""
            },
            "colorscale": [
             [
              0,
              "#0d0887"
             ],
             [
              0.1111111111111111,
              "#46039f"
             ],
             [
              0.2222222222222222,
              "#7201a8"
             ],
             [
              0.3333333333333333,
              "#9c179e"
             ],
             [
              0.4444444444444444,
              "#bd3786"
             ],
             [
              0.5555555555555556,
              "#d8576b"
             ],
             [
              0.6666666666666666,
              "#ed7953"
             ],
             [
              0.7777777777777778,
              "#fb9f3a"
             ],
             [
              0.8888888888888888,
              "#fdca26"
             ],
             [
              1,
              "#f0f921"
             ]
            ],
            "type": "contour"
           }
          ],
          "contourcarpet": [
           {
            "colorbar": {
             "outlinewidth": 0,
             "ticks": ""
            },
            "type": "contourcarpet"
           }
          ],
          "heatmap": [
           {
            "colorbar": {
             "outlinewidth": 0,
             "ticks": ""
            },
            "colorscale": [
             [
              0,
              "#0d0887"
             ],
             [
              0.1111111111111111,
              "#46039f"
             ],
             [
              0.2222222222222222,
              "#7201a8"
             ],
             [
              0.3333333333333333,
              "#9c179e"
             ],
             [
              0.4444444444444444,
              "#bd3786"
             ],
             [
              0.5555555555555556,
              "#d8576b"
             ],
             [
              0.6666666666666666,
              "#ed7953"
             ],
             [
              0.7777777777777778,
              "#fb9f3a"
             ],
             [
              0.8888888888888888,
              "#fdca26"
             ],
             [
              1,
              "#f0f921"
             ]
            ],
            "type": "heatmap"
           }
          ],
          "heatmapgl": [
           {
            "colorbar": {
             "outlinewidth": 0,
             "ticks": ""
            },
            "colorscale": [
             [
              0,
              "#0d0887"
             ],
             [
              0.1111111111111111,
              "#46039f"
             ],
             [
              0.2222222222222222,
              "#7201a8"
             ],
             [
              0.3333333333333333,
              "#9c179e"
             ],
             [
              0.4444444444444444,
              "#bd3786"
             ],
             [
              0.5555555555555556,
              "#d8576b"
             ],
             [
              0.6666666666666666,
              "#ed7953"
             ],
             [
              0.7777777777777778,
              "#fb9f3a"
             ],
             [
              0.8888888888888888,
              "#fdca26"
             ],
             [
              1,
              "#f0f921"
             ]
            ],
            "type": "heatmapgl"
           }
          ],
          "histogram": [
           {
            "marker": {
             "pattern": {
              "fillmode": "overlay",
              "size": 10,
              "solidity": 0.2
             }
            },
            "type": "histogram"
           }
          ],
          "histogram2d": [
           {
            "colorbar": {
             "outlinewidth": 0,
             "ticks": ""
            },
            "colorscale": [
             [
              0,
              "#0d0887"
             ],
             [
              0.1111111111111111,
              "#46039f"
             ],
             [
              0.2222222222222222,
              "#7201a8"
             ],
             [
              0.3333333333333333,
              "#9c179e"
             ],
             [
              0.4444444444444444,
              "#bd3786"
             ],
             [
              0.5555555555555556,
              "#d8576b"
             ],
             [
              0.6666666666666666,
              "#ed7953"
             ],
             [
              0.7777777777777778,
              "#fb9f3a"
             ],
             [
              0.8888888888888888,
              "#fdca26"
             ],
             [
              1,
              "#f0f921"
             ]
            ],
            "type": "histogram2d"
           }
          ],
          "histogram2dcontour": [
           {
            "colorbar": {
             "outlinewidth": 0,
             "ticks": ""
            },
            "colorscale": [
             [
              0,
              "#0d0887"
             ],
             [
              0.1111111111111111,
              "#46039f"
             ],
             [
              0.2222222222222222,
              "#7201a8"
             ],
             [
              0.3333333333333333,
              "#9c179e"
             ],
             [
              0.4444444444444444,
              "#bd3786"
             ],
             [
              0.5555555555555556,
              "#d8576b"
             ],
             [
              0.6666666666666666,
              "#ed7953"
             ],
             [
              0.7777777777777778,
              "#fb9f3a"
             ],
             [
              0.8888888888888888,
              "#fdca26"
             ],
             [
              1,
              "#f0f921"
             ]
            ],
            "type": "histogram2dcontour"
           }
          ],
          "mesh3d": [
           {
            "colorbar": {
             "outlinewidth": 0,
             "ticks": ""
            },
            "type": "mesh3d"
           }
          ],
          "parcoords": [
           {
            "line": {
             "colorbar": {
              "outlinewidth": 0,
              "ticks": ""
             }
            },
            "type": "parcoords"
           }
          ],
          "pie": [
           {
            "automargin": true,
            "type": "pie"
           }
          ],
          "scatter": [
           {
            "fillpattern": {
             "fillmode": "overlay",
             "size": 10,
             "solidity": 0.2
            },
            "type": "scatter"
           }
          ],
          "scatter3d": [
           {
            "line": {
             "colorbar": {
              "outlinewidth": 0,
              "ticks": ""
             }
            },
            "marker": {
             "colorbar": {
              "outlinewidth": 0,
              "ticks": ""
             }
            },
            "type": "scatter3d"
           }
          ],
          "scattercarpet": [
           {
            "marker": {
             "colorbar": {
              "outlinewidth": 0,
              "ticks": ""
             }
            },
            "type": "scattercarpet"
           }
          ],
          "scattergeo": [
           {
            "marker": {
             "colorbar": {
              "outlinewidth": 0,
              "ticks": ""
             }
            },
            "type": "scattergeo"
           }
          ],
          "scattergl": [
           {
            "marker": {
             "colorbar": {
              "outlinewidth": 0,
              "ticks": ""
             }
            },
            "type": "scattergl"
           }
          ],
          "scattermapbox": [
           {
            "marker": {
             "colorbar": {
              "outlinewidth": 0,
              "ticks": ""
             }
            },
            "type": "scattermapbox"
           }
          ],
          "scatterpolar": [
           {
            "marker": {
             "colorbar": {
              "outlinewidth": 0,
              "ticks": ""
             }
            },
            "type": "scatterpolar"
           }
          ],
          "scatterpolargl": [
           {
            "marker": {
             "colorbar": {
              "outlinewidth": 0,
              "ticks": ""
             }
            },
            "type": "scatterpolargl"
           }
          ],
          "scatterternary": [
           {
            "marker": {
             "colorbar": {
              "outlinewidth": 0,
              "ticks": ""
             }
            },
            "type": "scatterternary"
           }
          ],
          "surface": [
           {
            "colorbar": {
             "outlinewidth": 0,
             "ticks": ""
            },
            "colorscale": [
             [
              0,
              "#0d0887"
             ],
             [
              0.1111111111111111,
              "#46039f"
             ],
             [
              0.2222222222222222,
              "#7201a8"
             ],
             [
              0.3333333333333333,
              "#9c179e"
             ],
             [
              0.4444444444444444,
              "#bd3786"
             ],
             [
              0.5555555555555556,
              "#d8576b"
             ],
             [
              0.6666666666666666,
              "#ed7953"
             ],
             [
              0.7777777777777778,
              "#fb9f3a"
             ],
             [
              0.8888888888888888,
              "#fdca26"
             ],
             [
              1,
              "#f0f921"
             ]
            ],
            "type": "surface"
           }
          ],
          "table": [
           {
            "cells": {
             "fill": {
              "color": "#EBF0F8"
             },
             "line": {
              "color": "white"
             }
            },
            "header": {
             "fill": {
              "color": "#C8D4E3"
             },
             "line": {
              "color": "white"
             }
            },
            "type": "table"
           }
          ]
         },
         "layout": {
          "annotationdefaults": {
           "arrowcolor": "#2a3f5f",
           "arrowhead": 0,
           "arrowwidth": 1
          },
          "autotypenumbers": "strict",
          "coloraxis": {
           "colorbar": {
            "outlinewidth": 0,
            "ticks": ""
           }
          },
          "colorscale": {
           "diverging": [
            [
             0,
             "#8e0152"
            ],
            [
             0.1,
             "#c51b7d"
            ],
            [
             0.2,
             "#de77ae"
            ],
            [
             0.3,
             "#f1b6da"
            ],
            [
             0.4,
             "#fde0ef"
            ],
            [
             0.5,
             "#f7f7f7"
            ],
            [
             0.6,
             "#e6f5d0"
            ],
            [
             0.7,
             "#b8e186"
            ],
            [
             0.8,
             "#7fbc41"
            ],
            [
             0.9,
             "#4d9221"
            ],
            [
             1,
             "#276419"
            ]
           ],
           "sequential": [
            [
             0,
             "#0d0887"
            ],
            [
             0.1111111111111111,
             "#46039f"
            ],
            [
             0.2222222222222222,
             "#7201a8"
            ],
            [
             0.3333333333333333,
             "#9c179e"
            ],
            [
             0.4444444444444444,
             "#bd3786"
            ],
            [
             0.5555555555555556,
             "#d8576b"
            ],
            [
             0.6666666666666666,
             "#ed7953"
            ],
            [
             0.7777777777777778,
             "#fb9f3a"
            ],
            [
             0.8888888888888888,
             "#fdca26"
            ],
            [
             1,
             "#f0f921"
            ]
           ],
           "sequentialminus": [
            [
             0,
             "#0d0887"
            ],
            [
             0.1111111111111111,
             "#46039f"
            ],
            [
             0.2222222222222222,
             "#7201a8"
            ],
            [
             0.3333333333333333,
             "#9c179e"
            ],
            [
             0.4444444444444444,
             "#bd3786"
            ],
            [
             0.5555555555555556,
             "#d8576b"
            ],
            [
             0.6666666666666666,
             "#ed7953"
            ],
            [
             0.7777777777777778,
             "#fb9f3a"
            ],
            [
             0.8888888888888888,
             "#fdca26"
            ],
            [
             1,
             "#f0f921"
            ]
           ]
          },
          "colorway": [
           "#636efa",
           "#EF553B",
           "#00cc96",
           "#ab63fa",
           "#FFA15A",
           "#19d3f3",
           "#FF6692",
           "#B6E880",
           "#FF97FF",
           "#FECB52"
          ],
          "font": {
           "color": "#2a3f5f"
          },
          "geo": {
           "bgcolor": "white",
           "lakecolor": "white",
           "landcolor": "white",
           "showlakes": true,
           "showland": true,
           "subunitcolor": "#C8D4E3"
          },
          "hoverlabel": {
           "align": "left"
          },
          "hovermode": "closest",
          "mapbox": {
           "style": "light"
          },
          "paper_bgcolor": "white",
          "plot_bgcolor": "white",
          "polar": {
           "angularaxis": {
            "gridcolor": "#EBF0F8",
            "linecolor": "#EBF0F8",
            "ticks": ""
           },
           "bgcolor": "white",
           "radialaxis": {
            "gridcolor": "#EBF0F8",
            "linecolor": "#EBF0F8",
            "ticks": ""
           }
          },
          "scene": {
           "xaxis": {
            "backgroundcolor": "white",
            "gridcolor": "#DFE8F3",
            "gridwidth": 2,
            "linecolor": "#EBF0F8",
            "showbackground": true,
            "ticks": "",
            "zerolinecolor": "#EBF0F8"
           },
           "yaxis": {
            "backgroundcolor": "white",
            "gridcolor": "#DFE8F3",
            "gridwidth": 2,
            "linecolor": "#EBF0F8",
            "showbackground": true,
            "ticks": "",
            "zerolinecolor": "#EBF0F8"
           },
           "zaxis": {
            "backgroundcolor": "white",
            "gridcolor": "#DFE8F3",
            "gridwidth": 2,
            "linecolor": "#EBF0F8",
            "showbackground": true,
            "ticks": "",
            "zerolinecolor": "#EBF0F8"
           }
          },
          "shapedefaults": {
           "line": {
            "color": "#2a3f5f"
           }
          },
          "ternary": {
           "aaxis": {
            "gridcolor": "#DFE8F3",
            "linecolor": "#A2B1C6",
            "ticks": ""
           },
           "baxis": {
            "gridcolor": "#DFE8F3",
            "linecolor": "#A2B1C6",
            "ticks": ""
           },
           "bgcolor": "white",
           "caxis": {
            "gridcolor": "#DFE8F3",
            "linecolor": "#A2B1C6",
            "ticks": ""
           }
          },
          "title": {
           "x": 0.05
          },
          "xaxis": {
           "automargin": true,
           "gridcolor": "#EBF0F8",
           "linecolor": "#EBF0F8",
           "ticks": "",
           "title": {
            "standoff": 15
           },
           "zerolinecolor": "#EBF0F8",
           "zerolinewidth": 2
          },
          "yaxis": {
           "automargin": true,
           "gridcolor": "#EBF0F8",
           "linecolor": "#EBF0F8",
           "ticks": "",
           "title": {
            "standoff": 15
           },
           "zerolinecolor": "#EBF0F8",
           "zerolinewidth": 2
          }
         }
        },
        "title": {
         "font": {
          "color": "Black",
          "size": 22
         },
         "text": "Topic Word Scores",
         "x": 0.5,
         "xanchor": "center",
         "yanchor": "top"
        },
        "width": 1000,
        "xaxis": {
         "anchor": "y",
         "domain": [
          0,
          0.175
         ],
         "showgrid": true
        },
        "xaxis2": {
         "anchor": "y2",
         "domain": [
          0.275,
          0.45
         ],
         "showgrid": true
        },
        "xaxis3": {
         "anchor": "y3",
         "domain": [
          0.55,
          0.7250000000000001
         ],
         "showgrid": true
        },
        "xaxis4": {
         "anchor": "y4",
         "domain": [
          0.825,
          1
         ],
         "showgrid": true
        },
        "xaxis5": {
         "anchor": "y5",
         "domain": [
          0,
          0.175
         ],
         "showgrid": true
        },
        "xaxis6": {
         "anchor": "y6",
         "domain": [
          0.275,
          0.45
         ],
         "showgrid": true
        },
        "xaxis7": {
         "anchor": "y7",
         "domain": [
          0.55,
          0.7250000000000001
         ],
         "showgrid": true
        },
        "xaxis8": {
         "anchor": "y8",
         "domain": [
          0.825,
          1
         ],
         "showgrid": true
        },
        "yaxis": {
         "anchor": "x",
         "domain": [
          0.6000000000000001,
          1
         ],
         "showgrid": true
        },
        "yaxis2": {
         "anchor": "x2",
         "domain": [
          0.6000000000000001,
          1
         ],
         "showgrid": true
        },
        "yaxis3": {
         "anchor": "x3",
         "domain": [
          0.6000000000000001,
          1
         ],
         "showgrid": true
        },
        "yaxis4": {
         "anchor": "x4",
         "domain": [
          0.6000000000000001,
          1
         ],
         "showgrid": true
        },
        "yaxis5": {
         "anchor": "x5",
         "domain": [
          0,
          0.4
         ],
         "showgrid": true
        },
        "yaxis6": {
         "anchor": "x6",
         "domain": [
          0,
          0.4
         ],
         "showgrid": true
        },
        "yaxis7": {
         "anchor": "x7",
         "domain": [
          0,
          0.4
         ],
         "showgrid": true
        },
        "yaxis8": {
         "anchor": "x8",
         "domain": [
          0,
          0.4
         ],
         "showgrid": true
        }
       }
      }
     },
     "metadata": {},
     "output_type": "display_data"
    }
   ],
   "source": [
    "topic_model.visualize_barchart()"
   ]
  }
 ],
 "metadata": {
  "kernelspec": {
   "display_name": "Python 3",
   "language": "python",
   "name": "python3"
  },
  "language_info": {
   "codemirror_mode": {
    "name": "ipython",
    "version": 3
   },
   "file_extension": ".py",
   "mimetype": "text/x-python",
   "name": "python",
   "nbconvert_exporter": "python",
   "pygments_lexer": "ipython3",
   "version": "3.10.4"
  },
  "orig_nbformat": 4
 },
 "nbformat": 4,
 "nbformat_minor": 2
}
