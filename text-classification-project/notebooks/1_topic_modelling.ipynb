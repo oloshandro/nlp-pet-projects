{
 "cells": [
  {
   "attachments": {},
   "cell_type": "markdown",
   "metadata": {},
   "source": [
    "**importing modules**"
   ]
  },
  {
   "cell_type": "code",
   "execution_count": 1,
   "metadata": {},
   "outputs": [
    {
     "name": "stderr",
     "output_type": "stream",
     "text": [
      "[nltk_data] Downloading package stopwords to\n",
      "[nltk_data]     C:\\Users\\olkos\\AppData\\Roaming\\nltk_data...\n",
      "[nltk_data]   Package stopwords is already up-to-date!\n",
      "[nltk_data] Downloading package punkt to\n",
      "[nltk_data]     C:\\Users\\olkos\\AppData\\Roaming\\nltk_data...\n",
      "[nltk_data]   Package punkt is already up-to-date!\n",
      "[nltk_data] Downloading package wordnet to\n",
      "[nltk_data]     C:\\Users\\olkos\\AppData\\Roaming\\nltk_data...\n",
      "[nltk_data]   Package wordnet is already up-to-date!\n"
     ]
    }
   ],
   "source": [
    "# data visualisation and manipulation\n",
    "import pandas as pd #import the Pandas library to read the CSV and save it in a data frame\n",
    "import matplotlib.pyplot as plt\n",
    "\n",
    "#import nltk #preprocessing\n",
    "import nltk\n",
    "nltk.download('stopwords')\n",
    "nltk.download('punkt')\n",
    "nltk.download('wordnet')\n",
    "\n",
    "from nltk import word_tokenize, sent_tokenize # tokenizing\n",
    "from nltk.stem import WordNetLemmatizer  # lammatizer from WordNet\n",
    "from nltk.corpus import stopwords  #stopwords\n",
    "import emoji\n",
    "\n",
    "# vectorizers for creating the document-term-matrix (DTM)\n",
    "from sklearn.feature_extraction.text import TfidfVectorizer, CountVectorizer\n",
    "\n",
    "# (?) stop-words: this list includes 'not'\n",
    "stop_words=set(nltk.corpus.stopwords.words('english'))"
   ]
  },
  {
   "cell_type": "code",
   "execution_count": 3,
   "metadata": {},
   "outputs": [],
   "source": [
    "stopwords = ['a', 'about', 'an', 'and', 'are', 'as', 'at', 'be', 'been', 'but', 'by', 'can', \\\n",
    "             'even', 'ever', 'for', 'from', 'get', 'had', 'has', 'have', 'he', 'her', 'hers', 'his', \\\n",
    "             'how', 'i', 'if', 'in', 'into', 'is', 'it', 'its', 'just', 'me', 'my', 'of', 'on', 'or', \\\n",
    "             'see', 'seen', 'she', 'so', 'than', 'that', 'the', 'their', 'there', 'they', 'this', \\\n",
    "             'to', 'was', 'we', 'were', 'what', 'when', 'which', 'who', 'will', 'with', 'you']"
   ]
  },
  {
   "cell_type": "code",
   "execution_count": 13,
   "metadata": {},
   "outputs": [
    {
     "data": {
      "text/html": [
       "<div>\n",
       "<style scoped>\n",
       "    .dataframe tbody tr th:only-of-type {\n",
       "        vertical-align: middle;\n",
       "    }\n",
       "\n",
       "    .dataframe tbody tr th {\n",
       "        vertical-align: top;\n",
       "    }\n",
       "\n",
       "    .dataframe thead th {\n",
       "        text-align: right;\n",
       "    }\n",
       "</style>\n",
       "<table border=\"1\" class=\"dataframe\">\n",
       "  <thead>\n",
       "    <tr style=\"text-align: right;\">\n",
       "      <th></th>\n",
       "      <th>order_id</th>\n",
       "      <th>feedback_id</th>\n",
       "      <th>rider_id</th>\n",
       "      <th>driver_id</th>\n",
       "      <th>created_at</th>\n",
       "      <th>stars</th>\n",
       "      <th>custom_comment</th>\n",
       "    </tr>\n",
       "  </thead>\n",
       "  <tbody>\n",
       "    <tr>\n",
       "      <th>0</th>\n",
       "      <td>0d47c51b-a1df-4901-97eb-58ee193d9655</td>\n",
       "      <td>b89cf504-f2fb-4ad4-a113-1112f6da5265</td>\n",
       "      <td>9d9e0f25-a383-444e-afe7-01ed085d216f</td>\n",
       "      <td>d6c92134-8f65-4da4-b6ab-a2a5c4bbaf9f</td>\n",
       "      <td>2023-03-01 01:49:32</td>\n",
       "      <td>1</td>\n",
       "      <td>very not polite</td>\n",
       "    </tr>\n",
       "    <tr>\n",
       "      <th>1</th>\n",
       "      <td>ae23c8d2-496a-47a8-8fb4-bd48f3e6f342</td>\n",
       "      <td>93748ca6-e77a-46e9-8460-f9c65b3781f6</td>\n",
       "      <td>576e7518-c1af-4697-9182-4251a488cbec</td>\n",
       "      <td>a635ef51-6da4-446a-9161-45d0a48ec2d2</td>\n",
       "      <td>2023-03-01 03:40:14</td>\n",
       "      <td>3</td>\n",
       "      <td>not a pleasant interaction overall. The driver...</td>\n",
       "    </tr>\n",
       "    <tr>\n",
       "      <th>2</th>\n",
       "      <td>def53af0-8c66-4759-ac16-7143b9e116d5</td>\n",
       "      <td>7edf5cf5-aa9f-4be6-8ca7-cd03c1aa66c0</td>\n",
       "      <td>e24c35a0-1cbf-43a1-9cae-171a89d1e7c1</td>\n",
       "      <td>57c5de49-2a44-46f8-800c-71a39490ea92</td>\n",
       "      <td>2023-03-01 06:46:58</td>\n",
       "      <td>1</td>\n",
       "      <td>Driver is a theif. Our travel cost is 154 and ...</td>\n",
       "    </tr>\n",
       "    <tr>\n",
       "      <th>3</th>\n",
       "      <td>365c9450-344e-4608-8abb-a3e8b6ac7019</td>\n",
       "      <td>32e24028-cb9e-4499-bb48-142a0920b61b</td>\n",
       "      <td>b106a159-2d28-4019-bc7f-1feb31d0536e</td>\n",
       "      <td>254a79db-0421-4c3a-afae-3d93fd5fd5ac</td>\n",
       "      <td>2023-03-01 07:44:43</td>\n",
       "      <td>1</td>\n",
       "      <td>he was rude and did not drop me to my destination</td>\n",
       "    </tr>\n",
       "    <tr>\n",
       "      <th>4</th>\n",
       "      <td>52a81772-00cb-4ef0-8935-53ce4cd4c5e2</td>\n",
       "      <td>4372a23a-e506-4918-8006-71238e7eefa4</td>\n",
       "      <td>76311bc2-abbf-4c92-b07c-4716ad41c1ee</td>\n",
       "      <td>cee9eab5-9dc8-4565-b795-b4467059db7d</td>\n",
       "      <td>2023-03-01 07:55:51</td>\n",
       "      <td>1</td>\n",
       "      <td>Drove recklessly. Said he was a race driver. W...</td>\n",
       "    </tr>\n",
       "  </tbody>\n",
       "</table>\n",
       "</div>"
      ],
      "text/plain": [
       "                               order_id                           feedback_id  \\\n",
       "0  0d47c51b-a1df-4901-97eb-58ee193d9655  b89cf504-f2fb-4ad4-a113-1112f6da5265   \n",
       "1  ae23c8d2-496a-47a8-8fb4-bd48f3e6f342  93748ca6-e77a-46e9-8460-f9c65b3781f6   \n",
       "2  def53af0-8c66-4759-ac16-7143b9e116d5  7edf5cf5-aa9f-4be6-8ca7-cd03c1aa66c0   \n",
       "3  365c9450-344e-4608-8abb-a3e8b6ac7019  32e24028-cb9e-4499-bb48-142a0920b61b   \n",
       "4  52a81772-00cb-4ef0-8935-53ce4cd4c5e2  4372a23a-e506-4918-8006-71238e7eefa4   \n",
       "\n",
       "                               rider_id                             driver_id  \\\n",
       "0  9d9e0f25-a383-444e-afe7-01ed085d216f  d6c92134-8f65-4da4-b6ab-a2a5c4bbaf9f   \n",
       "1  576e7518-c1af-4697-9182-4251a488cbec  a635ef51-6da4-446a-9161-45d0a48ec2d2   \n",
       "2  e24c35a0-1cbf-43a1-9cae-171a89d1e7c1  57c5de49-2a44-46f8-800c-71a39490ea92   \n",
       "3  b106a159-2d28-4019-bc7f-1feb31d0536e  254a79db-0421-4c3a-afae-3d93fd5fd5ac   \n",
       "4  76311bc2-abbf-4c92-b07c-4716ad41c1ee  cee9eab5-9dc8-4565-b795-b4467059db7d   \n",
       "\n",
       "            created_at  stars  \\\n",
       "0  2023-03-01 01:49:32      1   \n",
       "1  2023-03-01 03:40:14      3   \n",
       "2  2023-03-01 06:46:58      1   \n",
       "3  2023-03-01 07:44:43      1   \n",
       "4  2023-03-01 07:55:51      1   \n",
       "\n",
       "                                      custom_comment  \n",
       "0                                    very not polite  \n",
       "1  not a pleasant interaction overall. The driver...  \n",
       "2  Driver is a theif. Our travel cost is 154 and ...  \n",
       "3  he was rude and did not drop me to my destination  \n",
       "4  Drove recklessly. Said he was a race driver. W...  "
      ]
     },
     "execution_count": 13,
     "metadata": {},
     "output_type": "execute_result"
    }
   ],
   "source": [
    "# loading dataset\n",
    "reviews = pd.read_csv('../datasets/reviews_taxi_data - data.csv', encoding='utf-8')\n",
    "reviews.head(5)"
   ]
  },
  {
   "attachments": {},
   "cell_type": "markdown",
   "metadata": {},
   "source": [
    "#### **data cleaning & preprocessing:**"
   ]
  },
  {
   "cell_type": "code",
   "execution_count": 14,
   "metadata": {},
   "outputs": [],
   "source": [
    "def clean_text(text):\n",
    "      le=WordNetLemmatizer()\n",
    "      word_tokens=word_tokenize(text)\n",
    "      tokens=[le.lemmatize(w) for w in word_tokens if w not in stopwords and len(w)>2]\n",
    "      cleaned_text=\" \".join(tokens)\n",
    "      return cleaned_text"
   ]
  },
  {
   "cell_type": "code",
   "execution_count": 15,
   "metadata": {},
   "outputs": [
    {
     "data": {
      "text/html": [
       "<div>\n",
       "<style scoped>\n",
       "    .dataframe tbody tr th:only-of-type {\n",
       "        vertical-align: middle;\n",
       "    }\n",
       "\n",
       "    .dataframe tbody tr th {\n",
       "        vertical-align: top;\n",
       "    }\n",
       "\n",
       "    .dataframe thead th {\n",
       "        text-align: right;\n",
       "    }\n",
       "</style>\n",
       "<table border=\"1\" class=\"dataframe\">\n",
       "  <thead>\n",
       "    <tr style=\"text-align: right;\">\n",
       "      <th></th>\n",
       "      <th>order_id</th>\n",
       "      <th>feedback_id</th>\n",
       "      <th>rider_id</th>\n",
       "      <th>driver_id</th>\n",
       "      <th>created_at</th>\n",
       "      <th>stars</th>\n",
       "      <th>custom_comment</th>\n",
       "      <th>clean_custom_comment</th>\n",
       "    </tr>\n",
       "  </thead>\n",
       "  <tbody>\n",
       "    <tr>\n",
       "      <th>0</th>\n",
       "      <td>0d47c51b-a1df-4901-97eb-58ee193d9655</td>\n",
       "      <td>b89cf504-f2fb-4ad4-a113-1112f6da5265</td>\n",
       "      <td>9d9e0f25-a383-444e-afe7-01ed085d216f</td>\n",
       "      <td>d6c92134-8f65-4da4-b6ab-a2a5c4bbaf9f</td>\n",
       "      <td>2023-03-01 01:49:32</td>\n",
       "      <td>1</td>\n",
       "      <td>very not polite</td>\n",
       "      <td>very not polite</td>\n",
       "    </tr>\n",
       "    <tr>\n",
       "      <th>1</th>\n",
       "      <td>ae23c8d2-496a-47a8-8fb4-bd48f3e6f342</td>\n",
       "      <td>93748ca6-e77a-46e9-8460-f9c65b3781f6</td>\n",
       "      <td>576e7518-c1af-4697-9182-4251a488cbec</td>\n",
       "      <td>a635ef51-6da4-446a-9161-45d0a48ec2d2</td>\n",
       "      <td>2023-03-01 03:40:14</td>\n",
       "      <td>3</td>\n",
       "      <td>not a pleasant interaction overall. The driver...</td>\n",
       "      <td>not pleasant interaction overall The driver se...</td>\n",
       "    </tr>\n",
       "    <tr>\n",
       "      <th>2</th>\n",
       "      <td>def53af0-8c66-4759-ac16-7143b9e116d5</td>\n",
       "      <td>7edf5cf5-aa9f-4be6-8ca7-cd03c1aa66c0</td>\n",
       "      <td>e24c35a0-1cbf-43a1-9cae-171a89d1e7c1</td>\n",
       "      <td>57c5de49-2a44-46f8-800c-71a39490ea92</td>\n",
       "      <td>2023-03-01 06:46:58</td>\n",
       "      <td>1</td>\n",
       "      <td>Driver is a theif. Our travel cost is 154 and ...</td>\n",
       "      <td>Driver theif Our travel cost 154 gave 200. hur...</td>\n",
       "    </tr>\n",
       "    <tr>\n",
       "      <th>3</th>\n",
       "      <td>365c9450-344e-4608-8abb-a3e8b6ac7019</td>\n",
       "      <td>32e24028-cb9e-4499-bb48-142a0920b61b</td>\n",
       "      <td>b106a159-2d28-4019-bc7f-1feb31d0536e</td>\n",
       "      <td>254a79db-0421-4c3a-afae-3d93fd5fd5ac</td>\n",
       "      <td>2023-03-01 07:44:43</td>\n",
       "      <td>1</td>\n",
       "      <td>he was rude and did not drop me to my destination</td>\n",
       "      <td>rude did not drop destination</td>\n",
       "    </tr>\n",
       "    <tr>\n",
       "      <th>4</th>\n",
       "      <td>52a81772-00cb-4ef0-8935-53ce4cd4c5e2</td>\n",
       "      <td>4372a23a-e506-4918-8006-71238e7eefa4</td>\n",
       "      <td>76311bc2-abbf-4c92-b07c-4716ad41c1ee</td>\n",
       "      <td>cee9eab5-9dc8-4565-b795-b4467059db7d</td>\n",
       "      <td>2023-03-01 07:55:51</td>\n",
       "      <td>1</td>\n",
       "      <td>Drove recklessly. Said he was a race driver. W...</td>\n",
       "      <td>Drove recklessly Said race driver Was very rud...</td>\n",
       "    </tr>\n",
       "  </tbody>\n",
       "</table>\n",
       "</div>"
      ],
      "text/plain": [
       "                               order_id                           feedback_id  \\\n",
       "0  0d47c51b-a1df-4901-97eb-58ee193d9655  b89cf504-f2fb-4ad4-a113-1112f6da5265   \n",
       "1  ae23c8d2-496a-47a8-8fb4-bd48f3e6f342  93748ca6-e77a-46e9-8460-f9c65b3781f6   \n",
       "2  def53af0-8c66-4759-ac16-7143b9e116d5  7edf5cf5-aa9f-4be6-8ca7-cd03c1aa66c0   \n",
       "3  365c9450-344e-4608-8abb-a3e8b6ac7019  32e24028-cb9e-4499-bb48-142a0920b61b   \n",
       "4  52a81772-00cb-4ef0-8935-53ce4cd4c5e2  4372a23a-e506-4918-8006-71238e7eefa4   \n",
       "\n",
       "                               rider_id                             driver_id  \\\n",
       "0  9d9e0f25-a383-444e-afe7-01ed085d216f  d6c92134-8f65-4da4-b6ab-a2a5c4bbaf9f   \n",
       "1  576e7518-c1af-4697-9182-4251a488cbec  a635ef51-6da4-446a-9161-45d0a48ec2d2   \n",
       "2  e24c35a0-1cbf-43a1-9cae-171a89d1e7c1  57c5de49-2a44-46f8-800c-71a39490ea92   \n",
       "3  b106a159-2d28-4019-bc7f-1feb31d0536e  254a79db-0421-4c3a-afae-3d93fd5fd5ac   \n",
       "4  76311bc2-abbf-4c92-b07c-4716ad41c1ee  cee9eab5-9dc8-4565-b795-b4467059db7d   \n",
       "\n",
       "            created_at  stars  \\\n",
       "0  2023-03-01 01:49:32      1   \n",
       "1  2023-03-01 03:40:14      3   \n",
       "2  2023-03-01 06:46:58      1   \n",
       "3  2023-03-01 07:44:43      1   \n",
       "4  2023-03-01 07:55:51      1   \n",
       "\n",
       "                                      custom_comment  \\\n",
       "0                                    very not polite   \n",
       "1  not a pleasant interaction overall. The driver...   \n",
       "2  Driver is a theif. Our travel cost is 154 and ...   \n",
       "3  he was rude and did not drop me to my destination   \n",
       "4  Drove recklessly. Said he was a race driver. W...   \n",
       "\n",
       "                                clean_custom_comment  \n",
       "0                                    very not polite  \n",
       "1  not pleasant interaction overall The driver se...  \n",
       "2  Driver theif Our travel cost 154 gave 200. hur...  \n",
       "3                      rude did not drop destination  \n",
       "4  Drove recklessly Said race driver Was very rud...  "
      ]
     },
     "execution_count": 15,
     "metadata": {},
     "output_type": "execute_result"
    }
   ],
   "source": [
    "reviews['clean_custom_comment'] = reviews['custom_comment'].apply(clean_text)\n",
    "# print(reviews['clean_custom_comment'])\n",
    "reviews.head(5)"
   ]
  },
  {
   "cell_type": "code",
   "execution_count": 16,
   "metadata": {},
   "outputs": [],
   "source": [
    "vect =TfidfVectorizer(stop_words=stop_words,max_features=1000)\n",
    "vect_text=vect.fit_transform(reviews['clean_custom_comment'])"
   ]
  },
  {
   "cell_type": "code",
   "execution_count": 17,
   "metadata": {},
   "outputs": [
    {
     "name": "stdout",
     "output_type": "stream",
     "text": [
      "(6357, 1000)\n",
      "  (0, 654)\t1.0\n",
      "  (1, 895)\t0.27502693905282355\n",
      "  (1, 745)\t0.2741226821386425\n",
      "  (1, 770)\t0.552449308173875\n",
      "  (1, 282)\t0.15348665957572155\n",
      "  (1, 611)\t0.5473915492784799\n",
      "  (1, 648)\t0.4699159892378108\n",
      "  (2, 160)\t0.27982854846798444\n",
      "  (2, 98)\t0.2779375105641002\n",
      "  (2, 398)\t0.2913976123019439\n",
      "  (2, 261)\t0.350331521028414\n",
      "  (2, 14)\t0.40555743950365625\n",
      "  (2, 390)\t0.3386254659754644\n",
      "  (2, 228)\t0.35337600166690153\n",
      "  (2, 911)\t0.4159815267145765\n",
      "  (2, 282)\t0.24442321603447842\n",
      "  (3, 259)\t0.591837768488482\n",
      "  (3, 285)\t0.6644840376698405\n",
      "  (3, 745)\t0.4562773492872068\n",
      "  (4, 280)\t0.27860853854759077\n",
      "  (4, 53)\t0.4488852298694052\n",
      "  (4, 33)\t0.3803208262187491\n",
      "  (4, 54)\t0.3331838588548007\n",
      "  (4, 753)\t0.2958352607351271\n",
      "  (4, 706)\t0.4488852298694052\n",
      "  :\t:\n",
      "  (6356, 987)\t0.19308040379366073\n",
      "  (6356, 735)\t0.17951841407989966\n",
      "  (6356, 18)\t0.2007181203174736\n",
      "  (6356, 539)\t0.1838331546637627\n",
      "  (6356, 122)\t0.3819106747528442\n",
      "  (6356, 13)\t0.1838331546637627\n",
      "  (6356, 8)\t0.19308040379366073\n",
      "  (6356, 1)\t0.1678831150878973\n",
      "  (6356, 501)\t0.24120086448353723\n",
      "  (6356, 946)\t0.17321751068411695\n",
      "  (6356, 116)\t0.15683440734134838\n",
      "  (6356, 137)\t0.16875365724387412\n",
      "  (6356, 273)\t0.13843193398151\n",
      "  (6356, 564)\t0.13002865792150214\n",
      "  (6356, 318)\t0.1531484167617713\n",
      "  (6356, 372)\t0.15627545707398394\n",
      "  (6356, 194)\t0.1340185237330303\n",
      "  (6356, 477)\t0.29176404634554726\n",
      "  (6356, 72)\t0.1213318602381577\n",
      "  (6356, 886)\t0.15798890040784858\n",
      "  (6356, 777)\t0.2580417073293673\n",
      "  (6356, 636)\t0.11061658926372182\n",
      "  (6356, 145)\t0.172738424900693\n",
      "  (6356, 662)\t0.13044349694056614\n",
      "  (6356, 873)\t0.3429963140561725\n"
     ]
    }
   ],
   "source": [
    "print(vect_text.shape)\n",
    "print(vect_text)\n",
    "# The lesser the value; more common is the word in the reviews."
   ]
  },
  {
   "attachments": {},
   "cell_type": "markdown",
   "metadata": {},
   "source": [
    "#### **TOPIC MODELLING**"
   ]
  },
  {
   "attachments": {},
   "cell_type": "markdown",
   "metadata": {},
   "source": [
    "##### **LDA (LatentDirichletAllocation) with Sklearn**"
   ]
  },
  {
   "cell_type": "code",
   "execution_count": 18,
   "metadata": {},
   "outputs": [],
   "source": [
    "from sklearn.decomposition import LatentDirichletAllocation\n",
    "lda_model=LatentDirichletAllocation(n_components=10,\n",
    "learning_method='online',random_state=42,max_iter=1) \n",
    "lda_top=lda_model.fit_transform(vect_text)\n",
    "# n_components is the number of topics "
   ]
  },
  {
   "cell_type": "code",
   "execution_count": 19,
   "metadata": {},
   "outputs": [
    {
     "name": "stdout",
     "output_type": "stream",
     "text": [
      "(6357, 10)\n",
      "[[0.05       0.05       0.05       ... 0.05       0.05000004 0.05      ]\n",
      " [0.49898711 0.0305664  0.03056243 ... 0.03056267 0.25648048 0.03060012]\n",
      " [0.02526977 0.02526901 0.44760355 ... 0.02527079 0.02526941 0.0252701 ]\n",
      " ...\n",
      " [0.12418559 0.02513926 0.02514037 ... 0.30020024 0.19048698 0.02515113]\n",
      " [0.20508002 0.04064948 0.11326533 ... 0.11993386 0.09619537 0.24723626]\n",
      " [0.18916244 0.04489865 0.22275702 ... 0.01748219 0.0470555  0.29413669]]\n"
     ]
    }
   ],
   "source": [
    "print(lda_top.shape)  # (no_of_doc,no_of_topics)\n",
    "print(lda_top)"
   ]
  },
  {
   "cell_type": "code",
   "execution_count": 20,
   "metadata": {},
   "outputs": [
    {
     "name": "stdout",
     "output_type": "stream",
     "text": [
      "['00', '10', '100', '11', '12', '120', '13', '14', '15', '150', '17', '18', '19', '20', '200', '2017', '2018', '22', '25', '2nd', '30', '300', '35', '45', '50', '500', '99', 'able', 'absolutely', 'abusive', 'accept', 'accepted', 'access', 'accident', 'account', 'across', 'actual', 'actually', 'add', 'added', 'additional', 'address', 'adress', 'advance', 'advertising', 'advised', 'aggressive', 'ago', 'agreed', 'agressive', 'air', 'airport', 'allow', 'allowed', 'almost', 'alone', 'already', 'also', 'although', 'always', 'amazing', 'amount', 'angry', 'annoying', 'another', 'answer', 'anymore', 'anyone', 'anything', 'anyway', 'apartment', 'apologize', 'app', 'apparently', 'application', 'appointment', 'april', 'area', 'around', 'arrival', 'arrive', 'arrived', 'arriving', 'arrogant', 'ask', 'asked', 'asking', 'attempt', 'attempted', 'attention', 'attitude', 'automated', 'available', 'avoid', 'away', 'awesome', 'awful', 'baby', 'back', 'background', 'backseat', 'bad', 'badly', 'bag', 'balance', 'bank', 'barely', 'basically', 'began', 'behaved', 'behavior', 'behaviour', 'behind', 'believe', 'belt', 'best', 'better', 'beware', 'big', 'bill', 'billed', 'bit', 'black', 'block', 'book', 'booked', 'booking', 'bother', 'bring', 'broke', 'brought', 'building', 'bus', 'business', 'cab', 'call', 'called', 'calling', 'calm', 'came', 'cancel', 'canceled', 'cancellation', 'cancelled', 'cant', 'car', 'card', 'care', 'careful', 'carefully', 'careless', 'carry', 'case', 'cash', 'catch', 'cause', 'caused', 'cell', 'center', 'certain', 'change', 'changed', 'character', 'charge', 'charged', 'charging', 'chatting', 'cheaper', 'cheat', 'cheated', 'cheating', 'check', 'checked', 'checking', 'chicago', 'child', 'choice', 'choose', 'chose', 'cigarette', 'city', 'claim', 'claimed', 'class', 'clean', 'cleaning', 'clearly', 'client', 'close', 'closed', 'code', 'cold', 'collect', 'collected', 'come', 'comfort', 'comfortable', 'coming', 'comment', 'communicate', 'communication', 'companion', 'company', 'complain', 'complained', 'complaining', 'complaint', 'complete', 'completed', 'completely', 'concern', 'condition', 'confirm', 'confirmed', 'confused', 'connect', 'constantly', 'consumer', 'contact', 'contacted', 'contacting', 'continue', 'continued', 'control', 'convenient', 'conversation', 'cool', 'correct', 'cost', 'coughing', 'could', 'counting', 'country', 'couple', 'course', 'courteous', 'crazy', 'credit', 'customer', 'damage', 'dangerous', 'dangerously', 'date', 'daughter', 'day', 'deactivated', 'deal', 'debit', 'decided', 'definitely', 'delay', 'deleted', 'deliver', 'delivered', 'delivery', 'demand', 'demanded', 'denied', 'despite', 'destination', 'detail', 'didnt', 'difference', 'different', 'difficult', 'direction', 'dirty', 'disappointed', 'discount', 'disgusting', 'dispute', 'disrespectful', 'distance', 'doe', 'dollar', 'done', 'dont', 'door', 'double', 'drink', 'drive', 'driven', 'driver', 'drivers', 'driving', 'drop', 'dropped', 'dropping', 'drove', 'drug', 'drunk', 'due', 'earlier', 'early', 'easily', 'easy', 'eats', 'efficient', 'either', 'else', 'email', 'emailed', 'end', 'ended', 'english', 'enjoyed', 'enough', 'enter', 'entered', 'entrance', 'error', 'especially', 'etc', 'even', 'evening', 'event', 'eventually', 'ever', 'every', 'everyone', 'everything', 'everywhere', 'exact', 'exactly', 'excellent', 'except', 'excuse', 'expected', 'expensive', 'experience', 'experienced', 'explain', 'explained', 'explanation', 'extra', 'extremely', 'face', 'fact', 'failed', 'fair', 'false', 'family', 'fantastic', 'far', 'fare', 'fast', 'faster', 'fault', 'fee', 'feel', 'felt', 'fight', 'file', 'final', 'finally', 'find', 'fine', 'finish', 'finished', 'first', 'five', 'fix', 'flight', 'florida', 'follow', 'followed', 'following', 'food', 'foreigner', 'forget', 'forgot', 'forth', 'found', 'four', 'francisco', 'fraud', 'fraudulent', 'free', 'friend', 'friendly', 'front', 'frustrating', 'fucking', 'full', 'fun', 'fund', 'funny', 'future', 'gas', 'gate', 'gave', 'general', 'gentleman', 'get', 'getting', 'gift', 'girl', 'girlfriend', 'give', 'given', 'giving', 'go', 'god', 'going', 'gone', 'good', 'got', 'gps', 'great', 'grocery', 'guess', 'guy', 'hacked', 'half', 'hand', 'happen', 'happened', 'happy', 'hard', 'harsh', 'hear', 'heard', 'heater', 'heavy', 'hello', 'help', 'helped', 'helpful', 'high', 'higher', 'highly', 'hit', 'hold', 'home', 'hope', 'horrible', 'hotel', 'hour', 'house', 'however', 'huge', 'human', 'husband', 'idea', 'idiot', 'idle', 'ignored', 'immediately', 'impatient', 'impolite', 'important', 'impossible', 'inappropriate', 'incident', 'incorrect', 'increase', 'increased', 'india', 'info', 'inform', 'information', 'informed', 'initial', 'inside', 'insisted', 'instead', 'insult', 'insulted', 'interesting', 'issue', 'item', 'jersey', 'job', 'journey', 'keep', 'kept', 'kid', 'kind', 'km', 'knew', 'know', 'knowledge', 'lack', 'lady', 'lane', 'language', 'las', 'last', 'late', 'later', 'le', 'learn', 'least', 'leave', 'leaving', 'left', 'let', 'license', 'lied', 'life', 'light', 'like', 'limit', 'line', 'listen', 'literally', 'little', 'live', 'loaded', 'local', 'location', 'log', 'long', 'longer', 'look', 'looked', 'looking', 'lost', 'lot', 'loud', 'love', 'loved', 'lovely', 'low', 'lower', 'luggage', 'mad', 'made', 'mail', 'major', 'make', 'making', 'man', 'manner', 'many', 'map', 'mask', 'matter', 'may', 'maybe', 'mean', 'meet', 'mess', 'message', 'met', 'meter', 'method', 'miami', 'middle', 'might', 'mile', 'min', 'mind', 'mine', 'minute', 'miss', 'missed', 'mistake', 'mom', 'money', 'month', 'morning', 'move', 'moving', 'much', 'multiple', 'music', 'must', 'name', 'navigation', 'near', 'nearly', 'neat', 'need', 'needed', 'nervous', 'never', 'new', 'next', 'nice', 'night', 'nobody', 'non', 'none', 'normal', 'nothing', 'notice', 'noticed', 'notification', 'notified', 'number', 'numerous', 'nyc', 'occasion', 'offensive', 'offer', 'offered', 'office', 'often', 'old', 'one', 'online', 'open', 'optimal', 'option', 'order', 'ordered', 'ordering', 'original', 'otherwise', 'outside', 'overall', 'overcharged', 'package', 'paid', 'park', 'parked', 'parking', 'part', 'party', 'passed', 'passenger', 'password', 'past', 'patient', 'pay', 'paying', 'payment', 'paypal', 'pedestrian', 'people', 'per', 'perfect', 'perfectly', 'person', 'personal', 'phone', 'photo', 'pick', 'picked', 'picking', 'pickup', 'picture', 'place', 'placed', 'plate', 'play', 'playing', 'pleasant', 'please', 'pls', 'plus', 'point', 'police', 'polite', 'pool', 'poor', 'positive', 'possible', 'practice', 'pretty', 'previous', 'price', 'pricing', 'probably', 'problem', 'process', 'professional', 'promised', 'promo', 'prompt', 'proper', 'properly', 'provide', 'provided', 'public', 'purchase', 'put', 'question', 'quick', 'quickly', 'quiet', 'quite', 'quoted', 'racist', 'rain', 'raining', 'ran', 'rate', 'rather', 'rating', 'reach', 'reached', 'reaching', 'read', 'ready', 'real', 'realized', 'really', 'reason', 'reasonable', 'receipt', 'receive', 'received', 'recently', 'reckless', 'recklessly', 'recommend', 'recommended', 'red', 'refund', 'refunded', 'refuse', 'refused', 'regular', 'replied', 'reply', 'report', 'reported', 'request', 'requested', 'required', 'resolve', 'resolved', 'respect', 'respectful', 'respond', 'response', 'rest', 'result', 'return', 'returned', 'review', 'ride', 'rider', 'ridiculous', 'riding', 'right', 'rip', 'risk', 'road', 'rough', 'roughly', 'route', 'rs', 'rude', 'rule', 'run', 'russian', 'sad', 'safe', 'safely', 'safety', 'said', 'san', 'save', 'saved', 'saw', 'say', 'saying', 'scam', 'schedule', 'scheduled', 'screaming', 'screen', 'seat', 'seatbelt', 'seattle', 'second', 'security', 'seemed', 'seems', 'selected', 'send', 'sending', 'sent', 'seriously', 'service', 'serviceshe', 'set', 'several', 'share', 'shared', 'shocked', 'shopping', 'short', 'shouted', 'shouting', 'show', 'showed', 'showing', 'shown', 'shut', 'sick', 'side', 'sign', 'signed', 'simple', 'simply', 'since', 'sit', 'site', 'sitting', 'situation', 'skill', 'slow', 'small', 'smart', 'smell', 'smelled', 'smelling', 'smoke', 'smoking', 'smooth', 'someone', 'something', 'sometimes', 'somewhere', 'son', 'sorry', 'speak', 'speaking', 'speaks', 'speed', 'speeding', 'spent', 'spoke', 'spot', 'standing', 'star', 'start', 'started', 'starting', 'state', 'stated', 'station', 'stay', 'steal', 'step', 'still', 'stole', 'stop', 'stopped', 'store', 'story', 'stranded', 'street', 'strong', 'stuff', 'stupid', 'style', 'suck', 'suddenly', 'suggest', 'suitcase', 'super', 'support', 'supposed', 'surcharge', 'sure', 'surge', 'surprise', 'suv', 'swearing', 'sweet', 'switch', 'system', 'take', 'taken', 'taking', 'talk', 'talked', 'talking', 'taxi', 'team', 'tell', 'telling', 'terrible', 'text', 'texting', 'thank', 'thanks', 'therefore', 'thief', 'thing', 'think', 'though', 'thought', 'threatened', 'three', 'threw', 'throughout', 'throw', 'tidy', 'till', 'time', 'tip', 'today', 'told', 'toll', 'took', 'top', 'total', 'totally', 'towards', 'town', 'traffic', 'train', 'transaction', 'transfer', 'transportation', 'travel', 'treat', 'tried', 'trip', 'true', 'trunk', 'trust', 'try', 'trying', 'turn', 'turned', 'twice', 'two', 'type', 'uah', 'ukraine', 'ukrainian', 'unable', 'unacceptable', 'uncomfortable', 'understand', 'understanding', 'unfortunately', 'unfriendly', 'unless', 'unpleasant', 'unprofessional', 'unsafe', 'upfront', 'upon', 'use', 'used', 'user', 'using', 'usually', 'utaxi', 'vegas', 'vehicle', 'via', 'video', 'violated', 'voice', 'wait', 'waited', 'waiting', 'walk', 'wallet', 'want', 'wanted', 'wasted', 'watching', 'water', 'way', 'wear', 'wearing', 'weather', 'website', 'week', 'weird', 'well', 'went', 'whole', 'wife', 'willing', 'window', 'wish', 'within', 'without', 'woman', 'wonderful', 'word', 'work', 'working', 'world', 'worse', 'worst', 'worth', 'would', 'write', 'wrong', 'wrote', 'year', 'yelled', 'yelling', 'yellow', 'yes', 'yesterday', 'yet', 'zero']\n"
     ]
    },
    {
     "name": "stderr",
     "output_type": "stream",
     "text": [
      "c:\\Users\\olkos\\AppData\\Local\\Programs\\Python\\Python310\\lib\\site-packages\\sklearn\\utils\\deprecation.py:87: FutureWarning: Function get_feature_names is deprecated; get_feature_names is deprecated in 1.0 and will be removed in 1.2. Please use get_feature_names_out instead.\n",
      "  warnings.warn(msg, category=FutureWarning)\n"
     ]
    }
   ],
   "source": [
    "#We can now see the most frequent and rare words in the clean_custom_comment column based on idf score. \n",
    "#The lesser the value; more common is the word in the column.\n",
    "print(vect.get_feature_names())"
   ]
  },
  {
   "cell_type": "code",
   "execution_count": 21,
   "metadata": {},
   "outputs": [
    {
     "name": "stdout",
     "output_type": "stream",
     "text": [
      "Doc 0: \n",
      "Topic  0 :  5.0000000034367105 %\n",
      "Topic  1 :  5.000000004258735 %\n",
      "Topic  2 :  5.000000002162652 %\n",
      "Topic  3 :  5.000000059551395 %\n",
      "Topic  4 :  5.000000003697678 %\n",
      "Topic  5 :  54.99999615522282 %\n",
      "Topic  6 :  5.000000004828979 %\n",
      "Topic  7 :  5.000000003072965 %\n",
      "Topic  8 :  5.000003762831163 %\n",
      "Topic  9 :  5.0000000009369066 %\n"
     ]
    }
   ],
   "source": [
    "#  check the proportion of topics that have been assigned to the first document\n",
    "print(\"Doc 0: \")\n",
    "for i,topic in enumerate(lda_top[0]):\n",
    "  print(\"Topic \",i,\": \",topic*100,\"%\")"
   ]
  },
  {
   "cell_type": "code",
   "execution_count": 22,
   "metadata": {},
   "outputs": [
    {
     "name": "stdout",
     "output_type": "stream",
     "text": [
      "(10, 1000)\n",
      "[ 0.3114345   0.10687335  0.10692388  0.10715358  1.99103495  0.10704245\n",
      "  0.17658739  0.10696757  0.1067206   0.10525619  0.13278853  0.73655138\n",
      "  0.10820759  0.10657278  0.10621225  0.10742021  0.1309033   0.31171906\n",
      "  1.85568789  0.10615812  0.10736791  0.10564854  0.10567701  2.8204536\n",
      "  0.25904271  0.10660489  2.54899798 11.26719523  0.10626735  0.10733148\n",
      "  0.14932452  0.10639901  5.54886209 16.69123806  0.10849321  0.10741788\n",
      "  0.10590055  0.10651413  0.10670178  0.10639896  9.18046542  0.10870083\n",
      "  0.10678198  0.10604013  0.10646734  0.11086136  0.15114819  0.10645708\n",
      "  0.11101277  0.10792839  0.1059826   0.10644278  0.10742991  5.76707215\n",
      " 27.06921765  0.10737739  0.10817956  6.82970179  0.10692339  0.10687508\n",
      "  0.10561907  0.10628479  0.10779559  9.87523233  3.65392963  0.1071189\n",
      "  0.10539604  0.10736947  0.10738811  0.10853311  0.10685178  0.10671386\n",
      "  0.10780182  1.60539948  0.10761878  0.10623173  0.37386137  0.10687996\n",
      "  0.10781261  0.1067873   0.10589939  0.11247342  0.10598401  0.10625669\n",
      "  0.10723915  0.10613576  0.10599748  2.33804611  0.1068407   0.10723078\n",
      "  0.10692803  0.1709489   0.10710092  5.87869694  0.10876271  0.10662931\n",
      "  0.11178343  0.10891318  0.36988537  0.14097426  0.10736579  3.07288851\n",
      "  0.13540625  0.10630449  0.10676109 16.5418794   0.10662138  0.10817932\n",
      "  0.10707057  0.10669781  0.11255521  0.10685656  0.10657854  0.10710097\n",
      "  0.10719167  0.10665382  0.10614518  0.20068894  0.10685989  0.10639845\n",
      "  0.13618535 15.85711008  9.07430832  0.10580403  0.13215614  0.10746662\n",
      "  1.58259653  0.1070835   0.10863632  6.07595084  0.1078058   0.1070476\n",
      "  0.10627215  0.1065456  24.15086223  0.10816868  6.83779244  0.28189811\n",
      "  0.10604588  0.1075921   0.1070148   0.11123602  0.13194199 26.38262133\n",
      "  0.10593328 15.40077472  0.12757436 28.62478475  0.10644879  0.10617002\n",
      "  0.1059777   0.1071755   7.91329289  0.14590872  0.10752344  3.94400586\n",
      "  0.12044916  3.42537649  0.11347292  0.10763632  0.1098449   0.10586208\n",
      "  0.10757288  0.10578752  0.10598597  0.10701046  0.10652466  0.10628838\n",
      "  0.10797091  0.10567671  0.10638881  0.10714713  0.10717901  0.10645428\n",
      "  0.11277223  0.13311708  0.11081744  0.13301169  0.1103074   0.10778914\n",
      "  0.10697358  0.1067692   0.10691011  0.1065061   0.10967746  0.11461981\n",
      "  0.1077318   0.10667298 10.95744794  0.1064553   0.13129257  0.10830486\n",
      "  0.10740247  0.19209797  0.10661886  0.105914   22.94681649  0.10656474\n",
      "  0.10688319  0.10617869  0.10682881  0.10635932  0.10823921  1.55096572\n",
      "  0.10568209  0.10552575  0.10899507  0.14662071  9.8849239   0.10662714\n",
      "  0.11338826  0.10629922  0.10673781  0.10667618  0.10643312  0.10681034\n",
      "  0.10706981  2.54444529  0.10845586  0.93724287  0.10923286  0.10638894\n",
      "  0.10826601  0.10604488  0.10555566  0.10784005  0.10682255  0.10822023\n",
      "  0.1126275   0.11081865  0.10936886  0.10789725  0.10749336  0.12197848\n",
      "  0.10586685  0.10959669  0.10649194  0.1246061   0.1087171   0.10738036\n",
      "  0.10754419  0.12422208  0.14434887  0.10764866  0.10636021  0.1076979\n",
      "  0.12204177  0.75481017  0.10821     0.10832402  0.1904039   0.10772761\n",
      "  2.53701815  0.10543063 15.23724107  0.10715032  0.10781896  0.1158516\n",
      "  0.10537735  2.16369172  0.10523831  0.10652887  0.10688024  0.10598035\n",
      "  0.10674952  0.11201919  0.10613475  0.11931138  0.10646058  0.10578225\n",
      "  2.02003342  0.10700368  0.10607461  0.10945252  0.57497408  0.10881996\n",
      "  0.10624194  0.14177619  0.10678108  0.10854198  0.84125589  0.10737962\n",
      " 25.27205953  0.10609524  3.9847066   0.10563378  0.10732588  0.1074003\n",
      " 12.43058659  4.70552817  0.10751101  0.10650005  0.10939498  0.10661871\n",
      "  0.1071804  17.02598934  2.53413808  0.10704265  2.72599053  0.18635132\n",
      "  3.30684837  0.14791211  0.10638637  0.10611748  0.10663291  0.10754679\n",
      "  0.10717248  0.10732038  0.10715813  0.10692238  0.17664965  0.10781226\n",
      "  0.10776728  0.10578943  0.1816485   0.557182    0.10731418  0.12013851\n",
      "  0.10897434  0.10842216  0.12587349  0.1064945   0.10678002  0.10615275\n",
      "  4.42822625  0.10676364  0.10696835  0.10630124  0.10687676  0.1093678\n",
      "  0.10715282  0.10663401  0.10516674  7.02798412  0.10737129  0.10810019\n",
      "  0.10725071  0.10503965  0.10547002  0.10821228  0.10703251  0.10852165\n",
      "  0.10629762  0.10595345 35.85909394  0.11027806  4.59523636  0.10755749\n",
      "  0.10871523  0.1110837   0.11062166  0.10583077  0.13077422  0.10807503\n",
      "  0.1269652   0.10891496  0.10766054  5.09081822  0.10702519  0.10887764\n",
      "  0.10650617  4.10534019  1.45614445  0.10620261  0.10582351  0.10674002\n",
      "  0.10698493 14.38481631  0.13105487  0.10628918  0.10816608  0.10633089\n",
      "  0.10595599  0.10587358  0.12995042  0.10572282  0.10743554  0.10651272\n",
      "  0.11490191 43.56643369  0.10665571  2.71271785  0.1084962   0.1084532\n",
      "  0.10682558  0.10652781  0.10658116  0.11028972  8.6715985   0.10761662\n",
      "  2.28420566  0.10535957  0.10550654  0.10615296  0.10738759  0.83353532\n",
      "  0.10747133  4.45400055  0.10818074  0.10720376  0.10809478  0.10629683\n",
      "  0.10682621  0.11097587  0.11093704  0.14527547 16.32920797  0.10575531\n",
      "  0.10733006  0.10736453  0.10727196  0.10741424  0.19287905  3.37922873\n",
      "  0.10804323  0.1072764   0.10722089  0.10664958  0.10825123  0.10531368\n",
      "  0.10669884  0.10643379  0.13826772  0.10600457  0.10718068  0.10673914\n",
      "  0.10845093  0.10705572  0.10817458  0.10732477  0.10637263 11.48267117\n",
      "  0.10716047  0.10756099  0.11066703  0.14142441  0.10724321  0.12529781\n",
      "  0.10692636  9.5723787   1.87030536  0.10714297  0.12341593  0.10608139\n",
      "  0.1065905   0.1480451   0.10716728  0.10621061  0.10703169  0.10545259\n",
      "  0.12341328  7.042754    0.10678182  1.09675244  0.10829858  0.1070179\n",
      "  0.16116694  0.13153373  0.10580893  0.10775922  0.10725991  4.61763739\n",
      "  0.15328071  0.10619332  4.33584732  0.11015022  0.10748769  0.10651716\n",
      "  0.10758863  0.11291667  0.10728455  1.85848937  0.10745429  0.10842861\n",
      "  0.10626148  0.10805389  0.10617239  0.10815     0.1062275   0.1066886\n",
      "  0.10942059  0.10606452  0.10648041  0.10671031  5.43425272  0.10754738\n",
      "  0.22548516  0.1069884   0.1072555   0.10749565  0.10628887  0.10643278\n",
      "  0.10658216  0.10770743  0.11906548  0.19109202  0.10648099  0.10963539\n",
      "  0.10767462 15.22570048  0.10617313 41.78352745  0.10670562  2.53647658\n",
      "  0.10653209  0.11315939  0.10685769 17.31300994  0.10642248  0.16216084\n",
      "  0.10860047  0.10685638  0.10942729  0.21821359  0.12603092  0.10984596\n",
      "  0.10945578 21.66661224  0.1078078   0.10721277  0.10641744  0.10694528\n",
      "  0.10677444  0.10633427  0.1068718   0.10654549  0.10727623  0.11140437\n",
      "  0.25847127  0.17402594  0.10740757  5.04728036  0.10622657  0.11922072\n",
      "  0.14657224  0.12354286  0.10648673  0.10702312  0.14874563  8.53694668\n",
      "  0.12927597  0.10509751  2.25504359  0.23554911  0.1057749   0.107176\n",
      "  0.21764311  0.64951723  0.10609394  0.10615147  0.10693319  0.10943799\n",
      "  0.10619521  0.10777917  0.14289683  0.10816002  0.13483267  0.1126416\n",
      "  5.06590081  0.11664829  4.42834853  0.11418197  0.10675887  0.11054198\n",
      "  0.11033755  0.10921808  0.1145015   0.10548277 10.84964828  0.10704197\n",
      "  0.11441031  0.1072773   0.10690269  0.23605195  0.10675214  0.10696672\n",
      "  0.1192026   0.1074071   0.10609236  0.10895187  0.10684748  0.20036313\n",
      "  7.10568211  0.10745385  0.10662009  0.12516323  0.10742185  2.66878579\n",
      "  0.35089752  1.13278268  0.54530282  2.22884645  0.51374426  1.70797579\n",
      "  0.10692063  0.10649591  0.10804822  0.10700577  0.10715592  0.1084831\n",
      "  0.10846314  0.10579943  0.1068493   0.10773296  0.11250906 21.37886394\n",
      "  0.10787042  0.10732963  0.12415653  0.10572443 10.10189266  9.14183838\n",
      "  0.10732694  0.1070043   0.1101737   0.10793138  0.10713722  0.13534024\n",
      " 12.18189593  0.1058389   0.11494882  0.10853296  0.13637234 10.76443331\n",
      "  0.10664407  0.1060839   0.10547417  0.10664381  2.46522675  6.9860924\n",
      "  0.10673825  0.11184572 39.89754149  0.10665032  0.10846509  0.1065028\n",
      "  6.78869557  0.28144023  0.1076631   0.10696072  0.10811008  0.10664562\n",
      "  0.10784359  0.10607946  4.45377881  0.10803279  0.10756537  0.10693559\n",
      "  0.24840877  0.14948652  0.10730108  0.10792542  0.11486213  0.105786\n",
      "  0.10721565  1.58653005  3.59215394  0.10690635  0.10765071  0.10586795\n",
      "  0.10632914  0.10896505  0.1072303   0.10690054  0.10795814 31.17727041\n",
      "  0.57599011  0.10563891  0.10781188  0.10730292  0.11129794  1.60565316\n",
      "  0.10553974  0.10626101  0.12791208  1.10709604  0.13880129  0.10749304\n",
      "  0.10600651  0.10656393  0.10602595  0.10577319  0.11215823  0.11235141\n",
      "  0.10995952  0.10642887  0.10684704  0.10745652  0.10543852  0.10684662\n",
      "  0.10741265  0.11593588  0.10661806  0.10687248  0.10622013  0.10606747\n",
      "  0.10679331  0.12390985  0.10674279  0.1149322   0.11421605  0.1083112\n",
      "  0.10732998  0.10705864  4.4590002   0.10849601  2.40388413  0.10963645\n",
      "  0.10713177  0.10790828  0.14565014  0.10807345  0.1061838   0.54975739\n",
      "  0.10681902  0.11738423  0.10698614  0.10626042  0.10522173  0.13473031\n",
      " 23.74995484  0.10688622  0.10742809  0.51803341  0.10662181  0.10553093\n",
      "  0.10611281 20.05932342  0.10573871  7.58874722  0.10801548  0.10665886\n",
      "  0.18643691  0.10761185  0.10801395  0.15755215 10.63982907  0.10564958\n",
      "  1.35419451  0.12263678 15.62351152  0.10928132  2.45556168  0.10737182\n",
      "  0.11009579  1.78643881  0.12629632  0.10633601  0.10687336  0.10660681\n",
      "  0.10823428  0.10722059  0.10728583 14.61935034  0.11353663  0.10645882\n",
      "  4.20298918  0.10789661  0.1069015   0.15437987  0.10577109  0.23358087\n",
      "  0.10636772  0.1076332   0.10679818  0.18311811  0.10700232  0.65310506\n",
      "  0.10708309  0.10676848  7.22502609  0.10573171  0.10579075  0.10673968\n",
      "  4.32639906 17.45863113  0.10681985  0.10645573  0.10612566  0.10762529\n",
      "  0.10680639  0.10698867  0.10752582  0.11790261  0.10633032  0.10946199\n",
      "  6.72459539  0.10542211  0.10643316  0.10928957  6.65395165  0.10628972\n",
      "  0.10820678  0.11197729  8.31365635  6.38627679  0.43451769  0.10698335\n",
      "  0.10625234  0.10733669  0.10946384  0.10624173  0.10749635  0.10702562\n",
      " 10.21179048  0.18053714  0.10883734  0.10602345  0.10713967  6.46306664\n",
      "  0.10682677  0.11063212  0.10609698  0.10729591  0.10828782  0.10692706\n",
      " 12.35486942  0.158138    0.10783829  0.10536834  0.1066308   0.10639373\n",
      "  0.10717983  0.10608006  0.10642032  0.10959139  9.15502078  0.11373664\n",
      "  0.10733485  0.10590887  0.10679204  0.1913229   0.10752305  0.15309926\n",
      "  0.12015846  8.27528013  0.1070737   0.1068692   0.12262901  0.10587743\n",
      "  0.10634894  1.80107649  0.10982517  0.10720805  0.10750079  0.10631517\n",
      "  0.10617753  0.10719428  0.14373203  0.10618113  0.10786155  0.11211503\n",
      "  0.10559197  0.10535363  0.1098593   0.10831202  0.1074322   0.10903275\n",
      "  0.15744841  0.1109247   0.10739591  0.10695815  0.17743131  0.10711449\n",
      "  0.10701005  0.10756911  0.10889773  0.10645719  0.10650188  0.10650011\n",
      "  0.10639009  0.10795375  0.15931818  0.12672952  2.77145695  0.10807014\n",
      "  0.10669404  0.10530182  0.10627129  0.10549256  0.10705645  0.10691528\n",
      "  0.10660185  0.10784586  0.1069984   0.11334651  0.10717736  0.48946761\n",
      "  0.10642676 17.61195086  5.34753136  0.10900571  3.83788031  0.10633142\n",
      "  0.10509329  7.27627712  0.10740383 15.95152901  0.10904825  0.10628013\n",
      "  4.8131439   0.10581514  0.10686615  0.10702129  0.10604765  1.39469328\n",
      "  0.11266758  0.11047211  0.10964612  0.14592874  0.10623148  0.10582198\n",
      "  0.10682103  0.10788398  9.88993735  0.65112999  0.14889374  7.88342616\n",
      "  0.10687545  0.10620693  0.11540968  0.11956645 15.94832244  0.10572967\n",
      "  0.10863144  0.10642802  0.1409271   0.10597249  0.14077786  0.10774657\n",
      "  4.14705687  0.10795754  0.11632381  0.10724058  0.10696132  0.13665559\n",
      "  0.10635308  0.10623214  0.10648756  0.10686467  0.1068128  17.2332853\n",
      "  0.10598895  0.2752511   0.10946449  1.72149117  0.10734618  0.24899551\n",
      "  0.118591    0.1080975   0.10747322  4.91700642  0.10819326  0.13792834\n",
      "  0.1125736   0.10710858  0.10674897  1.12201367  6.07642113  0.31525212\n",
      "  0.10704369  0.10648856  0.10591096 21.73550634  0.1066906   0.10629193\n",
      "  0.10717066  0.78919029  0.15694496  0.10599815  0.10738102  6.37701063\n",
      "  0.10831864  0.1090555   0.10698549  0.10918766  0.10914714  0.10688912\n",
      "  0.10860332  0.10672243  0.10738983  0.10631091  0.10823303  0.1078472\n",
      "  0.10607368  7.01121268  0.12108648  0.10849199 11.077477    0.10633863\n",
      "  0.2706582   0.10580964  0.10941801  0.10783662  0.10644058  0.36253554\n",
      "  0.10800487  0.28464803  0.10659787  0.10679259]\n"
     ]
    }
   ],
   "source": [
    "print(lda_model.components_.shape) # (no_of_topics*no_of_words)\n",
    "print(lda_model.components_[0])  "
   ]
  },
  {
   "cell_type": "code",
   "execution_count": 23,
   "metadata": {},
   "outputs": [
    {
     "name": "stdout",
     "output_type": "stream",
     "text": [
      "Topic 0: \n",
      "friendly like perfect fare problem care almost cancelled driver cab \n",
      "\n",
      "Topic 1: \n",
      "use day told number better walk let horrible top russian \n",
      "\n",
      "Topic 2: \n",
      "utaxi best driver change give person thank ride one thanks \n",
      "\n",
      "Topic 3: \n",
      "service advertising wrong address location say hour dropped helpful amazing \n",
      "\n",
      "Topic 4: \n",
      "fast driving going credit tried card professional utaxi drive dirty \n",
      "\n",
      "Topic 5: \n",
      "good great nice driver music car polite issue really company \n",
      "\n",
      "Topic 6: \n",
      "account always put one came cost two didnt tell come \n",
      "\n",
      "Topic 7: \n",
      "car route driver racist please passenger contact smell several help \n",
      "\n",
      "Topic 8: \n",
      "home find could point drop different long min rider driver \n",
      "\n",
      "Topic 9: \n",
      "utaxi rude driver time bad ride phone customer never charge \n",
      "\n"
     ]
    }
   ],
   "source": [
    "# most important words for each topic in whole dataset\n",
    "vocab = vect.get_feature_names()\n",
    "for i, comp in enumerate(lda_model.components_):\n",
    "     vocab_comp = zip(vocab, comp)\n",
    "     sorted_words = sorted(vocab_comp, key= lambda x:x[1], reverse=True)[:10]\n",
    "     print(\"Topic \"+str(i)+\": \")\n",
    "     for t in sorted_words:\n",
    "         print(t[0],end=\" \")\n",
    "     print(\"\\n\")"
   ]
  },
  {
   "cell_type": "code",
   "execution_count": 24,
   "metadata": {},
   "outputs": [],
   "source": [
    "# most important words for each topic in whole dataset in a view of table\n",
    "vocab = vect.get_feature_names()\n",
    "columns = []\n",
    "words = []\n",
    "for i, comp in enumerate(lda_model.components_):\n",
    "     vocab_comp = zip(vocab, comp)\n",
    "     sorted_words = sorted(vocab_comp, key= lambda x:x[1], reverse=True)[:10]\n",
    "     sorted_words = dict(sorted_words)\n",
    "     topic = \"Topic \"+str(i)\n",
    "     columns.append(topic)\n",
    "     words.append(sorted_words.keys())\n",
    "     "
   ]
  },
  {
   "cell_type": "code",
   "execution_count": 25,
   "metadata": {},
   "outputs": [
    {
     "data": {
      "text/html": [
       "<div>\n",
       "<style scoped>\n",
       "    .dataframe tbody tr th:only-of-type {\n",
       "        vertical-align: middle;\n",
       "    }\n",
       "\n",
       "    .dataframe tbody tr th {\n",
       "        vertical-align: top;\n",
       "    }\n",
       "\n",
       "    .dataframe thead th {\n",
       "        text-align: right;\n",
       "    }\n",
       "</style>\n",
       "<table border=\"1\" class=\"dataframe\">\n",
       "  <thead>\n",
       "    <tr style=\"text-align: right;\">\n",
       "      <th></th>\n",
       "      <th>Topic 0</th>\n",
       "      <th>Topic 1</th>\n",
       "      <th>Topic 2</th>\n",
       "      <th>Topic 3</th>\n",
       "      <th>Topic 4</th>\n",
       "      <th>Topic 5</th>\n",
       "      <th>Topic 6</th>\n",
       "      <th>Topic 7</th>\n",
       "      <th>Topic 8</th>\n",
       "      <th>Topic 9</th>\n",
       "    </tr>\n",
       "  </thead>\n",
       "  <tbody>\n",
       "    <tr>\n",
       "      <th>0</th>\n",
       "      <td>friendly</td>\n",
       "      <td>use</td>\n",
       "      <td>utaxi</td>\n",
       "      <td>service</td>\n",
       "      <td>fast</td>\n",
       "      <td>good</td>\n",
       "      <td>account</td>\n",
       "      <td>car</td>\n",
       "      <td>home</td>\n",
       "      <td>utaxi</td>\n",
       "    </tr>\n",
       "    <tr>\n",
       "      <th>1</th>\n",
       "      <td>like</td>\n",
       "      <td>day</td>\n",
       "      <td>best</td>\n",
       "      <td>advertising</td>\n",
       "      <td>driving</td>\n",
       "      <td>great</td>\n",
       "      <td>always</td>\n",
       "      <td>route</td>\n",
       "      <td>find</td>\n",
       "      <td>rude</td>\n",
       "    </tr>\n",
       "    <tr>\n",
       "      <th>2</th>\n",
       "      <td>perfect</td>\n",
       "      <td>told</td>\n",
       "      <td>driver</td>\n",
       "      <td>wrong</td>\n",
       "      <td>going</td>\n",
       "      <td>nice</td>\n",
       "      <td>put</td>\n",
       "      <td>driver</td>\n",
       "      <td>could</td>\n",
       "      <td>driver</td>\n",
       "    </tr>\n",
       "    <tr>\n",
       "      <th>3</th>\n",
       "      <td>fare</td>\n",
       "      <td>number</td>\n",
       "      <td>change</td>\n",
       "      <td>address</td>\n",
       "      <td>credit</td>\n",
       "      <td>driver</td>\n",
       "      <td>one</td>\n",
       "      <td>racist</td>\n",
       "      <td>point</td>\n",
       "      <td>time</td>\n",
       "    </tr>\n",
       "    <tr>\n",
       "      <th>4</th>\n",
       "      <td>problem</td>\n",
       "      <td>better</td>\n",
       "      <td>give</td>\n",
       "      <td>location</td>\n",
       "      <td>tried</td>\n",
       "      <td>music</td>\n",
       "      <td>came</td>\n",
       "      <td>please</td>\n",
       "      <td>drop</td>\n",
       "      <td>bad</td>\n",
       "    </tr>\n",
       "    <tr>\n",
       "      <th>5</th>\n",
       "      <td>care</td>\n",
       "      <td>walk</td>\n",
       "      <td>person</td>\n",
       "      <td>say</td>\n",
       "      <td>card</td>\n",
       "      <td>car</td>\n",
       "      <td>cost</td>\n",
       "      <td>passenger</td>\n",
       "      <td>different</td>\n",
       "      <td>ride</td>\n",
       "    </tr>\n",
       "    <tr>\n",
       "      <th>6</th>\n",
       "      <td>almost</td>\n",
       "      <td>let</td>\n",
       "      <td>thank</td>\n",
       "      <td>hour</td>\n",
       "      <td>professional</td>\n",
       "      <td>polite</td>\n",
       "      <td>two</td>\n",
       "      <td>contact</td>\n",
       "      <td>long</td>\n",
       "      <td>phone</td>\n",
       "    </tr>\n",
       "    <tr>\n",
       "      <th>7</th>\n",
       "      <td>cancelled</td>\n",
       "      <td>horrible</td>\n",
       "      <td>ride</td>\n",
       "      <td>dropped</td>\n",
       "      <td>utaxi</td>\n",
       "      <td>issue</td>\n",
       "      <td>didnt</td>\n",
       "      <td>smell</td>\n",
       "      <td>min</td>\n",
       "      <td>customer</td>\n",
       "    </tr>\n",
       "    <tr>\n",
       "      <th>8</th>\n",
       "      <td>driver</td>\n",
       "      <td>top</td>\n",
       "      <td>one</td>\n",
       "      <td>helpful</td>\n",
       "      <td>drive</td>\n",
       "      <td>really</td>\n",
       "      <td>tell</td>\n",
       "      <td>several</td>\n",
       "      <td>rider</td>\n",
       "      <td>never</td>\n",
       "    </tr>\n",
       "    <tr>\n",
       "      <th>9</th>\n",
       "      <td>cab</td>\n",
       "      <td>russian</td>\n",
       "      <td>thanks</td>\n",
       "      <td>amazing</td>\n",
       "      <td>dirty</td>\n",
       "      <td>company</td>\n",
       "      <td>come</td>\n",
       "      <td>help</td>\n",
       "      <td>driver</td>\n",
       "      <td>charge</td>\n",
       "    </tr>\n",
       "  </tbody>\n",
       "</table>\n",
       "</div>"
      ],
      "text/plain": [
       "     Topic 0   Topic 1 Topic 2      Topic 3       Topic 4  Topic 5  Topic 6  \\\n",
       "0   friendly       use   utaxi      service          fast     good  account   \n",
       "1       like       day    best  advertising       driving    great   always   \n",
       "2    perfect      told  driver        wrong         going     nice      put   \n",
       "3       fare    number  change      address        credit   driver      one   \n",
       "4    problem    better    give     location         tried    music     came   \n",
       "5       care      walk  person          say          card      car     cost   \n",
       "6     almost       let   thank         hour  professional   polite      two   \n",
       "7  cancelled  horrible    ride      dropped         utaxi    issue    didnt   \n",
       "8     driver       top     one      helpful         drive   really     tell   \n",
       "9        cab   russian  thanks      amazing         dirty  company     come   \n",
       "\n",
       "     Topic 7    Topic 8   Topic 9  \n",
       "0        car       home     utaxi  \n",
       "1      route       find      rude  \n",
       "2     driver      could    driver  \n",
       "3     racist      point      time  \n",
       "4     please       drop       bad  \n",
       "5  passenger  different      ride  \n",
       "6    contact       long     phone  \n",
       "7      smell        min  customer  \n",
       "8    several      rider     never  \n",
       "9       help     driver    charge  "
      ]
     },
     "execution_count": 25,
     "metadata": {},
     "output_type": "execute_result"
    }
   ],
   "source": [
    "topics_relevant_words = pd.DataFrame(words).transpose()\n",
    "topics_relevant_words.columns = columns\n",
    "topics_relevant_words.head(20)"
   ]
  },
  {
   "cell_type": "code",
   "execution_count": 26,
   "metadata": {},
   "outputs": [],
   "source": [
    "from wordcloud import WordCloud\n",
    "# Generate a word cloud image for given topic\n",
    "def draw_word_cloud(index):\n",
    "  imp_words_topic=\"\"\n",
    "  comp=lda_model.components_[index]\n",
    "  vocab_comp = zip(vocab, comp)\n",
    "  sorted_words = sorted(vocab_comp, key= lambda x:x[1], reverse=True)[:25]\n",
    "  for word in sorted_words:\n",
    "    imp_words_topic=imp_words_topic+\" \"+word[0]\n",
    "\n",
    "  wordcloud = WordCloud(width=900, height=600).generate(imp_words_topic)\n",
    "  plt.figure( figsize=(5,5))\n",
    "  plt.imshow(wordcloud)\n",
    "  plt.axis(\"off\")\n",
    "  plt.tight_layout()\n",
    "  plt.show()"
   ]
  },
  {
   "cell_type": "code",
   "execution_count": 27,
   "metadata": {},
   "outputs": [
    {
     "data": {
      "image/png": "[encoded data removed]",
      "text/plain": [
       "<Figure size 500x500 with 1 Axes>"
      ]
     },
     "metadata": {},
     "output_type": "display_data"
    }
   ],
   "source": [
    "# topic 0\n",
    "draw_word_cloud(0)"
   ]
  },
  {
   "attachments": {},
   "cell_type": "markdown",
   "metadata": {},
   "source": [
    "##### **LDA (LatentDirichletAllocation) with GenSim**"
   ]
  },
  {
   "cell_type": "code",
   "execution_count": 28,
   "metadata": {},
   "outputs": [],
   "source": [
    "from gensim.utils import simple_preprocess\n",
    "\n",
    "texts = reviews.clean_custom_comment.apply(simple_preprocess)"
   ]
  },
  {
   "cell_type": "code",
   "execution_count": 29,
   "metadata": {},
   "outputs": [],
   "source": [
    "from gensim import corpora\n",
    "\n",
    "dictionary = corpora.Dictionary(texts)\n",
    "dictionary.filter_extremes(no_below=5, no_above=0.5)\n",
    "\n",
    "corpus = [dictionary.doc2bow(text) for text in texts]"
   ]
  },
  {
   "cell_type": "code",
   "execution_count": 30,
   "metadata": {},
   "outputs": [],
   "source": [
    "from gensim import models\n",
    "\n",
    "tfidf = models.TfidfModel(corpus)\n",
    "corpus_tfidf = tfidf[corpus]"
   ]
  },
  {
   "cell_type": "code",
   "execution_count": 31,
   "metadata": {},
   "outputs": [],
   "source": [
    "n_topics = 10\n",
    "\n",
    "# Build an LSI(=Latent Semantic Indexing = LSA) model\n",
    "lsi_model = models.LsiModel(corpus_tfidf,\n",
    "                            id2word=dictionary,\n",
    "                            num_topics=n_topics)"
   ]
  },
  {
   "cell_type": "code",
   "execution_count": 32,
   "metadata": {},
   "outputs": [
    {
     "data": {
      "text/plain": [
       "[(0,\n",
       "  '0.628*\"advertising\" + 0.587*\"other\" + 0.510*\"service\" + 0.018*\"great\" + 0.014*\"rude\" + 0.012*\"bad\" + 0.010*\"driver\" + 0.010*\"very\" + 0.008*\"good\" + 0.007*\"utaxi\"'),\n",
       " (1,\n",
       "  '-0.641*\"rude\" + -0.406*\"very\" + -0.294*\"driver\" + -0.187*\"bad\" + -0.167*\"good\" + -0.166*\"nice\" + -0.141*\"the\" + -0.133*\"not\" + -0.120*\"car\" + -0.090*\"trip\"'),\n",
       " (2,\n",
       "  '0.727*\"rude\" + -0.248*\"good\" + -0.235*\"nice\" + -0.182*\"very\" + -0.176*\"great\" + -0.147*\"car\" + -0.145*\"bad\" + -0.140*\"not\" + -0.120*\"best\" + -0.119*\"trip\"'),\n",
       " (3,\n",
       "  '0.449*\"very\" + 0.294*\"nice\" + 0.278*\"bad\" + -0.263*\"wrong\" + 0.215*\"good\" + -0.175*\"not\" + -0.172*\"address\" + -0.171*\"location\" + -0.158*\"best\" + -0.150*\"utaxi\"'),\n",
       " (4,\n",
       "  '-0.525*\"great\" + 0.473*\"bad\" + -0.414*\"best\" + 0.198*\"very\" + 0.184*\"wrong\" + -0.176*\"nice\" + -0.148*\"good\" + 0.125*\"behavior\" + -0.125*\"the\" + 0.115*\"address\"'),\n",
       " (5,\n",
       "  '0.763*\"best\" + -0.500*\"great\" + 0.238*\"the\" + 0.187*\"bad\" + -0.111*\"wrong\" + -0.072*\"good\" + -0.068*\"thanks\" + -0.063*\"address\" + -0.061*\"location\" + 0.060*\"very\"'),\n",
       " (6,\n",
       "  '-0.582*\"great\" + -0.513*\"bad\" + 0.402*\"nice\" + 0.365*\"good\" + -0.153*\"best\" + -0.132*\"behavior\" + -0.075*\"behaviour\" + -0.072*\"service\" + 0.070*\"really\" + 0.065*\"wrong\"'),\n",
       " (7,\n",
       "  '0.600*\"wrong\" + 0.304*\"address\" + 0.266*\"location\" + -0.246*\"not\" + 0.191*\"best\" + 0.190*\"nice\" + -0.181*\"utaxi\" + 0.160*\"dropped\" + 0.136*\"great\" + 0.127*\"place\"'),\n",
       " (8,\n",
       "  '0.749*\"good\" + -0.565*\"nice\" + 0.126*\"wrong\" + -0.096*\"very\" + 0.078*\"behavior\" + 0.075*\"not\" + 0.072*\"bad\" + -0.067*\"utaxi\" + 0.065*\"english\" + 0.064*\"address\"'),\n",
       " (9,\n",
       "  '-0.895*\"perfect\" + 0.205*\"not\" + -0.138*\"driving\" + 0.107*\"did\" + -0.103*\"car\" + -0.095*\"driver\" + -0.092*\"fast\" + 0.089*\"great\" + 0.088*\"very\" + 0.085*\"change\"')]"
      ]
     },
     "execution_count": 32,
     "metadata": {},
     "output_type": "execute_result"
    }
   ],
   "source": [
    "lsi_model.print_topics()"
   ]
  },
  {
   "cell_type": "code",
   "execution_count": 33,
   "metadata": {},
   "outputs": [
    {
     "data": {
      "text/html": [
       "<div>\n",
       "<style scoped>\n",
       "    .dataframe tbody tr th:only-of-type {\n",
       "        vertical-align: middle;\n",
       "    }\n",
       "\n",
       "    .dataframe tbody tr th {\n",
       "        vertical-align: top;\n",
       "    }\n",
       "\n",
       "    .dataframe thead th {\n",
       "        text-align: right;\n",
       "    }\n",
       "</style>\n",
       "<table border=\"1\" class=\"dataframe\">\n",
       "  <thead>\n",
       "    <tr style=\"text-align: right;\">\n",
       "      <th></th>\n",
       "      <th>value</th>\n",
       "      <th>word</th>\n",
       "      <th>topic</th>\n",
       "    </tr>\n",
       "  </thead>\n",
       "  <tbody>\n",
       "    <tr>\n",
       "      <th>0</th>\n",
       "      <td>0.627794</td>\n",
       "      <td>advertising</td>\n",
       "      <td>0</td>\n",
       "    </tr>\n",
       "    <tr>\n",
       "      <th>1</th>\n",
       "      <td>0.586753</td>\n",
       "      <td>other</td>\n",
       "      <td>0</td>\n",
       "    </tr>\n",
       "    <tr>\n",
       "      <th>2</th>\n",
       "      <td>0.509888</td>\n",
       "      <td>service</td>\n",
       "      <td>0</td>\n",
       "    </tr>\n",
       "    <tr>\n",
       "      <th>3</th>\n",
       "      <td>0.018055</td>\n",
       "      <td>great</td>\n",
       "      <td>0</td>\n",
       "    </tr>\n",
       "    <tr>\n",
       "      <th>4</th>\n",
       "      <td>0.013942</td>\n",
       "      <td>rude</td>\n",
       "      <td>0</td>\n",
       "    </tr>\n",
       "  </tbody>\n",
       "</table>\n",
       "</div>"
      ],
      "text/plain": [
       "      value         word  topic\n",
       "0  0.627794  advertising      0\n",
       "1  0.586753        other      0\n",
       "2  0.509888      service      0\n",
       "3  0.018055        great      0\n",
       "4  0.013942         rude      0"
      ]
     },
     "execution_count": 33,
     "metadata": {},
     "output_type": "execute_result"
    }
   ],
   "source": [
    "n_words = 10\n",
    "\n",
    "topic_words = pd.DataFrame({})\n",
    "\n",
    "for i, topic in enumerate(lsi_model.get_topics()):\n",
    "    top_feature_ids = topic.argsort()[-n_words:][::-1]\n",
    "    feature_values = topic[top_feature_ids]\n",
    "    words = [dictionary[id] for id in top_feature_ids]\n",
    "    topic_df = pd.DataFrame({'value': feature_values, 'word': words, 'topic': i})\n",
    "    topic_words = pd.concat([topic_words, topic_df], ignore_index=True)\n",
    "\n",
    "topic_words.head()"
   ]
  },
  {
   "cell_type": "code",
   "execution_count": 34,
   "metadata": {},
   "outputs": [
    {
     "data": {
      "text/plain": [
       "<seaborn.axisgrid.FacetGrid at 0x19e21547790>"
      ]
     },
     "execution_count": 34,
     "metadata": {},
     "output_type": "execute_result"
    },
    {
     "data": {
      "image/png": "[encoded data removed]",
      "text/plain": [
       "<Figure size 900x1200 with 10 Axes>"
      ]
     },
     "metadata": {},
     "output_type": "display_data"
    }
   ],
   "source": [
    "import seaborn as sns\n",
    "\n",
    "g = sns.FacetGrid(topic_words, col=\"topic\", col_wrap=3, sharey=False)\n",
    "g.map(plt.barh, \"word\", \"value\")"
   ]
  },
  {
   "cell_type": "code",
   "execution_count": 35,
   "metadata": {},
   "outputs": [],
   "source": [
    "n_topics = 10\n",
    "\n",
    "# Build an LDA model\n",
    "lda_model = models.LdaModel(corpus_tfidf, id2word=dictionary, num_topics=n_topics)"
   ]
  },
  {
   "cell_type": "code",
   "execution_count": 36,
   "metadata": {},
   "outputs": [
    {
     "data": {
      "text/plain": [
       "[(0,\n",
       "  '0.015*\"not\" + 0.014*\"every\" + 0.013*\"time\" + 0.013*\"called\" + 0.013*\"did\" + 0.010*\"someone\" + 0.010*\"pick\" + 0.010*\"getting\" + 0.010*\"driving\" + 0.010*\"several\"'),\n",
       " (1,\n",
       "  '0.039*\"rude\" + 0.021*\"last\" + 0.017*\"mile\" + 0.017*\"driver\" + 0.014*\"very\" + 0.010*\"the\" + 0.010*\"that\" + 0.009*\"down\" + 0.009*\"man\" + 0.009*\"them\"'),\n",
       " (2,\n",
       "  '0.022*\"rider\" + 0.020*\"wrong\" + 0.014*\"location\" + 0.013*\"car\" + 0.012*\"dropped\" + 0.011*\"done\" + 0.011*\"off\" + 0.011*\"away\" + 0.010*\"driver\" + 0.010*\"address\"'),\n",
       " (3,\n",
       "  '0.039*\"utaxi\" + 0.034*\"airport\" + 0.019*\"area\" + 0.018*\"response\" + 0.016*\"next\" + 0.015*\"rate\" + 0.012*\"service\" + 0.011*\"may\" + 0.010*\"quick\" + 0.010*\"again\"'),\n",
       " (4,\n",
       "  '0.040*\"utaxi\" + 0.025*\"them\" + 0.020*\"account\" + 0.016*\"same\" + 0.015*\"charge\" + 0.013*\"app\" + 0.012*\"could\" + 0.012*\"fee\" + 0.012*\"then\" + 0.012*\"charged\"'),\n",
       " (5,\n",
       "  '0.032*\"utaxi\" + 0.017*\"card\" + 0.016*\"they\" + 0.014*\"not\" + 0.013*\"credit\" + 0.011*\"good\" + 0.011*\"very\" + 0.010*\"driver\" + 0.010*\"contact\" + 0.009*\"got\"'),\n",
       " (6,\n",
       "  '0.015*\"fare\" + 0.013*\"customer\" + 0.013*\"when\" + 0.012*\"company\" + 0.012*\"more\" + 0.012*\"charged\" + 0.010*\"over\" + 0.009*\"take\" + 0.008*\"convenient\" + 0.008*\"trip\"'),\n",
       " (7,\n",
       "  '0.025*\"great\" + 0.019*\"received\" + 0.018*\"driver\" + 0.018*\"nice\" + 0.015*\"ride\" + 0.015*\"hotel\" + 0.015*\"issue\" + 0.013*\"very\" + 0.012*\"used\" + 0.011*\"rating\"'),\n",
       " (8,\n",
       "  '0.030*\"utaxi\" + 0.020*\"company\" + 0.017*\"always\" + 0.014*\"check\" + 0.014*\"many\" + 0.013*\"time\" + 0.012*\"your\" + 0.011*\"two\" + 0.011*\"three\" + 0.011*\"driver\"'),\n",
       " (9,\n",
       "  '0.080*\"service\" + 0.074*\"other\" + 0.069*\"advertising\" + 0.027*\"ve\" + 0.023*\"best\" + 0.018*\"used\" + 0.017*\"utaxi\" + 0.016*\"cancellation\" + 0.014*\"for\" + 0.014*\"try\"')]"
      ]
     },
     "execution_count": 36,
     "metadata": {},
     "output_type": "execute_result"
    }
   ],
   "source": [
    "lda_model.print_topics()"
   ]
  },
  {
   "cell_type": "code",
   "execution_count": 37,
   "metadata": {},
   "outputs": [
    {
     "data": {
      "text/html": [
       "<div>\n",
       "<style scoped>\n",
       "    .dataframe tbody tr th:only-of-type {\n",
       "        vertical-align: middle;\n",
       "    }\n",
       "\n",
       "    .dataframe tbody tr th {\n",
       "        vertical-align: top;\n",
       "    }\n",
       "\n",
       "    .dataframe thead th {\n",
       "        text-align: right;\n",
       "    }\n",
       "</style>\n",
       "<table border=\"1\" class=\"dataframe\">\n",
       "  <thead>\n",
       "    <tr style=\"text-align: right;\">\n",
       "      <th></th>\n",
       "      <th>value</th>\n",
       "      <th>word</th>\n",
       "      <th>topic</th>\n",
       "    </tr>\n",
       "  </thead>\n",
       "  <tbody>\n",
       "    <tr>\n",
       "      <th>0</th>\n",
       "      <td>0.015288</td>\n",
       "      <td>not</td>\n",
       "      <td>0</td>\n",
       "    </tr>\n",
       "    <tr>\n",
       "      <th>1</th>\n",
       "      <td>0.014107</td>\n",
       "      <td>every</td>\n",
       "      <td>0</td>\n",
       "    </tr>\n",
       "    <tr>\n",
       "      <th>2</th>\n",
       "      <td>0.013311</td>\n",
       "      <td>time</td>\n",
       "      <td>0</td>\n",
       "    </tr>\n",
       "    <tr>\n",
       "      <th>3</th>\n",
       "      <td>0.013308</td>\n",
       "      <td>called</td>\n",
       "      <td>0</td>\n",
       "    </tr>\n",
       "    <tr>\n",
       "      <th>4</th>\n",
       "      <td>0.012642</td>\n",
       "      <td>did</td>\n",
       "      <td>0</td>\n",
       "    </tr>\n",
       "  </tbody>\n",
       "</table>\n",
       "</div>"
      ],
      "text/plain": [
       "      value    word  topic\n",
       "0  0.015288     not      0\n",
       "1  0.014107   every      0\n",
       "2  0.013311    time      0\n",
       "3  0.013308  called      0\n",
       "4  0.012642     did      0"
      ]
     },
     "execution_count": 37,
     "metadata": {},
     "output_type": "execute_result"
    }
   ],
   "source": [
    "n_words = 10\n",
    "topic_words = pd.DataFrame({})\n",
    "\n",
    "for i, topic in enumerate(lda_model.get_topics()):\n",
    "    top_feature_ids = topic.argsort()[-n_words:][::-1]\n",
    "    feature_values = topic[top_feature_ids]\n",
    "    words = [dictionary[id] for id in top_feature_ids]\n",
    "    topic_df = pd.DataFrame({'value': feature_values, 'word': words, 'topic': i})\n",
    "    topic_words = pd.concat([topic_words, topic_df], ignore_index=True)\n",
    "\n",
    "topic_words.head()"
   ]
  },
  {
   "cell_type": "code",
   "execution_count": 38,
   "metadata": {},
   "outputs": [
    {
     "data": {
      "text/plain": [
       "<seaborn.axisgrid.FacetGrid at 0x19e221ea920>"
      ]
     },
     "execution_count": 38,
     "metadata": {},
     "output_type": "execute_result"
    },
    {
     "data": {
      "image/png": "[encoded data removed]",
      "text/plain": [
       "<Figure size 900x1200 with 10 Axes>"
      ]
     },
     "metadata": {},
     "output_type": "display_data"
    }
   ],
   "source": [
    "import seaborn as sns\n",
    "\n",
    "g = sns.FacetGrid(topic_words, col=\"topic\", col_wrap=3, sharey=False)\n",
    "g.map(plt.barh, \"word\", \"value\")"
   ]
  },
  {
   "attachments": {},
   "cell_type": "markdown",
   "metadata": {},
   "source": [
    "##### **BERTopic**\n",
    "\n",
    "*BERTopic is a powerful tool for tasks such as document clustering, topic extraction based on the BERT (Bidirectional Encoder Representations from Transformers) algorithm.*"
   ]
  },
  {
   "cell_type": "code",
   "execution_count": null,
   "metadata": {},
   "outputs": [],
   "source": [
    "!pip install bertopic"
   ]
  },
  {
   "cell_type": "code",
   "execution_count": 39,
   "metadata": {},
   "outputs": [
    {
     "name": "stderr",
     "output_type": "stream",
     "text": [
      "c:\\Users\\olkos\\AppData\\Local\\Programs\\Python\\Python310\\lib\\site-packages\\umap\\distances.py:1063: NumbaDeprecationWarning: \u001b[1mThe 'nopython' keyword argument was not supplied to the 'numba.jit' decorator. The implicit default value for this argument is currently False, but it will be changed to True in Numba 0.59.0. See https://numba.readthedocs.io/en/stable/reference/deprecation.html#deprecation-of-object-mode-fall-back-behaviour-when-using-jit for details.\u001b[0m\n",
      "  @numba.jit()\n",
      "c:\\Users\\olkos\\AppData\\Local\\Programs\\Python\\Python310\\lib\\site-packages\\umap\\distances.py:1071: NumbaDeprecationWarning: \u001b[1mThe 'nopython' keyword argument was not supplied to the 'numba.jit' decorator. The implicit default value for this argument is currently False, but it will be changed to True in Numba 0.59.0. See https://numba.readthedocs.io/en/stable/reference/deprecation.html#deprecation-of-object-mode-fall-back-behaviour-when-using-jit for details.\u001b[0m\n",
      "  @numba.jit()\n",
      "c:\\Users\\olkos\\AppData\\Local\\Programs\\Python\\Python310\\lib\\site-packages\\umap\\distances.py:1086: NumbaDeprecationWarning: \u001b[1mThe 'nopython' keyword argument was not supplied to the 'numba.jit' decorator. The implicit default value for this argument is currently False, but it will be changed to True in Numba 0.59.0. See https://numba.readthedocs.io/en/stable/reference/deprecation.html#deprecation-of-object-mode-fall-back-behaviour-when-using-jit for details.\u001b[0m\n",
      "  @numba.jit()\n",
      "c:\\Users\\olkos\\AppData\\Local\\Programs\\Python\\Python310\\lib\\site-packages\\umap\\umap_.py:660: NumbaDeprecationWarning: \u001b[1mThe 'nopython' keyword argument was not supplied to the 'numba.jit' decorator. The implicit default value for this argument is currently False, but it will be changed to True in Numba 0.59.0. See https://numba.readthedocs.io/en/stable/reference/deprecation.html#deprecation-of-object-mode-fall-back-behaviour-when-using-jit for details.\u001b[0m\n",
      "  @numba.jit()\n"
     ]
    }
   ],
   "source": [
    "from bertopic import BERTopic\n",
    "from umap import UMAP\n",
    "from hdbscan import HDBSCAN\n",
    "from sklearn.cluster import KMeans"
   ]
  },
  {
   "cell_type": "code",
   "execution_count": 40,
   "metadata": {},
   "outputs": [],
   "source": [
    "corpus = reviews[\"clean_custom_comment\"].to_list()"
   ]
  },
  {
   "cell_type": "code",
   "execution_count": 41,
   "metadata": {},
   "outputs": [],
   "source": [
    "try:\n",
    "  topic_model = BERTopic()\n",
    "  topics, probs = topic_model.fit_transform(corpus)\n",
    "except Exception as e:\n",
    "  print(e)"
   ]
  },
  {
   "cell_type": "code",
   "execution_count": 42,
   "metadata": {},
   "outputs": [],
   "source": [
    "# umap_model = UMAP(n_neighbors=15, n_components=10, min_dist=0.0, metric='cosine')\n",
    "\n",
    "cluster_model = KMeans(n_clusters=15)\n",
    "\n",
    "topic_model = BERTopic(hdbscan_model=cluster_model)\n",
    "topics, probs = topic_model.fit_transform(corpus)"
   ]
  },
  {
   "cell_type": "code",
   "execution_count": 41,
   "metadata": {},
   "outputs": [
    {
     "data": {
      "text/html": [
       "<div>\n",
       "<style scoped>\n",
       "    .dataframe tbody tr th:only-of-type {\n",
       "        vertical-align: middle;\n",
       "    }\n",
       "\n",
       "    .dataframe tbody tr th {\n",
       "        vertical-align: top;\n",
       "    }\n",
       "\n",
       "    .dataframe thead th {\n",
       "        text-align: right;\n",
       "    }\n",
       "</style>\n",
       "<table border=\"1\" class=\"dataframe\">\n",
       "  <thead>\n",
       "    <tr style=\"text-align: right;\">\n",
       "      <th></th>\n",
       "      <th>Topic</th>\n",
       "      <th>Count</th>\n",
       "      <th>Name</th>\n",
       "      <th>Representation</th>\n",
       "      <th>Representative_Docs</th>\n",
       "    </tr>\n",
       "  </thead>\n",
       "  <tbody>\n",
       "    <tr>\n",
       "      <th>0</th>\n",
       "      <td>0</td>\n",
       "      <td>988</td>\n",
       "      <td>0_driver_idle_address_arrived</td>\n",
       "      <td>[driver, idle, address, arrived, didn, started...</td>\n",
       "      <td>[idle started before taxi arrived, arrived lat...</td>\n",
       "    </tr>\n",
       "    <tr>\n",
       "      <th>1</th>\n",
       "      <td>1</td>\n",
       "      <td>853</td>\n",
       "      <td>1_driver_car_very_nice</td>\n",
       "      <td>[driver, car, very, nice, good, great, trip, t...</td>\n",
       "      <td>[amazing very nice car very nice trip, Very ni...</td>\n",
       "    </tr>\n",
       "    <tr>\n",
       "      <th>2</th>\n",
       "      <td>2</td>\n",
       "      <td>717</td>\n",
       "      <td>2_driver_rude_driving_very</td>\n",
       "      <td>[driver, rude, driving, very, bad, the, fast, ...</td>\n",
       "      <td>[Driver very rude, Driver very rude, The drive...</td>\n",
       "    </tr>\n",
       "    <tr>\n",
       "      <th>3</th>\n",
       "      <td>3</td>\n",
       "      <td>702</td>\n",
       "      <td>3_utaxi_not_nt_time</td>\n",
       "      <td>[utaxi, not, nt, time, ride, driver, customer,...</td>\n",
       "      <td>[asked picked Utaxi 2/13/18 really cold out da...</td>\n",
       "    </tr>\n",
       "    <tr>\n",
       "      <th>4</th>\n",
       "      <td>4</td>\n",
       "      <td>530</td>\n",
       "      <td>4_rude_bad_very_behavior</td>\n",
       "      <td>[rude, bad, very, behavior, behaviour, racist,...</td>\n",
       "      <td>[very rude, Very rude, very rude]</td>\n",
       "    </tr>\n",
       "    <tr>\n",
       "      <th>5</th>\n",
       "      <td>5</td>\n",
       "      <td>497</td>\n",
       "      <td>5_wrong_location_address_drop</td>\n",
       "      <td>[wrong, location, address, drop, dropped, plac...</td>\n",
       "      <td>[Arrived wrong address, arrived wrong location...</td>\n",
       "    </tr>\n",
       "    <tr>\n",
       "      <th>6</th>\n",
       "      <td>6</td>\n",
       "      <td>473</td>\n",
       "      <td>6_money_change_uah_give</td>\n",
       "      <td>[money, change, uah, give, more, extra, driver...</td>\n",
       "      <td>[Very rude driver didn want give money back, d...</td>\n",
       "    </tr>\n",
       "    <tr>\n",
       "      <th>7</th>\n",
       "      <td>7</td>\n",
       "      <td>467</td>\n",
       "      <td>7_phone_car_driving_mask</td>\n",
       "      <td>[phone, car, driving, mask, while, driver, col...</td>\n",
       "      <td>[using phone while driving, Very bad driving u...</td>\n",
       "    </tr>\n",
       "    <tr>\n",
       "      <th>8</th>\n",
       "      <td>8</td>\n",
       "      <td>377</td>\n",
       "      <td>8_english_very_good_nice</td>\n",
       "      <td>[english, very, good, nice, great, guy, man, f...</td>\n",
       "      <td>[good car driver speaks very good English, dri...</td>\n",
       "    </tr>\n",
       "    <tr>\n",
       "      <th>9</th>\n",
       "      <td>9</td>\n",
       "      <td>375</td>\n",
       "      <td>9_advertising_other_service_serviceshe</td>\n",
       "      <td>[advertising, other, service, serviceshe, serv...</td>\n",
       "      <td>[Advertising other service, Advertising other ...</td>\n",
       "    </tr>\n",
       "    <tr>\n",
       "      <th>10</th>\n",
       "      <td>10</td>\n",
       "      <td>168</td>\n",
       "      <td>10_music_russian_loud_ukraine</td>\n",
       "      <td>[music, russian, loud, ukraine, ukrainian, bes...</td>\n",
       "      <td>[The music loud, Loud Russian music, music]</td>\n",
       "    </tr>\n",
       "    <tr>\n",
       "      <th>11</th>\n",
       "      <td>11</td>\n",
       "      <td>121</td>\n",
       "      <td>11_perfect_thanks_great_thank</td>\n",
       "      <td>[perfect, thanks, great, thank, everything, go...</td>\n",
       "      <td>[Perfect, Perfect Thanks, thanks lot perfect]</td>\n",
       "    </tr>\n",
       "    <tr>\n",
       "      <th>12</th>\n",
       "      <td>12</td>\n",
       "      <td>40</td>\n",
       "      <td>12_best_the_ever_one</td>\n",
       "      <td>[best, the, ever, one, world, ukraine, you, th...</td>\n",
       "      <td>[The best best, The best best, The best best]</td>\n",
       "    </tr>\n",
       "    <tr>\n",
       "      <th>13</th>\n",
       "      <td>13</td>\n",
       "      <td>38</td>\n",
       "      <td>13_bad_very_horrible_worst</td>\n",
       "      <td>[bad, very, horrible, worst, porson, shitty, c...</td>\n",
       "      <td>[Very bad, Very bad, Very bad]</td>\n",
       "    </tr>\n",
       "    <tr>\n",
       "      <th>14</th>\n",
       "      <td>14</td>\n",
       "      <td>11</td>\n",
       "      <td>14_other_somehow__</td>\n",
       "      <td>[other, somehow, , , , , , , , ]</td>\n",
       "      <td>[Other, Other, Other]</td>\n",
       "    </tr>\n",
       "  </tbody>\n",
       "</table>\n",
       "</div>"
      ],
      "text/plain": [
       "    Topic  Count                                    Name  \\\n",
       "0       0    988           0_driver_idle_address_arrived   \n",
       "1       1    853                  1_driver_car_very_nice   \n",
       "2       2    717              2_driver_rude_driving_very   \n",
       "3       3    702                     3_utaxi_not_nt_time   \n",
       "4       4    530                4_rude_bad_very_behavior   \n",
       "5       5    497           5_wrong_location_address_drop   \n",
       "6       6    473                 6_money_change_uah_give   \n",
       "7       7    467                7_phone_car_driving_mask   \n",
       "8       8    377                8_english_very_good_nice   \n",
       "9       9    375  9_advertising_other_service_serviceshe   \n",
       "10     10    168           10_music_russian_loud_ukraine   \n",
       "11     11    121           11_perfect_thanks_great_thank   \n",
       "12     12     40                    12_best_the_ever_one   \n",
       "13     13     38              13_bad_very_horrible_worst   \n",
       "14     14     11                      14_other_somehow__   \n",
       "\n",
       "                                       Representation  \\\n",
       "0   [driver, idle, address, arrived, didn, started...   \n",
       "1   [driver, car, very, nice, good, great, trip, t...   \n",
       "2   [driver, rude, driving, very, bad, the, fast, ...   \n",
       "3   [utaxi, not, nt, time, ride, driver, customer,...   \n",
       "4   [rude, bad, very, behavior, behaviour, racist,...   \n",
       "5   [wrong, location, address, drop, dropped, plac...   \n",
       "6   [money, change, uah, give, more, extra, driver...   \n",
       "7   [phone, car, driving, mask, while, driver, col...   \n",
       "8   [english, very, good, nice, great, guy, man, f...   \n",
       "9   [advertising, other, service, serviceshe, serv...   \n",
       "10  [music, russian, loud, ukraine, ukrainian, bes...   \n",
       "11  [perfect, thanks, great, thank, everything, go...   \n",
       "12  [best, the, ever, one, world, ukraine, you, th...   \n",
       "13  [bad, very, horrible, worst, porson, shitty, c...   \n",
       "14                   [other, somehow, , , , , , , , ]   \n",
       "\n",
       "                                  Representative_Docs  \n",
       "0   [idle started before taxi arrived, arrived lat...  \n",
       "1   [amazing very nice car very nice trip, Very ni...  \n",
       "2   [Driver very rude, Driver very rude, The drive...  \n",
       "3   [asked picked Utaxi 2/13/18 really cold out da...  \n",
       "4                   [very rude, Very rude, very rude]  \n",
       "5   [Arrived wrong address, arrived wrong location...  \n",
       "6   [Very rude driver didn want give money back, d...  \n",
       "7   [using phone while driving, Very bad driving u...  \n",
       "8   [good car driver speaks very good English, dri...  \n",
       "9   [Advertising other service, Advertising other ...  \n",
       "10        [The music loud, Loud Russian music, music]  \n",
       "11      [Perfect, Perfect Thanks, thanks lot perfect]  \n",
       "12      [The best best, The best best, The best best]  \n",
       "13                     [Very bad, Very bad, Very bad]  \n",
       "14                              [Other, Other, Other]  "
      ]
     },
     "execution_count": 41,
     "metadata": {},
     "output_type": "execute_result"
    }
   ],
   "source": [
    "# To see how many topics were extracted, and how many tokens are associated to each of these topics\n",
    "\n",
    "topic_model.get_topic_info()\n",
    "\n",
    "# [Topic] -1 refers to all outliers and should typically be ignored\""
   ]
  },
  {
   "cell_type": "code",
   "execution_count": 43,
   "metadata": {},
   "outputs": [
    {
     "name": "stdout",
     "output_type": "stream",
     "text": [
      "\n",
      "Topic: 1\n",
      "\n",
      "\t driver\n",
      "\t idle\n",
      "\t didn\n",
      "\t address\n",
      "\t arrived\n",
      "\t started\n",
      "\t late\n",
      "\t wrong\n",
      "\t location\n",
      "\t route\n",
      "\n",
      "Topic: 2\n",
      "\n",
      "\t driver\n",
      "\t car\n",
      "\t very\n",
      "\t nice\n",
      "\t good\n",
      "\t great\n",
      "\t smell\n",
      "\t trip\n",
      "\t polite\n",
      "\t the\n",
      "\n",
      "Topic: 3\n",
      "\n",
      "\t utaxi\n",
      "\t not\n",
      "\t nt\n",
      "\t time\n",
      "\t ride\n",
      "\t driver\n",
      "\t customer\n",
      "\t use\n",
      "\t app\n",
      "\t them\n",
      "\n",
      "Topic: 4\n",
      "\n",
      "\t rude\n",
      "\t very\n",
      "\t bad\n",
      "\t behavior\n",
      "\t behaviour\n",
      "\t racist\n",
      "\t shouting\n",
      "\t not\n",
      "\t slow\n",
      "\t was\n",
      "\n",
      "Topic: 5\n",
      "\n",
      "\t money\n",
      "\t change\n",
      "\t give\n",
      "\t uah\n",
      "\t more\n",
      "\t driver\n",
      "\t extra\n",
      "\t didn\n",
      "\t took\n",
      "\t pay\n",
      "\n",
      "Topic: 6\n",
      "\n",
      "\t wrong\n",
      "\t location\n",
      "\t address\n",
      "\t drop\n",
      "\t dropped\n",
      "\t place\n",
      "\t arrived\n",
      "\t late\n",
      "\t did\n",
      "\t didn\n",
      "\n",
      "Topic: 7\n",
      "\n",
      "\t driving\n",
      "\t mask\n",
      "\t fast\n",
      "\t too\n",
      "\t driver\n",
      "\t drive\n",
      "\t cold\n",
      "\t car\n",
      "\t rule\n",
      "\t very\n",
      "\n",
      "Topic: 8\n",
      "\n",
      "\t rude\n",
      "\t driver\n",
      "\t very\n",
      "\t racist\n",
      "\t the\n",
      "\t bad\n",
      "\t not\n",
      "\t him\n",
      "\t attitude\n",
      "\t car\n",
      "\n",
      "Topic: 9\n",
      "\n",
      "\t advertising\n",
      "\t other\n",
      "\t service\n",
      "\t serviceshe\n",
      "\t servicesvery\n",
      "\t servicesbad\n",
      "\t servicesdidn\n",
      "\t serviceswas\n",
      "\t servicesso\n",
      "\t servicesnot\n",
      "\n",
      "Topic: 10\n",
      "\n",
      "\t great\n",
      "\t nice\n",
      "\t very\n",
      "\t guy\n",
      "\t good\n",
      "\t thanks\n",
      "\t man\n",
      "\t service\n",
      "\t thank\n",
      "\t recommend\n",
      "\n",
      "Topic: 11\n",
      "\n",
      "\t music\n",
      "\t english\n",
      "\t good\n",
      "\t russian\n",
      "\t loud\n",
      "\t speaks\n",
      "\t speak\n",
      "\t ukraine\n",
      "\t nice\n",
      "\t language\n",
      "\n",
      "Topic: 12\n",
      "\n",
      "\t phone\n",
      "\t driving\n",
      "\t while\n",
      "\t texting\n",
      "\t car\n",
      "\t forgot\n",
      "\t talking\n",
      "\t driver\n",
      "\t during\n",
      "\t left\n",
      "\n",
      "Topic: 13\n",
      "\n",
      "\t perfect\n",
      "\t bad\n",
      "\t very\n",
      "\t perfecto\n",
      "\t horrible\n",
      "\t worst\n",
      "\t porson\n",
      "\t physo\n",
      "\t shitty\n",
      "\t cursed\n",
      "\n",
      "Topic: 14\n",
      "\n",
      "\t best\n",
      "\t the\n",
      "\t ever\n",
      "\t one\n",
      "\t world\n",
      "\t ukraine\n",
      "\t you\n",
      "\t thank\n",
      "\t man\n",
      "\t much\n",
      "\n",
      "Topic: 15\n",
      "\n",
      "\t other\n",
      "\t somehow\n",
      "\t \n",
      "\t \n",
      "\t \n",
      "\t \n",
      "\t \n",
      "\t \n",
      "\t \n",
      "\t \n"
     ]
    }
   ],
   "source": [
    "def showTopics():\n",
    "  for topics in range(0, (len(topic_model.get_topic_info()))):\n",
    "    print(f\"\\nTopic: {topics + 1}\\n\")\n",
    "    for t in topic_model.get_topic(topics):\n",
    "      print(\"\\t\", t[0])\n",
    "\n",
    "showTopics()"
   ]
  },
  {
   "cell_type": "code",
   "execution_count": 44,
   "metadata": {},
   "outputs": [
    {
     "data": {
      "application/vnd.plotly.v1+json": {
       "config": {
        "plotlyServerURL": "https://plot.ly"
       },
       "data": [
        {
         "marker": {
          "color": "#D55E00"
         },
         "orientation": "h",
         "type": "bar",
         "x": [
          0.03867130912513721,
          0.03912020402185661,
          0.04131509451356395,
          0.066859737417154,
          0.068585472455496
         ],
         "xaxis": "x",
         "y": [
          "arrived  ",
          "address  ",
          "didn  ",
          "idle  ",
          "driver  "
         ],
         "yaxis": "y"
        },
        {
         "marker": {
          "color": "#0072B2"
         },
         "orientation": "h",
         "type": "bar",
         "x": [
          0.07260351969741881,
          0.0822974305159653,
          0.08442986289508608,
          0.09743621396873431,
          0.10239531629033771
         ],
         "xaxis": "x2",
         "y": [
          "good  ",
          "nice  ",
          "very  ",
          "car  ",
          "driver  "
         ],
         "yaxis": "y2"
        },
        {
         "marker": {
          "color": "#CC79A7"
         },
         "orientation": "h",
         "type": "bar",
         "x": [
          0.022877311549958524,
          0.023856610566410072,
          0.02433922630295829,
          0.024872159523711797,
          0.05876691516560381
         ],
         "xaxis": "x3",
         "y": [
          "ride  ",
          "time  ",
          "nt  ",
          "not  ",
          "utaxi  "
         ],
         "yaxis": "y3"
        },
        {
         "marker": {
          "color": "#E69F00"
         },
         "orientation": "h",
         "type": "bar",
         "x": [
          0.07503727788165276,
          0.09149247211045604,
          0.10886635800298905,
          0.1255884669435683,
          0.2000918125421976
         ],
         "xaxis": "x4",
         "y": [
          "behaviour  ",
          "behavior  ",
          "bad  ",
          "very  ",
          "rude  "
         ],
         "yaxis": "y4"
        },
        {
         "marker": {
          "color": "#56B4E9"
         },
         "orientation": "h",
         "type": "bar",
         "x": [
          0.04982666293451825,
          0.059095788264189694,
          0.059409645992700315,
          0.08009168648626586,
          0.10432846879156712
         ],
         "xaxis": "x5",
         "y": [
          "more  ",
          "uah  ",
          "give  ",
          "change  ",
          "money  "
         ],
         "yaxis": "y5"
        },
        {
         "marker": {
          "color": "#009E73"
         },
         "orientation": "h",
         "type": "bar",
         "x": [
          0.05831348984919141,
          0.06374472085939492,
          0.1014546273417163,
          0.10260598549320236,
          0.14312782980197344
         ],
         "xaxis": "x6",
         "y": [
          "dropped  ",
          "drop  ",
          "address  ",
          "location  ",
          "wrong  "
         ],
         "yaxis": "y6"
        },
        {
         "marker": {
          "color": "#F0E442"
         },
         "orientation": "h",
         "type": "bar",
         "x": [
          0.05207443775392985,
          0.05487404220971258,
          0.06390923795788829,
          0.07324971902180961,
          0.10867950012433461
         ],
         "xaxis": "x7",
         "y": [
          "driver  ",
          "too  ",
          "fast  ",
          "mask  ",
          "driving  "
         ],
         "yaxis": "y7"
        },
        {
         "marker": {
          "color": "#D55E00"
         },
         "orientation": "h",
         "type": "bar",
         "x": [
          0.04711900744942943,
          0.060928876597895726,
          0.06472546904317544,
          0.11638634378627505,
          0.12917810788008707
         ],
         "xaxis": "x8",
         "y": [
          "the  ",
          "racist  ",
          "very  ",
          "driver  ",
          "rude  "
         ],
         "yaxis": "y8"
        }
       ],
       "layout": {
        "annotations": [
         {
          "font": {
           "size": 16
          },
          "showarrow": false,
          "text": "Topic 0",
          "x": 0.0875,
          "xanchor": "center",
          "xref": "paper",
          "y": 1,
          "yanchor": "bottom",
          "yref": "paper"
         },
         {
          "font": {
           "size": 16
          },
          "showarrow": false,
          "text": "Topic 1",
          "x": 0.36250000000000004,
          "xanchor": "center",
          "xref": "paper",
          "y": 1,
          "yanchor": "bottom",
          "yref": "paper"
         },
         {
          "font": {
           "size": 16
          },
          "showarrow": false,
          "text": "Topic 2",
          "x": 0.6375000000000001,
          "xanchor": "center",
          "xref": "paper",
          "y": 1,
          "yanchor": "bottom",
          "yref": "paper"
         },
         {
          "font": {
           "size": 16
          },
          "showarrow": false,
          "text": "Topic 3",
          "x": 0.9125,
          "xanchor": "center",
          "xref": "paper",
          "y": 1,
          "yanchor": "bottom",
          "yref": "paper"
         },
         {
          "font": {
           "size": 16
          },
          "showarrow": false,
          "text": "Topic 4",
          "x": 0.0875,
          "xanchor": "center",
          "xref": "paper",
          "y": 0.4,
          "yanchor": "bottom",
          "yref": "paper"
         },
         {
          "font": {
           "size": 16
          },
          "showarrow": false,
          "text": "Topic 5",
          "x": 0.36250000000000004,
          "xanchor": "center",
          "xref": "paper",
          "y": 0.4,
          "yanchor": "bottom",
          "yref": "paper"
         },
         {
          "font": {
           "size": 16
          },
          "showarrow": false,
          "text": "Topic 6",
          "x": 0.6375000000000001,
          "xanchor": "center",
          "xref": "paper",
          "y": 0.4,
          "yanchor": "bottom",
          "yref": "paper"
         },
         {
          "font": {
           "size": 16
          },
          "showarrow": false,
          "text": "Topic 7",
          "x": 0.9125,
          "xanchor": "center",
          "xref": "paper",
          "y": 0.4,
          "yanchor": "bottom",
          "yref": "paper"
         }
        ],
        "height": 500,
        "hoverlabel": {
         "bgcolor": "white",
         "font": {
          "family": "Rockwell",
          "size": 16
         }
        },
        "showlegend": false,
        "template": {
         "data": {
          "bar": [
           {
            "error_x": {
             "color": "#2a3f5f"
            },
            "error_y": {
             "color": "#2a3f5f"
            },
            "marker": {
             "line": {
              "color": "white",
              "width": 0.5
             },
             "pattern": {
              "fillmode": "overlay",
              "size": 10,
              "solidity": 0.2
             }
            },
            "type": "bar"
           }
          ],
          "barpolar": [
           {
            "marker": {
             "line": {
              "color": "white",
              "width": 0.5
             },
             "pattern": {
              "fillmode": "overlay",
              "size": 10,
              "solidity": 0.2
             }
            },
            "type": "barpolar"
           }
          ],
          "carpet": [
           {
            "aaxis": {
             "endlinecolor": "#2a3f5f",
             "gridcolor": "#C8D4E3",
             "linecolor": "#C8D4E3",
             "minorgridcolor": "#C8D4E3",
             "startlinecolor": "#2a3f5f"
            },
            "baxis": {
             "endlinecolor": "#2a3f5f",
             "gridcolor": "#C8D4E3",
             "linecolor": "#C8D4E3",
             "minorgridcolor": "#C8D4E3",
             "startlinecolor": "#2a3f5f"
            },
            "type": "carpet"
           }
          ],
          "choropleth": [
           {
            "colorbar": {
             "outlinewidth": 0,
             "ticks": ""
            },
            "type": "choropleth"
           }
          ],
          "contour": [
           {
            "colorbar": {
             "outlinewidth": 0,
             "ticks": ""
            },
            "colorscale": [
             [
              0,
              "#0d0887"
             ],
             [
              0.1111111111111111,
              "#46039f"
             ],
             [
              0.2222222222222222,
              "#7201a8"
             ],
             [
              0.3333333333333333,
              "#9c179e"
             ],
             [
              0.4444444444444444,
              "#bd3786"
             ],
             [
              0.5555555555555556,
              "#d8576b"
             ],
             [
              0.6666666666666666,
              "#ed7953"
             ],
             [
              0.7777777777777778,
              "#fb9f3a"
             ],
             [
              0.8888888888888888,
              "#fdca26"
             ],
             [
              1,
              "#f0f921"
             ]
            ],
            "type": "contour"
           }
          ],
          "contourcarpet": [
           {
            "colorbar": {
             "outlinewidth": 0,
             "ticks": ""
            },
            "type": "contourcarpet"
           }
          ],
          "heatmap": [
           {
            "colorbar": {
             "outlinewidth": 0,
             "ticks": ""
            },
            "colorscale": [
             [
              0,
              "#0d0887"
             ],
             [
              0.1111111111111111,
              "#46039f"
             ],
             [
              0.2222222222222222,
              "#7201a8"
             ],
             [
              0.3333333333333333,
              "#9c179e"
             ],
             [
              0.4444444444444444,
              "#bd3786"
             ],
             [
              0.5555555555555556,
              "#d8576b"
             ],
             [
              0.6666666666666666,
              "#ed7953"
             ],
             [
              0.7777777777777778,
              "#fb9f3a"
             ],
             [
              0.8888888888888888,
              "#fdca26"
             ],
             [
              1,
              "#f0f921"
             ]
            ],
            "type": "heatmap"
           }
          ],
          "heatmapgl": [
           {
            "colorbar": {
             "outlinewidth": 0,
             "ticks": ""
            },
            "colorscale": [
             [
              0,
              "#0d0887"
             ],
             [
              0.1111111111111111,
              "#46039f"
             ],
             [
              0.2222222222222222,
              "#7201a8"
             ],
             [
              0.3333333333333333,
              "#9c179e"
             ],
             [
              0.4444444444444444,
              "#bd3786"
             ],
             [
              0.5555555555555556,
              "#d8576b"
             ],
             [
              0.6666666666666666,
              "#ed7953"
             ],
             [
              0.7777777777777778,
              "#fb9f3a"
             ],
             [
              0.8888888888888888,
              "#fdca26"
             ],
             [
              1,
              "#f0f921"
             ]
            ],
            "type": "heatmapgl"
           }
          ],
          "histogram": [
           {
            "marker": {
             "pattern": {
              "fillmode": "overlay",
              "size": 10,
              "solidity": 0.2
             }
            },
            "type": "histogram"
           }
          ],
          "histogram2d": [
           {
            "colorbar": {
             "outlinewidth": 0,
             "ticks": ""
            },
            "colorscale": [
             [
              0,
              "#0d0887"
             ],
             [
              0.1111111111111111,
              "#46039f"
             ],
             [
              0.2222222222222222,
              "#7201a8"
             ],
             [
              0.3333333333333333,
              "#9c179e"
             ],
             [
              0.4444444444444444,
              "#bd3786"
             ],
             [
              0.5555555555555556,
              "#d8576b"
             ],
             [
              0.6666666666666666,
              "#ed7953"
             ],
             [
              0.7777777777777778,
              "#fb9f3a"
             ],
             [
              0.8888888888888888,
              "#fdca26"
             ],
             [
              1,
              "#f0f921"
             ]
            ],
            "type": "histogram2d"
           }
          ],
          "histogram2dcontour": [
           {
            "colorbar": {
             "outlinewidth": 0,
             "ticks": ""
            },
            "colorscale": [
             [
              0,
              "#0d0887"
             ],
             [
              0.1111111111111111,
              "#46039f"
             ],
             [
              0.2222222222222222,
              "#7201a8"
             ],
             [
              0.3333333333333333,
              "#9c179e"
             ],
             [
              0.4444444444444444,
              "#bd3786"
             ],
             [
              0.5555555555555556,
              "#d8576b"
             ],
             [
              0.6666666666666666,
              "#ed7953"
             ],
             [
              0.7777777777777778,
              "#fb9f3a"
             ],
             [
              0.8888888888888888,
              "#fdca26"
             ],
             [
              1,
              "#f0f921"
             ]
            ],
            "type": "histogram2dcontour"
           }
          ],
          "mesh3d": [
           {
            "colorbar": {
             "outlinewidth": 0,
             "ticks": ""
            },
            "type": "mesh3d"
           }
          ],
          "parcoords": [
           {
            "line": {
             "colorbar": {
              "outlinewidth": 0,
              "ticks": ""
             }
            },
            "type": "parcoords"
           }
          ],
          "pie": [
           {
            "automargin": true,
            "type": "pie"
           }
          ],
          "scatter": [
           {
            "fillpattern": {
             "fillmode": "overlay",
             "size": 10,
             "solidity": 0.2
            },
            "type": "scatter"
           }
          ],
          "scatter3d": [
           {
            "line": {
             "colorbar": {
              "outlinewidth": 0,
              "ticks": ""
             }
            },
            "marker": {
             "colorbar": {
              "outlinewidth": 0,
              "ticks": ""
             }
            },
            "type": "scatter3d"
           }
          ],
          "scattercarpet": [
           {
            "marker": {
             "colorbar": {
              "outlinewidth": 0,
              "ticks": ""
             }
            },
            "type": "scattercarpet"
           }
          ],
          "scattergeo": [
           {
            "marker": {
             "colorbar": {
              "outlinewidth": 0,
              "ticks": ""
             }
            },
            "type": "scattergeo"
           }
          ],
          "scattergl": [
           {
            "marker": {
             "colorbar": {
              "outlinewidth": 0,
              "ticks": ""
             }
            },
            "type": "scattergl"
           }
          ],
          "scattermapbox": [
           {
            "marker": {
             "colorbar": {
              "outlinewidth": 0,
              "ticks": ""
             }
            },
            "type": "scattermapbox"
           }
          ],
          "scatterpolar": [
           {
            "marker": {
             "colorbar": {
              "outlinewidth": 0,
              "ticks": ""
             }
            },
            "type": "scatterpolar"
           }
          ],
          "scatterpolargl": [
           {
            "marker": {
             "colorbar": {
              "outlinewidth": 0,
              "ticks": ""
             }
            },
            "type": "scatterpolargl"
           }
          ],
          "scatterternary": [
           {
            "marker": {
             "colorbar": {
              "outlinewidth": 0,
              "ticks": ""
             }
            },
            "type": "scatterternary"
           }
          ],
          "surface": [
           {
            "colorbar": {
             "outlinewidth": 0,
             "ticks": ""
            },
            "colorscale": [
             [
              0,
              "#0d0887"
             ],
             [
              0.1111111111111111,
              "#46039f"
             ],
             [
              0.2222222222222222,
              "#7201a8"
             ],
             [
              0.3333333333333333,
              "#9c179e"
             ],
             [
              0.4444444444444444,
              "#bd3786"
             ],
             [
              0.5555555555555556,
              "#d8576b"
             ],
             [
              0.6666666666666666,
              "#ed7953"
             ],
             [
              0.7777777777777778,
              "#fb9f3a"
             ],
             [
              0.8888888888888888,
              "#fdca26"
             ],
             [
              1,
              "#f0f921"
             ]
            ],
            "type": "surface"
           }
          ],
          "table": [
           {
            "cells": {
             "fill": {
              "color": "#EBF0F8"
             },
             "line": {
              "color": "white"
             }
            },
            "header": {
             "fill": {
              "color": "#C8D4E3"
             },
             "line": {
              "color": "white"
             }
            },
            "type": "table"
           }
          ]
         },
         "layout": {
          "annotationdefaults": {
           "arrowcolor": "#2a3f5f",
           "arrowhead": 0,
           "arrowwidth": 1
          },
          "autotypenumbers": "strict",
          "coloraxis": {
           "colorbar": {
            "outlinewidth": 0,
            "ticks": ""
           }
          },
          "colorscale": {
           "diverging": [
            [
             0,
             "#8e0152"
            ],
            [
             0.1,
             "#c51b7d"
            ],
            [
             0.2,
             "#de77ae"
            ],
            [
             0.3,
             "#f1b6da"
            ],
            [
             0.4,
             "#fde0ef"
            ],
            [
             0.5,
             "#f7f7f7"
            ],
            [
             0.6,
             "#e6f5d0"
            ],
            [
             0.7,
             "#b8e186"
            ],
            [
             0.8,
             "#7fbc41"
            ],
            [
             0.9,
             "#4d9221"
            ],
            [
             1,
             "#276419"
            ]
           ],
           "sequential": [
            [
             0,
             "#0d0887"
            ],
            [
             0.1111111111111111,
             "#46039f"
            ],
            [
             0.2222222222222222,
             "#7201a8"
            ],
            [
             0.3333333333333333,
             "#9c179e"
            ],
            [
             0.4444444444444444,
             "#bd3786"
            ],
            [
             0.5555555555555556,
             "#d8576b"
            ],
            [
             0.6666666666666666,
             "#ed7953"
            ],
            [
             0.7777777777777778,
             "#fb9f3a"
            ],
            [
             0.8888888888888888,
             "#fdca26"
            ],
            [
             1,
             "#f0f921"
            ]
           ],
           "sequentialminus": [
            [
             0,
             "#0d0887"
            ],
            [
             0.1111111111111111,
             "#46039f"
            ],
            [
             0.2222222222222222,
             "#7201a8"
            ],
            [
             0.3333333333333333,
             "#9c179e"
            ],
            [
             0.4444444444444444,
             "#bd3786"
            ],
            [
             0.5555555555555556,
             "#d8576b"
            ],
            [
             0.6666666666666666,
             "#ed7953"
            ],
            [
             0.7777777777777778,
             "#fb9f3a"
            ],
            [
             0.8888888888888888,
             "#fdca26"
            ],
            [
             1,
             "#f0f921"
            ]
           ]
          },
          "colorway": [
           "#636efa",
           "#EF553B",
           "#00cc96",
           "#ab63fa",
           "#FFA15A",
           "#19d3f3",
           "#FF6692",
           "#B6E880",
           "#FF97FF",
           "#FECB52"
          ],
          "font": {
           "color": "#2a3f5f"
          },
          "geo": {
           "bgcolor": "white",
           "lakecolor": "white",
           "landcolor": "white",
           "showlakes": true,
           "showland": true,
           "subunitcolor": "#C8D4E3"
          },
          "hoverlabel": {
           "align": "left"
          },
          "hovermode": "closest",
          "mapbox": {
           "style": "light"
          },
          "paper_bgcolor": "white",
          "plot_bgcolor": "white",
          "polar": {
           "angularaxis": {
            "gridcolor": "#EBF0F8",
            "linecolor": "#EBF0F8",
            "ticks": ""
           },
           "bgcolor": "white",
           "radialaxis": {
            "gridcolor": "#EBF0F8",
            "linecolor": "#EBF0F8",
            "ticks": ""
           }
          },
          "scene": {
           "xaxis": {
            "backgroundcolor": "white",
            "gridcolor": "#DFE8F3",
            "gridwidth": 2,
            "linecolor": "#EBF0F8",
            "showbackground": true,
            "ticks": "",
            "zerolinecolor": "#EBF0F8"
           },
           "yaxis": {
            "backgroundcolor": "white",
            "gridcolor": "#DFE8F3",
            "gridwidth": 2,
            "linecolor": "#EBF0F8",
            "showbackground": true,
            "ticks": "",
            "zerolinecolor": "#EBF0F8"
           },
           "zaxis": {
            "backgroundcolor": "white",
            "gridcolor": "#DFE8F3",
            "gridwidth": 2,
            "linecolor": "#EBF0F8",
            "showbackground": true,
            "ticks": "",
            "zerolinecolor": "#EBF0F8"
           }
          },
          "shapedefaults": {
           "line": {
            "color": "#2a3f5f"
           }
          },
          "ternary": {
           "aaxis": {
            "gridcolor": "#DFE8F3",
            "linecolor": "#A2B1C6",
            "ticks": ""
           },
           "baxis": {
            "gridcolor": "#DFE8F3",
            "linecolor": "#A2B1C6",
            "ticks": ""
           },
           "bgcolor": "white",
           "caxis": {
            "gridcolor": "#DFE8F3",
            "linecolor": "#A2B1C6",
            "ticks": ""
           }
          },
          "title": {
           "x": 0.05
          },
          "xaxis": {
           "automargin": true,
           "gridcolor": "#EBF0F8",
           "linecolor": "#EBF0F8",
           "ticks": "",
           "title": {
            "standoff": 15
           },
           "zerolinecolor": "#EBF0F8",
           "zerolinewidth": 2
          },
          "yaxis": {
           "automargin": true,
           "gridcolor": "#EBF0F8",
           "linecolor": "#EBF0F8",
           "ticks": "",
           "title": {
            "standoff": 15
           },
           "zerolinecolor": "#EBF0F8",
           "zerolinewidth": 2
          }
         }
        },
        "title": {
         "font": {
          "color": "Black",
          "size": 22
         },
         "text": "Topic Word Scores",
         "x": 0.5,
         "xanchor": "center",
         "yanchor": "top"
        },
        "width": 1000,
        "xaxis": {
         "anchor": "y",
         "domain": [
          0,
          0.175
         ],
         "showgrid": true
        },
        "xaxis2": {
         "anchor": "y2",
         "domain": [
          0.275,
          0.45
         ],
         "showgrid": true
        },
        "xaxis3": {
         "anchor": "y3",
         "domain": [
          0.55,
          0.7250000000000001
         ],
         "showgrid": true
        },
        "xaxis4": {
         "anchor": "y4",
         "domain": [
          0.825,
          1
         ],
         "showgrid": true
        },
        "xaxis5": {
         "anchor": "y5",
         "domain": [
          0,
          0.175
         ],
         "showgrid": true
        },
        "xaxis6": {
         "anchor": "y6",
         "domain": [
          0.275,
          0.45
         ],
         "showgrid": true
        },
        "xaxis7": {
         "anchor": "y7",
         "domain": [
          0.55,
          0.7250000000000001
         ],
         "showgrid": true
        },
        "xaxis8": {
         "anchor": "y8",
         "domain": [
          0.825,
          1
         ],
         "showgrid": true
        },
        "yaxis": {
         "anchor": "x",
         "domain": [
          0.6000000000000001,
          1
         ],
         "showgrid": true
        },
        "yaxis2": {
         "anchor": "x2",
         "domain": [
          0.6000000000000001,
          1
         ],
         "showgrid": true
        },
        "yaxis3": {
         "anchor": "x3",
         "domain": [
          0.6000000000000001,
          1
         ],
         "showgrid": true
        },
        "yaxis4": {
         "anchor": "x4",
         "domain": [
          0.6000000000000001,
          1
         ],
         "showgrid": true
        },
        "yaxis5": {
         "anchor": "x5",
         "domain": [
          0,
          0.4
         ],
         "showgrid": true
        },
        "yaxis6": {
         "anchor": "x6",
         "domain": [
          0,
          0.4
         ],
         "showgrid": true
        },
        "yaxis7": {
         "anchor": "x7",
         "domain": [
          0,
          0.4
         ],
         "showgrid": true
        },
        "yaxis8": {
         "anchor": "x8",
         "domain": [
          0,
          0.4
         ],
         "showgrid": true
        }
       }
      }
     },
     "metadata": {},
     "output_type": "display_data"
    }
   ],
   "source": [
    "topic_model.visualize_barchart()"
   ]
  }
 ],
 "metadata": {
  "kernelspec": {
   "display_name": "Python 3",
   "language": "python",
   "name": "python3"
  },
  "language_info": {
   "codemirror_mode": {
    "name": "ipython",
    "version": 3
   },
   "file_extension": ".py",
   "mimetype": "text/x-python",
   "name": "python",
   "nbconvert_exporter": "python",
   "pygments_lexer": "ipython3",
   "version": "3.10.4"
  },
  "orig_nbformat": 4
 },
 "nbformat": 4,
 "nbformat_minor": 2
}
